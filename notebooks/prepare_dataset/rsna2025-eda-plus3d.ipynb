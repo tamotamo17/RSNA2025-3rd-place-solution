{
 "cells": [
  {
   "cell_type": "code",
   "execution_count": 1,
   "id": "00fd7c57",
   "metadata": {
    "execution": {
     "iopub.execute_input": "2025-09-16T10:18:37.296861Z",
     "iopub.status.busy": "2025-09-16T10:18:37.296539Z",
     "iopub.status.idle": "2025-09-16T10:18:37.301745Z",
     "shell.execute_reply": "2025-09-16T10:18:37.300744Z"
    },
    "papermill": {
     "duration": 0.020352,
     "end_time": "2025-09-16T10:18:37.303869",
     "exception": false,
     "start_time": "2025-09-16T10:18:37.283517",
     "status": "completed"
    },
    "tags": []
   },
   "outputs": [],
   "source": [
    "# !python -m pip install -U \"pylibjpeg[libjpeg]\" pylibjpeg-libjpeg"
   ]
  },
  {
   "cell_type": "code",
   "execution_count": 2,
   "id": "23d1f327",
   "metadata": {
    "execution": {
     "iopub.execute_input": "2025-09-16T10:18:37.325098Z",
     "iopub.status.busy": "2025-09-16T10:18:37.324740Z",
     "iopub.status.idle": "2025-09-16T10:18:37.329182Z",
     "shell.execute_reply": "2025-09-16T10:18:37.328309Z"
    },
    "papermill": {
     "duration": 0.016727,
     "end_time": "2025-09-16T10:18:37.330792",
     "exception": false,
     "start_time": "2025-09-16T10:18:37.314065",
     "status": "completed"
    },
    "tags": []
   },
   "outputs": [],
   "source": [
    "# !pip install monai"
   ]
  },
  {
   "cell_type": "code",
   "execution_count": 3,
   "id": "ca1cca61",
   "metadata": {
    "execution": {
     "iopub.execute_input": "2025-09-16T10:18:37.352627Z",
     "iopub.status.busy": "2025-09-16T10:18:37.352309Z",
     "iopub.status.idle": "2025-09-16T10:18:43.122230Z",
     "shell.execute_reply": "2025-09-16T10:18:43.121062Z"
    },
    "papermill": {
     "duration": 5.783534,
     "end_time": "2025-09-16T10:18:43.124170",
     "exception": false,
     "start_time": "2025-09-16T10:18:37.340636",
     "status": "completed"
    },
    "tags": []
   },
   "outputs": [
    {
     "name": "stdout",
     "output_type": "stream",
     "text": [
      "Collecting iterative-stratification\r\n",
      "  Downloading iterative_stratification-0.1.9-py3-none-any.whl.metadata (1.3 kB)\r\n",
      "Requirement already satisfied: numpy in /usr/local/lib/python3.11/dist-packages (from iterative-stratification) (1.26.4)\r\n",
      "Requirement already satisfied: scipy in /usr/local/lib/python3.11/dist-packages (from iterative-stratification) (1.15.3)\r\n",
      "Requirement already satisfied: scikit-learn in /usr/local/lib/python3.11/dist-packages (from iterative-stratification) (1.2.2)\r\n",
      "Requirement already satisfied: mkl_fft in /usr/local/lib/python3.11/dist-packages (from numpy->iterative-stratification) (1.3.8)\r\n",
      "Requirement already satisfied: mkl_random in /usr/local/lib/python3.11/dist-packages (from numpy->iterative-stratification) (1.2.4)\r\n",
      "Requirement already satisfied: mkl_umath in /usr/local/lib/python3.11/dist-packages (from numpy->iterative-stratification) (0.1.1)\r\n",
      "Requirement already satisfied: mkl in /usr/local/lib/python3.11/dist-packages (from numpy->iterative-stratification) (2025.2.0)\r\n",
      "Requirement already satisfied: tbb4py in /usr/local/lib/python3.11/dist-packages (from numpy->iterative-stratification) (2022.2.0)\r\n",
      "Requirement already satisfied: mkl-service in /usr/local/lib/python3.11/dist-packages (from numpy->iterative-stratification) (2.4.1)\r\n",
      "Requirement already satisfied: joblib>=1.1.1 in /usr/local/lib/python3.11/dist-packages (from scikit-learn->iterative-stratification) (1.5.1)\r\n",
      "Requirement already satisfied: threadpoolctl>=2.0.0 in /usr/local/lib/python3.11/dist-packages (from scikit-learn->iterative-stratification) (3.6.0)\r\n",
      "Requirement already satisfied: intel-openmp<2026,>=2024 in /usr/local/lib/python3.11/dist-packages (from mkl->numpy->iterative-stratification) (2024.2.0)\r\n",
      "Requirement already satisfied: tbb==2022.* in /usr/local/lib/python3.11/dist-packages (from mkl->numpy->iterative-stratification) (2022.2.0)\r\n",
      "Requirement already satisfied: tcmlib==1.* in /usr/local/lib/python3.11/dist-packages (from tbb==2022.*->mkl->numpy->iterative-stratification) (1.4.0)\r\n",
      "Requirement already satisfied: intel-cmplr-lib-rt in /usr/local/lib/python3.11/dist-packages (from mkl_umath->numpy->iterative-stratification) (2024.2.0)\r\n",
      "Requirement already satisfied: intel-cmplr-lib-ur==2024.2.0 in /usr/local/lib/python3.11/dist-packages (from intel-openmp<2026,>=2024->mkl->numpy->iterative-stratification) (2024.2.0)\r\n",
      "Downloading iterative_stratification-0.1.9-py3-none-any.whl (8.5 kB)\r\n",
      "Installing collected packages: iterative-stratification\r\n",
      "Successfully installed iterative-stratification-0.1.9\r\n"
     ]
    }
   ],
   "source": [
    "!python -m pip install iterative-stratification"
   ]
  },
  {
   "cell_type": "code",
   "execution_count": 4,
   "id": "87d54d33",
   "metadata": {
    "_cell_guid": "b1076dfc-b9ad-4769-8c92-a6c4dae69d19",
    "_uuid": "8f2839f25d086af736a60e9eeb907d3b93b6e0e5",
    "execution": {
     "iopub.execute_input": "2025-09-16T10:18:43.146021Z",
     "iopub.status.busy": "2025-09-16T10:18:43.145643Z",
     "iopub.status.idle": "2025-09-16T10:18:48.719628Z",
     "shell.execute_reply": "2025-09-16T10:18:48.718367Z"
    },
    "papermill": {
     "duration": 5.587137,
     "end_time": "2025-09-16T10:18:48.721431",
     "exception": false,
     "start_time": "2025-09-16T10:18:43.134294",
     "status": "completed"
    },
    "tags": []
   },
   "outputs": [],
   "source": [
    "import os\n",
    "from pathlib import Path\n",
    "from tqdm import tqdm\n",
    "import copy\n",
    "import ast\n",
    "from collections import defaultdict, Counter\n",
    "from glob import glob\n",
    "\n",
    "import numpy as np # linear algebra\n",
    "import pandas as pd # data processing, CSV file I/O (e.g. pd.read_csv)\n",
    "import matplotlib.pyplot as plt\n",
    "import nibabel as nib\n",
    "from skmultilearn.model_selection import IterativeStratification\n",
    "import cv2\n",
    "from scipy.ndimage import zoom\n",
    "import pydicom\n",
    "from iterstrat.ml_stratifiers import MultilabelStratifiedKFold"
   ]
  },
  {
   "cell_type": "code",
   "execution_count": 5,
   "id": "c027e095",
   "metadata": {
    "execution": {
     "iopub.execute_input": "2025-09-16T10:18:48.745034Z",
     "iopub.status.busy": "2025-09-16T10:18:48.744534Z",
     "iopub.status.idle": "2025-09-16T10:18:48.816444Z",
     "shell.execute_reply": "2025-09-16T10:18:48.815526Z"
    },
    "papermill": {
     "duration": 0.085596,
     "end_time": "2025-09-16T10:18:48.818167",
     "exception": false,
     "start_time": "2025-09-16T10:18:48.732571",
     "status": "completed"
    },
    "tags": []
   },
   "outputs": [],
   "source": [
    "df = pd.read_csv('/kaggle/input/rsna-intracranial-aneurysm-detection/train.csv')\n",
    "df_loc = pd.read_csv('/kaggle/input/rsna-intracranial-aneurysm-detection/train_localizers.csv')"
   ]
  },
  {
   "cell_type": "code",
   "execution_count": 6,
   "id": "8d7c89c9",
   "metadata": {
    "execution": {
     "iopub.execute_input": "2025-09-16T10:18:48.840639Z",
     "iopub.status.busy": "2025-09-16T10:18:48.840329Z",
     "iopub.status.idle": "2025-09-16T10:18:48.859168Z",
     "shell.execute_reply": "2025-09-16T10:18:48.857842Z"
    },
    "papermill": {
     "duration": 0.03241,
     "end_time": "2025-09-16T10:18:48.860810",
     "exception": false,
     "start_time": "2025-09-16T10:18:48.828400",
     "status": "completed"
    },
    "tags": []
   },
   "outputs": [
    {
     "data": {
      "text/plain": [
       "Aneurysm Present\n",
       "0    2484\n",
       "1    1864\n",
       "Name: count, dtype: int64"
      ]
     },
     "execution_count": 6,
     "metadata": {},
     "output_type": "execute_result"
    }
   ],
   "source": [
    "df['Aneurysm Present'].value_counts()"
   ]
  },
  {
   "cell_type": "code",
   "execution_count": 7,
   "id": "a524d360",
   "metadata": {
    "execution": {
     "iopub.execute_input": "2025-09-16T10:18:48.883484Z",
     "iopub.status.busy": "2025-09-16T10:18:48.883118Z",
     "iopub.status.idle": "2025-09-16T10:18:48.909719Z",
     "shell.execute_reply": "2025-09-16T10:18:48.908606Z"
    },
    "papermill": {
     "duration": 0.040084,
     "end_time": "2025-09-16T10:18:48.911577",
     "exception": false,
     "start_time": "2025-09-16T10:18:48.871493",
     "status": "completed"
    },
    "tags": []
   },
   "outputs": [
    {
     "data": {
      "text/html": [
       "<div>\n",
       "<style scoped>\n",
       "    .dataframe tbody tr th:only-of-type {\n",
       "        vertical-align: middle;\n",
       "    }\n",
       "\n",
       "    .dataframe tbody tr th {\n",
       "        vertical-align: top;\n",
       "    }\n",
       "\n",
       "    .dataframe thead th {\n",
       "        text-align: right;\n",
       "    }\n",
       "</style>\n",
       "<table border=\"1\" class=\"dataframe\">\n",
       "  <thead>\n",
       "    <tr style=\"text-align: right;\">\n",
       "      <th></th>\n",
       "      <th>SeriesInstanceUID</th>\n",
       "      <th>SOPInstanceUID</th>\n",
       "      <th>coordinates</th>\n",
       "      <th>location</th>\n",
       "    </tr>\n",
       "  </thead>\n",
       "  <tbody>\n",
       "    <tr>\n",
       "      <th>0</th>\n",
       "      <td>1.2.826.0.1.3680043.8.498.10005158603912009425...</td>\n",
       "      <td>1.2.826.0.1.3680043.8.498.10775329348174902199...</td>\n",
       "      <td>{'x': 258.3621186176837, 'y': 261.359900373599}</td>\n",
       "      <td>Other Posterior Circulation</td>\n",
       "    </tr>\n",
       "    <tr>\n",
       "      <th>1</th>\n",
       "      <td>1.2.826.0.1.3680043.8.498.10022796280698534221...</td>\n",
       "      <td>1.2.826.0.1.3680043.8.498.53868409774237283281...</td>\n",
       "      <td>{'x': 194.87253141831238, 'y': 178.32675044883...</td>\n",
       "      <td>Right Middle Cerebral Artery</td>\n",
       "    </tr>\n",
       "    <tr>\n",
       "      <th>2</th>\n",
       "      <td>1.2.826.0.1.3680043.8.498.10023411164590664678...</td>\n",
       "      <td>1.2.826.0.1.3680043.8.498.24186535344744886473...</td>\n",
       "      <td>{'x': 189.23979878597123, 'y': 209.19184886465...</td>\n",
       "      <td>Right Middle Cerebral Artery</td>\n",
       "    </tr>\n",
       "    <tr>\n",
       "      <th>3</th>\n",
       "      <td>1.2.826.0.1.3680043.8.498.10030095840917973694...</td>\n",
       "      <td>1.2.826.0.1.3680043.8.498.75217084841854214544...</td>\n",
       "      <td>{'x': 208.2805049088359, 'y': 229.78962131837307}</td>\n",
       "      <td>Right Infraclinoid Internal Carotid Artery</td>\n",
       "    </tr>\n",
       "    <tr>\n",
       "      <th>4</th>\n",
       "      <td>1.2.826.0.1.3680043.8.498.10034081836061566510...</td>\n",
       "      <td>1.2.826.0.1.3680043.8.498.71237104731452368587...</td>\n",
       "      <td>{'x': 249.86745590416498, 'y': 220.623044646393}</td>\n",
       "      <td>Anterior Communicating Artery</td>\n",
       "    </tr>\n",
       "    <tr>\n",
       "      <th>...</th>\n",
       "      <td>...</td>\n",
       "      <td>...</td>\n",
       "      <td>...</td>\n",
       "      <td>...</td>\n",
       "    </tr>\n",
       "    <tr>\n",
       "      <th>2246</th>\n",
       "      <td>1.2.826.0.1.3680043.8.498.99892390884723813599...</td>\n",
       "      <td>1.2.826.0.1.3680043.8.498.12398549862508001109...</td>\n",
       "      <td>{'x': 139.11888111888112, 'y': 283.97202797202...</td>\n",
       "      <td>Right Middle Cerebral Artery</td>\n",
       "    </tr>\n",
       "    <tr>\n",
       "      <th>2247</th>\n",
       "      <td>1.2.826.0.1.3680043.8.498.99892390884723813599...</td>\n",
       "      <td>1.2.826.0.1.3680043.8.498.12398549862508001109...</td>\n",
       "      <td>{'x': 63.132075471698116, 'y': 195.8238993710692}</td>\n",
       "      <td>Left Middle Cerebral Artery</td>\n",
       "    </tr>\n",
       "    <tr>\n",
       "      <th>2248</th>\n",
       "      <td>1.2.826.0.1.3680043.8.498.99892390884723813599...</td>\n",
       "      <td>1.2.826.0.1.3680043.8.498.21598979799967012280...</td>\n",
       "      <td>{'x': 14.510769230769231, 'y': 247.53230769230...</td>\n",
       "      <td>Right Middle Cerebral Artery</td>\n",
       "    </tr>\n",
       "    <tr>\n",
       "      <th>2249</th>\n",
       "      <td>1.2.826.0.1.3680043.8.498.99892390884723813599...</td>\n",
       "      <td>1.2.826.0.1.3680043.8.498.21598979799967012280...</td>\n",
       "      <td>{'x': 167.3230769230769, 'y': 265.64923076923077}</td>\n",
       "      <td>Left Middle Cerebral Artery</td>\n",
       "    </tr>\n",
       "    <tr>\n",
       "      <th>2250</th>\n",
       "      <td>1.2.826.0.1.3680043.8.498.99985209798463601651...</td>\n",
       "      <td>1.2.826.0.1.3680043.8.498.65157374409757364881...</td>\n",
       "      <td>{'x': 330.8564128130039, 'y': 220.45464602175602}</td>\n",
       "      <td>Left Middle Cerebral Artery</td>\n",
       "    </tr>\n",
       "  </tbody>\n",
       "</table>\n",
       "<p>2251 rows × 4 columns</p>\n",
       "</div>"
      ],
      "text/plain": [
       "                                      SeriesInstanceUID  \\\n",
       "0     1.2.826.0.1.3680043.8.498.10005158603912009425...   \n",
       "1     1.2.826.0.1.3680043.8.498.10022796280698534221...   \n",
       "2     1.2.826.0.1.3680043.8.498.10023411164590664678...   \n",
       "3     1.2.826.0.1.3680043.8.498.10030095840917973694...   \n",
       "4     1.2.826.0.1.3680043.8.498.10034081836061566510...   \n",
       "...                                                 ...   \n",
       "2246  1.2.826.0.1.3680043.8.498.99892390884723813599...   \n",
       "2247  1.2.826.0.1.3680043.8.498.99892390884723813599...   \n",
       "2248  1.2.826.0.1.3680043.8.498.99892390884723813599...   \n",
       "2249  1.2.826.0.1.3680043.8.498.99892390884723813599...   \n",
       "2250  1.2.826.0.1.3680043.8.498.99985209798463601651...   \n",
       "\n",
       "                                         SOPInstanceUID  \\\n",
       "0     1.2.826.0.1.3680043.8.498.10775329348174902199...   \n",
       "1     1.2.826.0.1.3680043.8.498.53868409774237283281...   \n",
       "2     1.2.826.0.1.3680043.8.498.24186535344744886473...   \n",
       "3     1.2.826.0.1.3680043.8.498.75217084841854214544...   \n",
       "4     1.2.826.0.1.3680043.8.498.71237104731452368587...   \n",
       "...                                                 ...   \n",
       "2246  1.2.826.0.1.3680043.8.498.12398549862508001109...   \n",
       "2247  1.2.826.0.1.3680043.8.498.12398549862508001109...   \n",
       "2248  1.2.826.0.1.3680043.8.498.21598979799967012280...   \n",
       "2249  1.2.826.0.1.3680043.8.498.21598979799967012280...   \n",
       "2250  1.2.826.0.1.3680043.8.498.65157374409757364881...   \n",
       "\n",
       "                                            coordinates  \\\n",
       "0       {'x': 258.3621186176837, 'y': 261.359900373599}   \n",
       "1     {'x': 194.87253141831238, 'y': 178.32675044883...   \n",
       "2     {'x': 189.23979878597123, 'y': 209.19184886465...   \n",
       "3     {'x': 208.2805049088359, 'y': 229.78962131837307}   \n",
       "4      {'x': 249.86745590416498, 'y': 220.623044646393}   \n",
       "...                                                 ...   \n",
       "2246  {'x': 139.11888111888112, 'y': 283.97202797202...   \n",
       "2247  {'x': 63.132075471698116, 'y': 195.8238993710692}   \n",
       "2248  {'x': 14.510769230769231, 'y': 247.53230769230...   \n",
       "2249  {'x': 167.3230769230769, 'y': 265.64923076923077}   \n",
       "2250  {'x': 330.8564128130039, 'y': 220.45464602175602}   \n",
       "\n",
       "                                        location  \n",
       "0                    Other Posterior Circulation  \n",
       "1                   Right Middle Cerebral Artery  \n",
       "2                   Right Middle Cerebral Artery  \n",
       "3     Right Infraclinoid Internal Carotid Artery  \n",
       "4                  Anterior Communicating Artery  \n",
       "...                                          ...  \n",
       "2246                Right Middle Cerebral Artery  \n",
       "2247                 Left Middle Cerebral Artery  \n",
       "2248                Right Middle Cerebral Artery  \n",
       "2249                 Left Middle Cerebral Artery  \n",
       "2250                 Left Middle Cerebral Artery  \n",
       "\n",
       "[2251 rows x 4 columns]"
      ]
     },
     "execution_count": 7,
     "metadata": {},
     "output_type": "execute_result"
    }
   ],
   "source": [
    "df_loc"
   ]
  },
  {
   "cell_type": "code",
   "execution_count": 8,
   "id": "9bf7beb0",
   "metadata": {
    "execution": {
     "iopub.execute_input": "2025-09-16T10:18:48.934607Z",
     "iopub.status.busy": "2025-09-16T10:18:48.934229Z",
     "iopub.status.idle": "2025-09-16T10:18:48.942544Z",
     "shell.execute_reply": "2025-09-16T10:18:48.941111Z"
    },
    "papermill": {
     "duration": 0.021919,
     "end_time": "2025-09-16T10:18:48.944699",
     "exception": false,
     "start_time": "2025-09-16T10:18:48.922780",
     "status": "completed"
    },
    "tags": []
   },
   "outputs": [
    {
     "data": {
      "text/plain": [
       "('1.2.826.0.1.3680043.8.498.10005158603912009425635473100344077317',\n",
       " '1.2.826.0.1.3680043.8.498.10775329348174902199350466348663848346')"
      ]
     },
     "execution_count": 8,
     "metadata": {},
     "output_type": "execute_result"
    }
   ],
   "source": [
    "df_loc['SeriesInstanceUID'].iloc[0], df_loc['SOPInstanceUID'].iloc[0]"
   ]
  },
  {
   "cell_type": "code",
   "execution_count": 9,
   "id": "886edfec",
   "metadata": {
    "execution": {
     "iopub.execute_input": "2025-09-16T10:18:48.967278Z",
     "iopub.status.busy": "2025-09-16T10:18:48.966903Z",
     "iopub.status.idle": "2025-09-16T10:18:48.972472Z",
     "shell.execute_reply": "2025-09-16T10:18:48.971337Z"
    },
    "papermill": {
     "duration": 0.018928,
     "end_time": "2025-09-16T10:18:48.974215",
     "exception": false,
     "start_time": "2025-09-16T10:18:48.955287",
     "status": "completed"
    },
    "tags": []
   },
   "outputs": [],
   "source": [
    "def norm_img(img):\n",
    "    vmin = np.min(img)\n",
    "    vmax = np.max(img)\n",
    "    img = (img - vmin) / (vmax - vmin)\n",
    "    img = (img*255).astype(np.uint8)\n",
    "    return img"
   ]
  },
  {
   "cell_type": "code",
   "execution_count": 10,
   "id": "3d7f0ad9",
   "metadata": {
    "execution": {
     "iopub.execute_input": "2025-09-16T10:18:48.997329Z",
     "iopub.status.busy": "2025-09-16T10:18:48.996944Z",
     "iopub.status.idle": "2025-09-16T10:18:49.049669Z",
     "shell.execute_reply": "2025-09-16T10:18:49.048810Z"
    },
    "papermill": {
     "duration": 0.066737,
     "end_time": "2025-09-16T10:18:49.051490",
     "exception": false,
     "start_time": "2025-09-16T10:18:48.984753",
     "status": "completed"
    },
    "tags": []
   },
   "outputs": [],
   "source": [
    "from collections import Counter\n",
    "from typing import List, Tuple, Optional, Dict\n",
    "import os\n",
    "import numpy as np\n",
    "import pydicom\n",
    "from pydicom.multival import MultiValue\n",
    "from pydicom.valuerep import DSfloat\n",
    "\n",
    "\n",
    "class DicomVolumeFiles:\n",
    "    \"\"\"\n",
    "    目的：\n",
    "      - 2D：旧版と完全一致のメタデータ（= トップレベルのみ、補完・正規化なし）\n",
    "      - 3D（Enhanced / Multi-frame, PFFGSあり前提だがIOPの所在は多様）：\n",
    "          * IOPの所在を Shared → PerFrame走査 → Top-level → 無ければ IPP から推定\n",
    "          * slice position = dot( normal(IOP), IPP ) の昇順でフレームを並び替え\n",
    "          * file_paths は 3D では 1 件のみ\n",
    "          * 実効スケールは PixelSpacingEffective / SliceThicknessEffective / SpacingBetweenSlicesEffective\n",
    "          * TAGS は旧版互換（トップレベルだけコピー）。ただし 3D でトップレベル欠損時は\n",
    "            PFFGS/Shared から PixelSpacing / SliceThickness / SpacingBetweenSlices を\n",
    "            “欠損項目に限って” 補完（最頻値など）する\n",
    "    \"\"\"\n",
    "\n",
    "    TAGS = [\n",
    "        'BitsAllocated',\n",
    "        'BitsStored',\n",
    "        'Columns',\n",
    "        'FrameOfReferenceUID',\n",
    "        'HighBit',\n",
    "        'ImageOrientationPatient',\n",
    "        'ImagePositionPatient',\n",
    "        'InstanceNumber',\n",
    "        'Modality',\n",
    "        'PatientID',\n",
    "        'PhotometricInterpretation',\n",
    "        'PixelRepresentation',\n",
    "        'PixelSpacing',\n",
    "        'PlanarConfiguration',\n",
    "        'RescaleIntercept',\n",
    "        'RescaleSlope',\n",
    "        'RescaleType',\n",
    "        'Rows',\n",
    "        'SOPClassUID',\n",
    "        'SOPInstanceUID',\n",
    "        'SamplesPerPixel',\n",
    "        'SliceThickness',\n",
    "        'SpacingBetweenSlices',\n",
    "        'StudyInstanceUID',\n",
    "        'TransferSyntaxUID'\n",
    "    ]\n",
    "\n",
    "    def __init__(self, directory: str, plane: str = \"auto\", debug: bool = False):\n",
    "        self.plane = plane.lower()\n",
    "        assert self.plane in {\"axial\", \"sagittal\", \"coronal\", \"auto\"}\n",
    "        self.debug = debug\n",
    "\n",
    "        # 3D/マルチフレーム関連（補助情報）\n",
    "        self.is_multiframe: bool = False\n",
    "        self.n_frames: Optional[int] = None\n",
    "        self.frame_indices: Optional[List[int]] = None\n",
    "        self.read_order_like_2d: Optional[List[Tuple[str, int]]] = None\n",
    "        self.order_info: Optional[Dict] = None\n",
    "\n",
    "        # 共通\n",
    "        self.file_paths: List[str] = []\n",
    "        self.slice_positions: List[float] = []\n",
    "\n",
    "        # 実効スケール（互換維持のため TAGS は上書きしない）\n",
    "        self.PixelSpacingEffective: Optional[Tuple[float, float]] = None\n",
    "        self.SliceThicknessEffective: Optional[float] = None\n",
    "        self.SpacingBetweenSlicesEffective: Optional[float] = None\n",
    "\n",
    "        self._load_dicom_series(directory)\n",
    "\n",
    "    # ---------- 2D 従来の面推定・スライスキー（トップレベルのみ使用） ----------\n",
    "    def _slice_key(self, ds: pydicom.Dataset) -> float:\n",
    "        ipp = np.array(list(map(float, ds.ImagePositionPatient)))\n",
    "        if self.plane == \"axial\":\n",
    "            return ipp[2]\n",
    "        elif self.plane == \"sagittal\":\n",
    "            return ipp[0]\n",
    "        elif self.plane == \"coronal\":\n",
    "            return ipp[1]\n",
    "        else:\n",
    "            rx, ry, rz, cx, cy, cz = map(float, ds.ImageOrientationPatient)\n",
    "            n = np.cross([rx, ry, rz], [cx, cy, cz])\n",
    "            return float(np.dot(ipp, n))\n",
    "\n",
    "    def _infer_plane(self, ds: pydicom.Dataset) -> str:\n",
    "        rx, ry, rz, cx, cy, cz = map(float, ds.ImageOrientationPatient)\n",
    "        n = np.cross([rx, ry, rz], [cx, cy, cz])\n",
    "        axis = int(np.argmax(np.abs(n)))  # 0:X,1:Y,2:Z\n",
    "        return [\"sagittal\", \"coronal\", \"axial\"][axis]\n",
    "\n",
    "    def _infer_plane_from_normal(self, n: np.ndarray) -> str:\n",
    "        axis = int(np.argmax(np.abs(n)))  # 0:X,1:Y,2:Z\n",
    "        return [\"sagittal\", \"coronal\", \"axial\"][axis]\n",
    "\n",
    "    # ---------- 3D 用ヘルパ（属性へは書き込まない：内部計算専用） ----------\n",
    "    @staticmethod\n",
    "    def _normalize_vec(v: np.ndarray) -> Optional[np.ndarray]:\n",
    "        nrm = float(np.linalg.norm(v))\n",
    "        if nrm == 0.0 or not np.isfinite(nrm):\n",
    "            return None\n",
    "        return v / nrm\n",
    "\n",
    "    def _get_iop_from_shared(self, ds: pydicom.Dataset) -> Optional[List[float]]:\n",
    "        if 'SharedFunctionalGroupsSequence' in ds:\n",
    "            sfg = ds.SharedFunctionalGroupsSequence[0]\n",
    "            if 'PlaneOrientationSequence' in sfg:\n",
    "                return [float(x) for x in sfg.PlaneOrientationSequence[0].ImageOrientationPatient]\n",
    "        return None\n",
    "\n",
    "    def _get_iop_from_pffgs(self, ds: pydicom.Dataset) -> Optional[List[float]]:\n",
    "        if 'PerFrameFunctionalGroupsSequence' in ds:\n",
    "            for fgs in ds.PerFrameFunctionalGroupsSequence:\n",
    "                if 'PlaneOrientationSequence' in fgs:\n",
    "                    return [float(x) for x in fgs.PlaneOrientationSequence[0].ImageOrientationPatient]\n",
    "        return None\n",
    "\n",
    "    def _get_positions_from_pffgs(self, ds: pydicom.Dataset) -> List[Optional[np.ndarray]]:\n",
    "        pos: List[Optional[np.ndarray]] = []\n",
    "        if 'PerFrameFunctionalGroupsSequence' in ds:\n",
    "            for fgs in ds.PerFrameFunctionalGroupsSequence:\n",
    "                if 'PlanePositionSequence' in fgs:\n",
    "                    ipp = fgs.PlanePositionSequence[0].ImagePositionPatient\n",
    "                    pos.append(np.array([float(v) for v in ipp], dtype=float))\n",
    "                else:\n",
    "                    pos.append(None)\n",
    "        return pos\n",
    "\n",
    "    def _estimate_normal_from_positions(self, pos_list: List[Optional[np.ndarray]]) -> Optional[np.ndarray]:\n",
    "        pts = np.array([p for p in pos_list if p is not None], dtype=float)\n",
    "        if pts.shape[0] < 2:\n",
    "            return None\n",
    "        # PCA の第一主成分 or 端点差で方向推定\n",
    "        pts_c = pts - pts.mean(axis=0, keepdims=True)\n",
    "        try:\n",
    "            _, _, vh = np.linalg.svd(pts_c, full_matrices=False)\n",
    "            axis = vh[0]  # 最大分散方向\n",
    "        except Exception:\n",
    "            axis = pts[-1] - pts[0]\n",
    "        return self._normalize_vec(axis)\n",
    "\n",
    "    def _pick_normal(self, ds: pydicom.Dataset, pos_list: List[Optional[np.ndarray]]) -> Tuple[np.ndarray, str]:\n",
    "        \"\"\"\n",
    "        IOP 正規化法線 n と、その取得ソースを返す。\n",
    "        優先度: Shared → PerFrame走査 → Top-level → IPP推定\n",
    "        \"\"\"\n",
    "        # 1) Shared\n",
    "        iop = self._get_iop_from_shared(ds)\n",
    "        if iop is not None:\n",
    "            r = np.array(iop[:3], dtype=float); c = np.array(iop[3:], dtype=float)\n",
    "            n = self._normalize_vec(np.cross(r, c))\n",
    "            if n is not None:\n",
    "                return n, \"shared\"\n",
    "\n",
    "        # 2) PerFrame 走査\n",
    "        iop = self._get_iop_from_pffgs(ds)\n",
    "        if iop is not None:\n",
    "            r = np.array(iop[:3], dtype=float); c = np.array(iop[3:], dtype=float)\n",
    "            n = self._normalize_vec(np.cross(r, c))\n",
    "            if n is not None:\n",
    "                return n, \"per-frame\"\n",
    "\n",
    "        # 3) Top-level\n",
    "        if 'ImageOrientationPatient' in ds:\n",
    "            iop = [float(x) for x in ds.ImageOrientationPatient]\n",
    "            r = np.array(iop[:3], dtype=float); c = np.array(iop[3:], dtype=float)\n",
    "            n = self._normalize_vec(np.cross(r, c))\n",
    "            if n is not None:\n",
    "                return n, \"top-level\"\n",
    "\n",
    "        # 4) フォールバック：IPP から推定\n",
    "        n = self._estimate_normal_from_positions(pos_list)\n",
    "        if n is not None:\n",
    "            return n, \"ipp-pca\"\n",
    "\n",
    "        raise ValueError(\"IOP（向き）が取得・推定できませんでした。\")\n",
    "\n",
    "    def _pixel_measures_effective(self, ds: pydicom.Dataset) -> Tuple[Optional[Tuple[float, float]], Optional[float], Optional[float]]:\n",
    "        \"\"\"\n",
    "        実効 PixelSpacing / SliceThickness / SpacingBetweenSlices を返す。\n",
    "        優先度: Shared PixelMeasures → PerFrame(先頭で見つかったもの)\n",
    "        \"\"\"\n",
    "        dy = dx = th = sb = None\n",
    "        # Shared\n",
    "        if 'SharedFunctionalGroupsSequence' in ds:\n",
    "            sfg = ds.SharedFunctionalGroupsSequence[0]\n",
    "            if 'PixelMeasuresSequence' in sfg:\n",
    "                pm = sfg.PixelMeasuresSequence[0]\n",
    "                if 'PixelSpacing' in pm:\n",
    "                    dy, dx = [float(v) for v in pm.PixelSpacing]\n",
    "                if 'SliceThickness' in pm:\n",
    "                    th = float(pm.SliceThickness)\n",
    "                if 'SpacingBetweenSlices' in pm:\n",
    "                    sb = float(pm.SpacingBetweenSlices)\n",
    "        # PerFrame（見つからなかった項目だけ補完）\n",
    "        if (dy is None or dx is None or th is None or sb is None) and \\\n",
    "           'PerFrameFunctionalGroupsSequence' in ds:\n",
    "            for fgs in ds.PerFrameFunctionalGroupsSequence:\n",
    "                if 'PixelMeasuresSequence' in fgs:\n",
    "                    pm = fgs.PixelMeasuresSequence[0]\n",
    "                    if (dy is None or dx is None) and 'PixelSpacing' in pm:\n",
    "                        dy, dx = [float(v) for v in pm.PixelSpacing]\n",
    "                    if th is None and 'SliceThickness' in pm:\n",
    "                        th = float(pm.SliceThickness)\n",
    "                    if sb is None and 'SpacingBetweenSlices' in pm:\n",
    "                        sb = float(pm.SpacingBetweenSlices)\n",
    "                    if dy is not None and dx is not None and th is not None and sb is not None:\n",
    "                        break\n",
    "        return ((dy, dx) if (dy is not None and dx is not None) else None, th, sb)\n",
    "\n",
    "    def _backfill_spacing_tags_from_fgs(self, ds: pydicom.Dataset):\n",
    "        \"\"\"\n",
    "        3D向け：トップレベルの PixelSpacing/SliceThickness/SpacingBetweenSlices が欠損なら、\n",
    "        Shared/PFFGS から取得して TAGS に“欠損項目のみ”補完する（2D互換は崩さない）。\n",
    "        - PixelSpacing がフレームごとに変化する場合は、丸め(6桁)後の最頻値を代表値として採用。\n",
    "        \"\"\"\n",
    "        need_ps = getattr(self, 'PixelSpacing', None) is None\n",
    "        need_th = getattr(self, 'SliceThickness', None) is None\n",
    "        need_sb = getattr(self, 'SpacingBetweenSlices', None) is None\n",
    "        if not (need_ps or need_th or need_sb):\n",
    "            return\n",
    "\n",
    "        # 既存の実効値推定\n",
    "        ps_eff, th_eff, sb_eff = self._pixel_measures_effective(ds)\n",
    "\n",
    "        # PFFGS 全フレームの候補を集計\n",
    "        ps_list = []\n",
    "        th_list = []\n",
    "        sb_list = []\n",
    "        if 'PerFrameFunctionalGroupsSequence' in ds:\n",
    "            for fgs in ds.PerFrameFunctionalGroupsSequence:\n",
    "                if 'PixelMeasuresSequence' in fgs:\n",
    "                    pm = fgs.PixelMeasuresSequence[0]\n",
    "                    if 'PixelSpacing' in pm:\n",
    "                        dy, dx = [float(v) for v in pm.PixelSpacing]\n",
    "                        ps_list.append((dy, dx))\n",
    "                    if 'SliceThickness' in pm:\n",
    "                        th_list.append(float(pm.SliceThickness))\n",
    "                    if 'SpacingBetweenSlices' in pm:\n",
    "                        sb_list.append(float(pm.SpacingBetweenSlices))\n",
    "\n",
    "        # 代表値の選び方\n",
    "        def _mode_pair(pairs):\n",
    "            if not pairs:\n",
    "                return None\n",
    "            def key(p): return (round(p[0], 6), round(p[1], 6))\n",
    "            from collections import Counter as C2\n",
    "            k, _ = C2(key(p) for p in pairs).most_common(1)[0]\n",
    "            return (float(k[0]), float(k[1]))\n",
    "\n",
    "        def _mode_scalar(vals):\n",
    "            if not vals:\n",
    "                return None\n",
    "            from collections import Counter as C2\n",
    "            k, _ = C2(round(x, 6) for x in vals).most_common(1)[0]\n",
    "            return float(k)\n",
    "\n",
    "        # 欠損項目を優先順で埋める\n",
    "        if need_ps:\n",
    "            val = None\n",
    "            # Shared/PerFrame先頭（＝ps_eff）→ 全体モード → ps_eff（保険）\n",
    "            if ps_eff is not None:\n",
    "                val = ps_eff\n",
    "            m = _mode_pair(ps_list)\n",
    "            if m is not None:\n",
    "                val = m\n",
    "            if val is not None:\n",
    "                dy, dx = val\n",
    "                try:\n",
    "                    self.PixelSpacing = MultiValue(DSfloat, [dy, dx])\n",
    "                except Exception:\n",
    "                    self.PixelSpacing = [dy, dx]\n",
    "\n",
    "        if need_th:\n",
    "            val = th_eff if th_eff is not None else _mode_scalar(th_list)\n",
    "            if val is not None:\n",
    "                try:\n",
    "                    self.SliceThickness = DSfloat(val)\n",
    "                except Exception:\n",
    "                    self.SliceThickness = val\n",
    "\n",
    "        if need_sb:\n",
    "            val = sb_eff if sb_eff is not None else _mode_scalar(sb_list)\n",
    "            if val is not None:\n",
    "                try:\n",
    "                    self.SpacingBetweenSlices = DSfloat(val)\n",
    "                except Exception:\n",
    "                    self.SpacingBetweenSlices = val\n",
    "\n",
    "    # ---------- ロード本体 ----------\n",
    "    def _load_dicom_series(self, directory: str):\n",
    "        paths = [\n",
    "            os.path.join(directory, fn)\n",
    "            for fn in os.listdir(directory)\n",
    "            if os.path.isfile(os.path.join(directory, fn))\n",
    "        ]\n",
    "        if not paths:\n",
    "            raise ValueError(\"有効な DICOM ファイルが見つかりません。\")\n",
    "\n",
    "        sizes = []\n",
    "        multiframes = []\n",
    "        for p in paths:\n",
    "            try:\n",
    "                ds = pydicom.dcmread(p, stop_before_pixels=True)\n",
    "                sizes.append((int(ds.Rows), int(ds.Columns)))\n",
    "                if int(ds.get('NumberOfFrames', 1)) > 1 or 'PerFrameFunctionalGroupsSequence' in ds:\n",
    "                    multiframes.append((p, ds))\n",
    "            except Exception:\n",
    "                continue\n",
    "\n",
    "        if self.debug:\n",
    "            print('Num images:', len(paths))\n",
    "        if not sizes:\n",
    "            raise ValueError(\"Rows/Columns を取得できませんでした。\")\n",
    "\n",
    "        # ---- 3D（Enhanced / Multi-frame）経路 ----\n",
    "        if multiframes:\n",
    "            path, ds = multiframes[0]\n",
    "            self.is_multiframe = True\n",
    "\n",
    "            if 'PerFrameFunctionalGroupsSequence' not in ds:\n",
    "                raise ValueError(\"3D想定ですが PerFrameFunctionalGroupsSequence がありません。\")\n",
    "            pffgs = ds.PerFrameFunctionalGroupsSequence\n",
    "            self.n_frames = int(ds.get('NumberOfFrames', len(pffgs)))\n",
    "\n",
    "            # 位置（IPP）取得\n",
    "            pos_list = self._get_positions_from_pffgs(ds)\n",
    "            if not pos_list or all(p is None for p in pos_list):\n",
    "                raise ValueError(\"PerFrame の IPP（PlanePositionSequence）が取得できませんでした。\")\n",
    "\n",
    "            # 法線 n を取得（Shared → PerFrame走査 → Top-level → IPP推定）\n",
    "            n, n_source = self._pick_normal(ds, pos_list)\n",
    "\n",
    "            # slice position スカラー算出\n",
    "            scalars: List[float] = []\n",
    "            for p0 in pos_list:\n",
    "                scalars.append(float(np.dot(n, p0)) if p0 is not None else np.nan)\n",
    "\n",
    "            # 安定ソート：slice position 昇順（同値は元フレーム番号でタイブレーク）\n",
    "            idx_sorted = sorted(\n",
    "                range(len(scalars)),\n",
    "                key=lambda i: (np.nan_to_num(scalars[i], nan=np.inf), i)\n",
    "            )\n",
    "            # NaN は末尾へ\n",
    "            idx_sorted = [i for i in idx_sorted if not np.isnan(scalars[i])] + \\\n",
    "                         [i for i in idx_sorted if np.isnan(scalars[i])]\n",
    "\n",
    "            # 3D は file_paths を 1 件のみ保持\n",
    "            self.file_paths = [path]\n",
    "            self.frame_indices = idx_sorted\n",
    "            self.slice_positions = [scalars[i] for i in idx_sorted]\n",
    "            self.read_order_like_2d = [(path, i) for i in idx_sorted]\n",
    "\n",
    "            # plane='auto' は内部法線から決定（TAGSへは書かない）\n",
    "            if self.plane == \"auto\":\n",
    "                self.plane = self._infer_plane_from_normal(n)\n",
    "                if self.debug:\n",
    "                    print(f\"[auto] inferred plane = {self.plane} (source={n_source})\")\n",
    "\n",
    "            # 並び替え情報のメモ\n",
    "            self.order_info = {\n",
    "                \"method\": \"dot(normal(IOP or IPP-fit), IPP)\",\n",
    "                \"direction\": \"ascending\",\n",
    "                \"orientation_source\": n_source,   # 'shared'/'per-frame'/'top-level'/'ipp-pca'\n",
    "                \"frames\": len(idx_sorted),\n",
    "            }\n",
    "\n",
    "            # 実効スケール（TAGSは上書きしない）\n",
    "            ps_eff, th_eff, sb_eff = self._pixel_measures_effective(ds)\n",
    "            self.PixelSpacingEffective = ps_eff\n",
    "            self.SliceThicknessEffective = th_eff\n",
    "            self.SpacingBetweenSlicesEffective = sb_eff\n",
    "\n",
    "            # メタデータ（TAGS）は旧版完全一致：トップレベルだけをコピー（ピクセルも読む）\n",
    "            self._set_metadata_top_level_only(pydicom.dcmread(path))\n",
    "\n",
    "            # ★3Dのときに限り、トップレベル欠損項目は PFFGS/Shared から TAGS を補完\n",
    "            self._backfill_spacing_tags_from_fgs(ds)\n",
    "            return\n",
    "\n",
    "        # ---- 2D（従来スタック）経路：旧版完全一致 ----\n",
    "        mode_size, _ = Counter(sizes).most_common(1)[0]\n",
    "        if self.debug:\n",
    "            print(\"Chosen image size (Rows, Columns):\", mode_size)\n",
    "\n",
    "        dicom_files = []\n",
    "        for p in paths:\n",
    "            try:\n",
    "                ds = pydicom.dcmread(p, stop_before_pixels=True)\n",
    "\n",
    "                if self.plane == \"auto\":\n",
    "                    self.plane = self._infer_plane(ds)\n",
    "                    if self.debug:\n",
    "                        print(f\"[auto] inferred plane = {self.plane}\")\n",
    "\n",
    "                if (int(ds.Rows), int(ds.Columns)) != mode_size:\n",
    "                    print(\"Rows/Columnsと画像サイズが一致しません：\", int(ds.Rows), mode_size)\n",
    "                else:\n",
    "                    z = self._slice_key(ds) if \"ImagePositionPatient\" in ds else 0.0\n",
    "                    dicom_files.append((z, p))\n",
    "            except Exception:\n",
    "                continue\n",
    "\n",
    "        if not dicom_files:\n",
    "            raise ValueError(\"モードの Rows/Columns と一致する DICOM がありません。\")\n",
    "\n",
    "        dicom_files.sort(key=lambda t: t[0])\n",
    "        self.file_paths = [path for z, path in dicom_files]   # 2Dはファイル数ぶん\n",
    "        self.slice_positions = [z for z, path in dicom_files]\n",
    "        self.n_frames = None\n",
    "        self.frame_indices = None\n",
    "        self.read_order_like_2d = None\n",
    "\n",
    "        # 旧版と同じ：最初の1枚はピクセルも読む\n",
    "        ds0 = pydicom.dcmread(self.file_paths[0])\n",
    "        self._set_metadata_top_level_only(ds0)\n",
    "\n",
    "        # 実効スケール（2Dはトップレベルをそのまま）\n",
    "        if hasattr(ds0, 'PixelSpacing'):\n",
    "            try:\n",
    "                dy, dx = [float(v) for v in ds0.PixelSpacing]\n",
    "                self.PixelSpacingEffective = (dy, dx)\n",
    "            except Exception:\n",
    "                self.PixelSpacingEffective = None\n",
    "        self.SliceThicknessEffective = float(ds0.SliceThickness) if hasattr(ds0, 'SliceThickness') else None\n",
    "        self.SpacingBetweenSlicesEffective = float(ds0.SpacingBetweenSlices) if hasattr(ds0, 'SpacingBetweenSlices') else None\n",
    "\n",
    "    # ---------- メタデータ設定（旧版完全一致） ----------\n",
    "    def _set_metadata_top_level_only(self, ds: pydicom.Dataset):\n",
    "        \"\"\"トップレベルに存在する値だけをそのまま代入（補完・正規化なし）\"\"\"\n",
    "        for tag in self.TAGS:\n",
    "            setattr(self, tag, getattr(ds, tag, None))\n",
    "\n",
    "    # ---------- 公開プロパティ ----------\n",
    "    @property\n",
    "    def z_spacing(self) -> Optional[float]:\n",
    "        \"\"\"\n",
    "        隣接スライス間の平均間隔（mm）を返す（旧版と同じ計算）。\n",
    "        2D: self.slice_positions は各ファイルのスカラー位置\n",
    "        3D: self.slice_positions は各フレームのスカラー位置\n",
    "        \"\"\"\n",
    "        if not self.slice_positions or len(self.slice_positions) < 2:\n",
    "            return None\n",
    "        diffs = np.diff(sorted(self.slice_positions))\n",
    "        return float(np.mean(np.abs(diffs)))\n",
    "\n",
    "    # ---------- 補助：2D互換の読み出し計画 ----------\n",
    "    def get_ordered_read_plan(self) -> List[Tuple[str, Optional[int]]]:\n",
    "        \"\"\"\n",
    "        2D: [(path, None), ...]\n",
    "        3D: [(path, frame_index), ...]\n",
    "        \"\"\"\n",
    "        if self.is_multiframe:\n",
    "            if self.read_order_like_2d is not None:\n",
    "                return list(self.read_order_like_2d)\n",
    "            if self.file_paths and self.frame_indices:\n",
    "                return [(self.file_paths[0], i) for i in self.frame_indices]\n",
    "            return []\n",
    "        else:\n",
    "            return [(p, None) for p in self.file_paths]\n"
   ]
  },
  {
   "cell_type": "code",
   "execution_count": 11,
   "id": "d7eb4809",
   "metadata": {
    "execution": {
     "iopub.execute_input": "2025-09-16T10:18:49.074199Z",
     "iopub.status.busy": "2025-09-16T10:18:49.073864Z",
     "iopub.status.idle": "2025-09-16T10:18:51.167539Z",
     "shell.execute_reply": "2025-09-16T10:18:51.166499Z"
    },
    "papermill": {
     "duration": 2.107333,
     "end_time": "2025-09-16T10:18:51.169342",
     "exception": false,
     "start_time": "2025-09-16T10:18:49.062009",
     "status": "completed"
    },
    "tags": []
   },
   "outputs": [],
   "source": [
    "dcm = DicomVolumeFiles('/kaggle/input/rsna-intracranial-aneurysm-detection/series/1.2.826.0.1.3680043.8.498.10004044428023505108375152878107656647')\n",
    "len(dcm.file_paths)\n",
    "sp = dcm.slice_positions"
   ]
  },
  {
   "cell_type": "code",
   "execution_count": 12,
   "id": "e3ea9431",
   "metadata": {
    "execution": {
     "iopub.execute_input": "2025-09-16T10:18:51.191485Z",
     "iopub.status.busy": "2025-09-16T10:18:51.191130Z",
     "iopub.status.idle": "2025-09-16T10:18:51.197703Z",
     "shell.execute_reply": "2025-09-16T10:18:51.196520Z"
    },
    "papermill": {
     "duration": 0.019595,
     "end_time": "2025-09-16T10:18:51.199527",
     "exception": false,
     "start_time": "2025-09-16T10:18:51.179932",
     "status": "completed"
    },
    "tags": []
   },
   "outputs": [
    {
     "data": {
      "text/plain": [
       "'18'"
      ]
     },
     "execution_count": 12,
     "metadata": {},
     "output_type": "execute_result"
    }
   ],
   "source": [
    "dcm.SpacingBetweenSlices"
   ]
  },
  {
   "cell_type": "code",
   "execution_count": 13,
   "id": "fea2c42f",
   "metadata": {
    "execution": {
     "iopub.execute_input": "2025-09-16T10:18:51.221645Z",
     "iopub.status.busy": "2025-09-16T10:18:51.221342Z",
     "iopub.status.idle": "2025-09-16T10:18:51.229309Z",
     "shell.execute_reply": "2025-09-16T10:18:51.228119Z"
    },
    "papermill": {
     "duration": 0.020807,
     "end_time": "2025-09-16T10:18:51.230943",
     "exception": false,
     "start_time": "2025-09-16T10:18:51.210136",
     "status": "completed"
    },
    "tags": []
   },
   "outputs": [
    {
     "data": {
      "text/plain": [
       "(array([0.49806731, 0.49806731, 0.49806731, 0.49806731, 0.49806731,\n",
       "        0.49806731, 0.49806731, 0.49806731, 0.49806731, 0.49806731,\n",
       "        0.49806731, 0.49806731, 0.49806731, 0.49806731, 0.49806731,\n",
       "        0.49806731, 0.49806731, 0.49806731, 0.49806731, 0.49806731,\n",
       "        0.49806731, 0.49806731, 0.49806731, 0.49806731, 0.49806731,\n",
       "        0.49806731, 0.49806731, 0.49806731, 0.49806731, 0.49806731,\n",
       "        0.49806731, 0.49806731, 0.49806731, 0.49806731, 0.49806731,\n",
       "        0.49806731, 0.49806731, 0.49806731, 0.49806731, 0.49806731,\n",
       "        0.49806731, 0.49806731, 0.49806804, 0.49806731, 0.49806731,\n",
       "        0.49806731, 0.49806731, 0.49806731, 0.49806731, 0.49806731,\n",
       "        0.49806731, 0.49806731, 0.49806731, 0.49806731, 0.49806731,\n",
       "        0.49806731, 0.49806731, 0.49806731, 0.49806731, 0.49806731,\n",
       "        0.49806731, 0.49806731, 0.49806731, 0.49806731, 0.49806731,\n",
       "        0.49806731, 0.49806731, 0.49806731, 0.49806731, 0.49806731,\n",
       "        0.49806731, 0.49806731, 0.49806731, 0.49806731, 0.49806731,\n",
       "        0.49806731, 0.49806731, 0.49806731, 0.49806661, 0.49806731,\n",
       "        0.49806731, 0.49806731, 0.49806731, 0.49806731, 0.49806731,\n",
       "        0.49806731, 0.49806731, 0.49806731, 0.49806731, 0.49806731,\n",
       "        0.49806731, 0.49806731, 0.49806731, 0.49806731, 0.49806731,\n",
       "        0.49806731, 0.49806731, 0.49806731, 0.49806731, 0.49806731,\n",
       "        0.49806731, 0.49806731, 0.49806731, 0.49806731, 0.49806731,\n",
       "        0.49806731, 0.49806731, 0.49806731, 0.49806731, 0.49806731,\n",
       "        0.49806731, 0.49806731, 0.49806731, 0.49806731, 0.49806756,\n",
       "        0.49806731, 0.49806731, 0.49806731, 0.49806731, 0.49806731,\n",
       "        0.49806731, 0.49806731, 0.49806731, 0.49806731, 0.49806731,\n",
       "        0.49806731, 0.49806731, 0.49806731, 0.49806731, 0.49806731,\n",
       "        0.49806731, 0.49806731, 0.49806731, 0.49806731, 0.49806731,\n",
       "        0.49806731, 0.49806731, 0.49806731, 0.49806731, 0.49806731,\n",
       "        0.49806731, 0.49806731, 0.49806731, 0.49806731, 0.49806731,\n",
       "        0.49806731, 0.49806731, 0.49806731, 0.49806731, 0.49806731,\n",
       "        0.49806613, 0.49806731, 0.49806731, 0.49806731, 0.49806731,\n",
       "        0.49806731, 0.49806731, 0.49806731, 0.49806731, 0.49806731,\n",
       "        0.49806731, 0.49806731, 0.49806731, 0.49806731, 0.49806731,\n",
       "        0.49806731, 0.49806731, 0.49806731, 0.49806731, 0.49806731,\n",
       "        0.49806731, 0.49806731, 0.49806731, 0.49806731, 0.49806731,\n",
       "        0.49806731, 0.49806731, 0.49806731, 0.49806731, 0.49806731,\n",
       "        0.49806731, 0.49806731, 0.49806731, 0.49806731, 0.49806731,\n",
       "        0.49806731, 0.49806731]),\n",
       " 'axial')"
      ]
     },
     "execution_count": 13,
     "metadata": {},
     "output_type": "execute_result"
    }
   ],
   "source": [
    "np.diff(sp), dcm.plane"
   ]
  },
  {
   "cell_type": "code",
   "execution_count": 14,
   "id": "276f775d",
   "metadata": {
    "execution": {
     "iopub.execute_input": "2025-09-16T10:18:51.253964Z",
     "iopub.status.busy": "2025-09-16T10:18:51.253609Z",
     "iopub.status.idle": "2025-09-16T10:18:51.261345Z",
     "shell.execute_reply": "2025-09-16T10:18:51.259980Z"
    },
    "papermill": {
     "duration": 0.021678,
     "end_time": "2025-09-16T10:18:51.263406",
     "exception": false,
     "start_time": "2025-09-16T10:18:51.241728",
     "status": "completed"
    },
    "tags": []
   },
   "outputs": [
    {
     "data": {
      "text/plain": [
       "188"
      ]
     },
     "execution_count": 14,
     "metadata": {},
     "output_type": "execute_result"
    }
   ],
   "source": [
    "path = list(Path('/kaggle/input/rsna-intracranial-aneurysm-detection/series/1.2.826.0.1.3680043.8.498.10004044428023505108375152878107656647').glob('*'))\n",
    "len(path)"
   ]
  },
  {
   "cell_type": "code",
   "execution_count": 15,
   "id": "efbfe2b5",
   "metadata": {
    "execution": {
     "iopub.execute_input": "2025-09-16T10:18:51.287028Z",
     "iopub.status.busy": "2025-09-16T10:18:51.286578Z",
     "iopub.status.idle": "2025-09-16T10:18:51.293338Z",
     "shell.execute_reply": "2025-09-16T10:18:51.292226Z"
    },
    "papermill": {
     "duration": 0.020629,
     "end_time": "2025-09-16T10:18:51.295019",
     "exception": false,
     "start_time": "2025-09-16T10:18:51.274390",
     "status": "completed"
    },
    "tags": []
   },
   "outputs": [
    {
     "data": {
      "text/plain": [
       "([0.3515625, 0.3515625], 0.498067300933492)"
      ]
     },
     "execution_count": 15,
     "metadata": {},
     "output_type": "execute_result"
    }
   ],
   "source": [
    "dcm.PixelSpacing, dcm.z_spacing"
   ]
  },
  {
   "cell_type": "code",
   "execution_count": 16,
   "id": "b3bd10ed",
   "metadata": {
    "execution": {
     "iopub.execute_input": "2025-09-16T10:18:51.387627Z",
     "iopub.status.busy": "2025-09-16T10:18:51.387303Z",
     "iopub.status.idle": "2025-09-16T10:18:51.392827Z",
     "shell.execute_reply": "2025-09-16T10:18:51.391589Z"
    },
    "papermill": {
     "duration": 0.020873,
     "end_time": "2025-09-16T10:18:51.394806",
     "exception": false,
     "start_time": "2025-09-16T10:18:51.373933",
     "status": "completed"
    },
    "tags": []
   },
   "outputs": [],
   "source": [
    "# eda_path = '/kaggle/input/rsna2025-extra/train_eda.csv'\n",
    "# FORCE = True\n",
    "# if (not os.path.exists(eda_path)) | FORCE:\n",
    "#     series_root = Path('/kaggle/input/rsna-intracranial-aneurysm-detection/series')\n",
    "#     rows = []\n",
    "#     for _, row in tqdm(df.iterrows(), total=len(df)):\n",
    "#         series_name = row['SeriesInstanceUID']\n",
    "#         series_path = series_root / series_name\n",
    "#         img_paths = list(series_path.glob('*'))\n",
    "#         num_slices = len(img_paths)\n",
    "#         img_path = img_paths[0]   # そのシリーズの 1 枚目\n",
    "#         try:\n",
    "#             dcm = pydicom.dcmread(img_path)\n",
    "#             if hasattr(dcm, 'AngioFlag'):\n",
    "#                 angio = dcm.AngioFlag\n",
    "#             else:\n",
    "#                 angio = 'UK'\n",
    "    \n",
    "#             # ------- 1) 画像サイズ関連 -------\n",
    "#             shape = dcm.pixel_array.shape\n",
    "#             if len(shape) == 2:                       # 2D\n",
    "#                 y, x = shape\n",
    "#                 z = 1\n",
    "#             else:                                     # 3D（Volume）\n",
    "#                 z, y, x = shape\n",
    "    \n",
    "#             # ------- 2) Allowlist タグ -------\n",
    "#             row = {\n",
    "#                 \"SeriesInstanceUID\": series_name,\n",
    "#                 \"x\": x,\n",
    "#                 \"y\": y,\n",
    "#                 \"z\": num_slices,          # 実際のスライス枚数\n",
    "#                 \"ndim\": len(shape),\n",
    "#                 \"angio\": angio,\n",
    "#                 \"z_spacing\": \n",
    "#             }\n",
    "#             for tag in DICOM_TAG_ALLOWLIST:\n",
    "#                 value = getattr(dcm, tag, None)\n",
    "#                 # シーケンスや MultiValue はそのままでは入らないので文字列化\n",
    "#                 if isinstance(value, (list, pydicom.multival.MultiValue)):\n",
    "#                     value = \",\".join(map(str, value))\n",
    "#                 row[tag] = value\n",
    "    \n",
    "#             # 例：よく使う追加タグ\n",
    "#             row[\"Modality\"]      = getattr(dcm, \"Modality\", None)\n",
    "#             row[\"PixelSpacing\"]  = \",\".join(map(str, getattr(dcm, \"PixelSpacing\", [])))\n",
    "    \n",
    "#             rows.append(row)\n",
    "    \n",
    "#         except Exception as e:\n",
    "#             print(f\"読込失敗: {img_path} — {e}\")\n",
    "    \n",
    "#     # ---------- DataFrame 化 ----------\n",
    "#     df_eda = pd.DataFrame(rows)\n",
    "# else:\n",
    "#     df_eda = pd.read_csv(eda_path)"
   ]
  },
  {
   "cell_type": "code",
   "execution_count": 17,
   "id": "2bd4876f",
   "metadata": {
    "execution": {
     "iopub.execute_input": "2025-09-16T10:18:51.419130Z",
     "iopub.status.busy": "2025-09-16T10:18:51.418801Z",
     "iopub.status.idle": "2025-09-16T10:18:51.423112Z",
     "shell.execute_reply": "2025-09-16T10:18:51.422154Z"
    },
    "papermill": {
     "duration": 0.018233,
     "end_time": "2025-09-16T10:18:51.424748",
     "exception": false,
     "start_time": "2025-09-16T10:18:51.406515",
     "status": "completed"
    },
    "tags": []
   },
   "outputs": [],
   "source": [
    "# df = df[:100]"
   ]
  },
  {
   "cell_type": "code",
   "execution_count": 18,
   "id": "a624c72b",
   "metadata": {
    "execution": {
     "iopub.execute_input": "2025-09-16T10:18:51.448420Z",
     "iopub.status.busy": "2025-09-16T10:18:51.448008Z",
     "iopub.status.idle": "2025-09-16T13:18:09.327294Z",
     "shell.execute_reply": "2025-09-16T13:18:09.324489Z"
    },
    "papermill": {
     "duration": 10757.913583,
     "end_time": "2025-09-16T13:18:09.349401",
     "exception": false,
     "start_time": "2025-09-16T10:18:51.435818",
     "status": "completed"
    },
    "tags": []
   },
   "outputs": [
    {
     "data": {
      "application/vnd.jupyter.widget-view+json": {
       "model_id": "26fbeb42a7be49f2ba1582a775aacd09",
       "version_major": 2,
       "version_minor": 0
      },
      "text/plain": [
       "  0%|          | 0/4348 [00:00<?, ?it/s]"
      ]
     },
     "metadata": {},
     "output_type": "display_data"
    },
    {
     "name": "stdout",
     "output_type": "stream",
     "text": [
      "✓ Saved EDA table to /kaggle/input/rsna2025-extra/train_eda.csv\n"
     ]
    }
   ],
   "source": [
    "# ------------------------------------------------------------\n",
    "# EDA table creation with DicomVolumeFiles\n",
    "# ------------------------------------------------------------\n",
    "from pathlib import Path\n",
    "from tqdm.auto import tqdm\n",
    "import os, pydicom, pandas as pd\n",
    "\n",
    "eda_path = '/kaggle/input/rsna2025-extra/train_eda.csv'\n",
    "series_root = Path('/kaggle/input/rsna-intracranial-aneurysm-detection/series')\n",
    "FORCE = True      # 上書きするとき True\n",
    "\n",
    "if FORCE or not os.path.exists(eda_path):\n",
    "    rows = []\n",
    "\n",
    "    for _, row in tqdm(df.iterrows(), total=len(df)):\n",
    "        sid         = row['SeriesInstanceUID']\n",
    "        series_dir  = series_root / sid\n",
    "\n",
    "        try:\n",
    "            vol      = DicomVolumeFiles(str(series_dir))      # ★ クラス利用\n",
    "            num_slices = len(vol.file_paths)\n",
    "            first_ds   = pydicom.dcmread(vol.file_paths[0], stop_before_pixels=True)\n",
    "    \n",
    "            # --- 基本情報 ---\n",
    "            if num_slices==1:\n",
    "                ndim = 3\n",
    "            else:\n",
    "                ndim =  2\n",
    "            angio = getattr(first_ds, 'AngioFlag', 'UK')      # 無ければ 'UK'\n",
    "    \n",
    "            row_dict = {\n",
    "                \"SeriesInstanceUID\": sid,\n",
    "                \"num_slice\"      : num_slices,\n",
    "                \"ndim\"   : ndim,\n",
    "                \"angio\"  : angio,\n",
    "                \"z_spacing\": vol.z_spacing,\n",
    "                \"sorted_files\": vol.file_paths,\n",
    "                \"slice_positions\": vol.slice_positions\n",
    "            }\n",
    "    \n",
    "            # --- TAGS 内メタデータを追加 ---\n",
    "            for tag in DicomVolumeFiles.TAGS:\n",
    "                val = getattr(vol, tag, None)\n",
    "                if isinstance(val, (list, pydicom.multival.MultiValue)):\n",
    "                    val = \",\".join(map(str, val))\n",
    "                row_dict[tag] = val\n",
    "    \n",
    "            rows.append(row_dict)\n",
    "\n",
    "        except Exception as e:\n",
    "            print(f\"[WARN] Series {sid} でエラー: {e}\")\n",
    "\n",
    "    df_eda = pd.DataFrame(rows)\n",
    "    #df_eda.to_csv(eda_path, index=False)\n",
    "    print(f\"✓ Saved EDA table to {eda_path}\")\n",
    "\n",
    "else:\n",
    "    df_eda = pd.read_csv(eda_path)\n",
    "    print(f\"✓ Loaded cached EDA table from {eda_path}\")\n"
   ]
  },
  {
   "cell_type": "code",
   "execution_count": 19,
   "id": "3a73db8c",
   "metadata": {
    "execution": {
     "iopub.execute_input": "2025-09-16T13:18:09.394839Z",
     "iopub.status.busy": "2025-09-16T13:18:09.394412Z",
     "iopub.status.idle": "2025-09-16T13:18:09.427870Z",
     "shell.execute_reply": "2025-09-16T13:18:09.426766Z"
    },
    "papermill": {
     "duration": 0.060202,
     "end_time": "2025-09-16T13:18:09.429755",
     "exception": false,
     "start_time": "2025-09-16T13:18:09.369553",
     "status": "completed"
    },
    "tags": []
   },
   "outputs": [
    {
     "data": {
      "text/plain": [
       "SeriesInstanceUID            1.2.826.0.1.3680043.8.498.10012790035410518400...\n",
       "num_slice                                                                    1\n",
       "ndim                                                                         3\n",
       "angio                                                                       UK\n",
       "z_spacing                                                                 0.55\n",
       "sorted_files                 [/kaggle/input/rsna-intracranial-aneurysm-dete...\n",
       "slice_positions              [0.0, 0.55, 1.1, 1.6500000000000001, 2.2, 2.75...\n",
       "BitsAllocated                                                               16\n",
       "BitsStored                                                                  16\n",
       "Columns                                                                    528\n",
       "FrameOfReferenceUID                    1.2.826.0.1.3680043.10.474.2.968599.582\n",
       "HighBit                                                                     15\n",
       "ImageOrientationPatient                                                   None\n",
       "ImagePositionPatient                                                      None\n",
       "InstanceNumber                                                               1\n",
       "Modality                                                                    MR\n",
       "PatientID                                                         3376cdd2-eee\n",
       "PhotometricInterpretation                                          MONOCHROME2\n",
       "PixelRepresentation                                                          1\n",
       "PixelSpacing                                                           0.5,0.5\n",
       "PlanarConfiguration                                                        NaN\n",
       "RescaleIntercept                                                           NaN\n",
       "RescaleSlope                                                               NaN\n",
       "RescaleType                                                               None\n",
       "Rows                                                                       528\n",
       "SOPClassUID                                        1.2.840.10008.5.1.4.1.1.4.1\n",
       "SOPInstanceUID               1.2.826.0.1.3680043.8.498.75206494637570575939...\n",
       "SamplesPerPixel                                                              1\n",
       "SliceThickness                                                            0.55\n",
       "SpacingBetweenSlices                                                      0.55\n",
       "StudyInstanceUID             1.2.826.0.1.3680043.8.498.11176237056004257732...\n",
       "TransferSyntaxUID                                                         None\n",
       "Name: 4, dtype: object"
      ]
     },
     "execution_count": 19,
     "metadata": {},
     "output_type": "execute_result"
    }
   ],
   "source": [
    "df_eda.iloc[4]"
   ]
  },
  {
   "cell_type": "code",
   "execution_count": 20,
   "id": "1a652cb2",
   "metadata": {
    "execution": {
     "iopub.execute_input": "2025-09-16T13:18:09.458437Z",
     "iopub.status.busy": "2025-09-16T13:18:09.457892Z",
     "iopub.status.idle": "2025-09-16T13:18:09.468054Z",
     "shell.execute_reply": "2025-09-16T13:18:09.467017Z"
    },
    "papermill": {
     "duration": 0.02775,
     "end_time": "2025-09-16T13:18:09.470365",
     "exception": false,
     "start_time": "2025-09-16T13:18:09.442615",
     "status": "completed"
    },
    "tags": []
   },
   "outputs": [
    {
     "data": {
      "text/plain": [
       "0"
      ]
     },
     "execution_count": 20,
     "metadata": {},
     "output_type": "execute_result"
    }
   ],
   "source": [
    "df_eda['z_spacing'].isna().sum()"
   ]
  },
  {
   "cell_type": "code",
   "execution_count": 21,
   "id": "364845a0",
   "metadata": {
    "execution": {
     "iopub.execute_input": "2025-09-16T13:18:09.499976Z",
     "iopub.status.busy": "2025-09-16T13:18:09.499523Z",
     "iopub.status.idle": "2025-09-16T13:18:09.554694Z",
     "shell.execute_reply": "2025-09-16T13:18:09.553577Z"
    },
    "papermill": {
     "duration": 0.072784,
     "end_time": "2025-09-16T13:18:09.556821",
     "exception": false,
     "start_time": "2025-09-16T13:18:09.484037",
     "status": "completed"
    },
    "tags": []
   },
   "outputs": [],
   "source": [
    "df = df.merge(df_eda, how=\"left\", on='SeriesInstanceUID', suffixes=(\"\", \"_eda\") )"
   ]
  },
  {
   "cell_type": "code",
   "execution_count": 22,
   "id": "a9923477",
   "metadata": {
    "execution": {
     "iopub.execute_input": "2025-09-16T13:18:09.582319Z",
     "iopub.status.busy": "2025-09-16T13:18:09.581962Z",
     "iopub.status.idle": "2025-09-16T13:18:09.592814Z",
     "shell.execute_reply": "2025-09-16T13:18:09.591910Z"
    },
    "papermill": {
     "duration": 0.025776,
     "end_time": "2025-09-16T13:18:09.594561",
     "exception": false,
     "start_time": "2025-09-16T13:18:09.568785",
     "status": "completed"
    },
    "tags": []
   },
   "outputs": [
    {
     "data": {
      "text/plain": [
       "0       [/kaggle/input/rsna-intracranial-aneurysm-dete...\n",
       "1       [/kaggle/input/rsna-intracranial-aneurysm-dete...\n",
       "2       [/kaggle/input/rsna-intracranial-aneurysm-dete...\n",
       "3       [/kaggle/input/rsna-intracranial-aneurysm-dete...\n",
       "4       [/kaggle/input/rsna-intracranial-aneurysm-dete...\n",
       "                              ...                        \n",
       "4343    [/kaggle/input/rsna-intracranial-aneurysm-dete...\n",
       "4344    [/kaggle/input/rsna-intracranial-aneurysm-dete...\n",
       "4345    [/kaggle/input/rsna-intracranial-aneurysm-dete...\n",
       "4346    [/kaggle/input/rsna-intracranial-aneurysm-dete...\n",
       "4347    [/kaggle/input/rsna-intracranial-aneurysm-dete...\n",
       "Name: sorted_files, Length: 4348, dtype: object"
      ]
     },
     "execution_count": 22,
     "metadata": {},
     "output_type": "execute_result"
    }
   ],
   "source": [
    "df['sorted_files']"
   ]
  },
  {
   "cell_type": "code",
   "execution_count": 23,
   "id": "093eb155",
   "metadata": {
    "execution": {
     "iopub.execute_input": "2025-09-16T13:18:09.625115Z",
     "iopub.status.busy": "2025-09-16T13:18:09.624402Z",
     "iopub.status.idle": "2025-09-16T13:18:10.120491Z",
     "shell.execute_reply": "2025-09-16T13:18:10.119421Z"
    },
    "papermill": {
     "duration": 0.513592,
     "end_time": "2025-09-16T13:18:10.122572",
     "exception": false,
     "start_time": "2025-09-16T13:18:09.608980",
     "status": "completed"
    },
    "tags": []
   },
   "outputs": [],
   "source": [
    "sid = df['SeriesInstanceUID'].iloc[4]\n",
    "path = list(Path(f'/kaggle/input/rsna-intracranial-aneurysm-detection/series/{sid}').glob('*'))[0]\n",
    "dcm = pydicom.dcmread(path)\n",
    "per_frame = dcm.PerFrameFunctionalGroupsSequence\n",
    "pixel_spacings = []\n",
    "for i, fg in enumerate(per_frame):\n",
    "    if \"PixelMeasuresSequence\" in fg:\n",
    "        px = fg.PixelMeasuresSequence[0].PixelSpacing  # [row, col] in mm\n",
    "        pixel_spacings.append([float(px[0]), float(px[1])])\n",
    "    else:\n",
    "        pixel_spacings.append(None)  # そのフレームに未記載\n",
    "if 'SharedFunctionalGroupsSequence' in dcm:\n",
    "    sfg = dcm.SharedFunctionalGroupsSequence[0]\n",
    "    if 'PixelMeasuresSequence' in sfg:\n",
    "        pm = sfg.PixelMeasuresSequence[0]\n",
    "        if 'PixelSpacing' in pm:\n",
    "            dy, dx = [float(v) for v in pm.PixelSpacing]\n",
    "        if 'SliceThickness' in pm:\n",
    "            th = float(pm.SliceThickness)\n",
    "        if 'SpacingBetweenSlices' in pm:\n",
    "            sb = float(pm.SpacingBetweenSlices)"
   ]
  },
  {
   "cell_type": "code",
   "execution_count": 24,
   "id": "71bfcd49",
   "metadata": {
    "execution": {
     "iopub.execute_input": "2025-09-16T13:18:10.147341Z",
     "iopub.status.busy": "2025-09-16T13:18:10.146951Z",
     "iopub.status.idle": "2025-09-16T13:18:10.153566Z",
     "shell.execute_reply": "2025-09-16T13:18:10.152300Z"
    },
    "papermill": {
     "duration": 0.021147,
     "end_time": "2025-09-16T13:18:10.155518",
     "exception": false,
     "start_time": "2025-09-16T13:18:10.134371",
     "status": "completed"
    },
    "tags": []
   },
   "outputs": [
    {
     "data": {
      "text/plain": [
       "(0.5, 0.5)"
      ]
     },
     "execution_count": 24,
     "metadata": {},
     "output_type": "execute_result"
    }
   ],
   "source": [
    "dy, dx"
   ]
  },
  {
   "cell_type": "code",
   "execution_count": 25,
   "id": "0c8075e0",
   "metadata": {
    "execution": {
     "iopub.execute_input": "2025-09-16T13:18:10.181864Z",
     "iopub.status.busy": "2025-09-16T13:18:10.181392Z",
     "iopub.status.idle": "2025-09-16T13:18:10.189516Z",
     "shell.execute_reply": "2025-09-16T13:18:10.188474Z"
    },
    "papermill": {
     "duration": 0.023313,
     "end_time": "2025-09-16T13:18:10.191392",
     "exception": false,
     "start_time": "2025-09-16T13:18:10.168079",
     "status": "completed"
    },
    "tags": []
   },
   "outputs": [
    {
     "data": {
      "text/plain": [
       "Index(['SeriesInstanceUID', 'PatientAge', 'PatientSex', 'Modality',\n",
       "       'Left Infraclinoid Internal Carotid Artery',\n",
       "       'Right Infraclinoid Internal Carotid Artery',\n",
       "       'Left Supraclinoid Internal Carotid Artery',\n",
       "       'Right Supraclinoid Internal Carotid Artery',\n",
       "       'Left Middle Cerebral Artery', 'Right Middle Cerebral Artery',\n",
       "       'Anterior Communicating Artery', 'Left Anterior Cerebral Artery',\n",
       "       'Right Anterior Cerebral Artery', 'Left Posterior Communicating Artery',\n",
       "       'Right Posterior Communicating Artery', 'Basilar Tip',\n",
       "       'Other Posterior Circulation', 'Aneurysm Present', 'num_slice', 'ndim',\n",
       "       'angio', 'z_spacing', 'sorted_files', 'slice_positions',\n",
       "       'BitsAllocated', 'BitsStored', 'Columns', 'FrameOfReferenceUID',\n",
       "       'HighBit', 'ImageOrientationPatient', 'ImagePositionPatient',\n",
       "       'InstanceNumber', 'Modality_eda', 'PatientID',\n",
       "       'PhotometricInterpretation', 'PixelRepresentation', 'PixelSpacing',\n",
       "       'PlanarConfiguration', 'RescaleIntercept', 'RescaleSlope',\n",
       "       'RescaleType', 'Rows', 'SOPClassUID', 'SOPInstanceUID',\n",
       "       'SamplesPerPixel', 'SliceThickness', 'SpacingBetweenSlices',\n",
       "       'StudyInstanceUID', 'TransferSyntaxUID'],\n",
       "      dtype='object')"
      ]
     },
     "execution_count": 25,
     "metadata": {},
     "output_type": "execute_result"
    }
   ],
   "source": [
    "df.columns"
   ]
  },
  {
   "cell_type": "code",
   "execution_count": 26,
   "id": "dfdad2f0",
   "metadata": {
    "execution": {
     "iopub.execute_input": "2025-09-16T13:18:10.234405Z",
     "iopub.status.busy": "2025-09-16T13:18:10.233943Z",
     "iopub.status.idle": "2025-09-16T13:18:10.245190Z",
     "shell.execute_reply": "2025-09-16T13:18:10.244170Z"
    },
    "papermill": {
     "duration": 0.034578,
     "end_time": "2025-09-16T13:18:10.247118",
     "exception": false,
     "start_time": "2025-09-16T13:18:10.212540",
     "status": "completed"
    },
    "tags": []
   },
   "outputs": [
    {
     "data": {
      "text/plain": [
       "0       [-48.225952925385, -47.727885619735, -47.22981...\n",
       "1       [-43.2977714539, -42.602432251, -41.9070930481...\n",
       "2       [-161.8, -161.4, -161.0, -160.6, -160.2, -159....\n",
       "3       [-82.7559, -82.0079, -81.26, -80.5121, -79.764...\n",
       "4       [0.0, 0.55, 1.1, 1.6500000000000001, 2.2, 2.75...\n",
       "                              ...                        \n",
       "4343    [6.66628881588084, 11.907768689538, 17.1492485...\n",
       "4344    [-49.9352, -49.3962, -48.8571, -48.318, -47.77...\n",
       "4345    [342.88, 343.28, 343.68, 344.08, 344.48, 344.8...\n",
       "4346    [0.0, 5.0, 10.0, 15.0, 20.0, 25.0, 30.0, 35.0,...\n",
       "4347    [-176.7, -175.7, -174.7, -173.7, -172.7, -171....\n",
       "Name: slice_positions, Length: 4348, dtype: object"
      ]
     },
     "execution_count": 26,
     "metadata": {},
     "output_type": "execute_result"
    }
   ],
   "source": [
    "df['slice_positions']"
   ]
  },
  {
   "cell_type": "code",
   "execution_count": 27,
   "id": "2395b1b1",
   "metadata": {
    "execution": {
     "iopub.execute_input": "2025-09-16T13:18:10.290136Z",
     "iopub.status.busy": "2025-09-16T13:18:10.289785Z",
     "iopub.status.idle": "2025-09-16T13:18:10.307357Z",
     "shell.execute_reply": "2025-09-16T13:18:10.306148Z"
    },
    "papermill": {
     "duration": 0.041364,
     "end_time": "2025-09-16T13:18:10.309520",
     "exception": false,
     "start_time": "2025-09-16T13:18:10.268156",
     "status": "completed"
    },
    "tags": []
   },
   "outputs": [
    {
     "data": {
      "text/plain": [
       "angio\n",
       "UK    2451\n",
       "N     1239\n",
       "Y      658\n",
       "Name: count, dtype: int64"
      ]
     },
     "execution_count": 27,
     "metadata": {},
     "output_type": "execute_result"
    }
   ],
   "source": [
    "df_eda['angio'].value_counts()"
   ]
  },
  {
   "cell_type": "code",
   "execution_count": 28,
   "id": "2578285d",
   "metadata": {
    "execution": {
     "iopub.execute_input": "2025-09-16T13:18:10.353864Z",
     "iopub.status.busy": "2025-09-16T13:18:10.353472Z",
     "iopub.status.idle": "2025-09-16T13:18:10.623201Z",
     "shell.execute_reply": "2025-09-16T13:18:10.622019Z"
    },
    "papermill": {
     "duration": 0.294924,
     "end_time": "2025-09-16T13:18:10.625700",
     "exception": false,
     "start_time": "2025-09-16T13:18:10.330776",
     "status": "completed"
    },
    "tags": []
   },
   "outputs": [],
   "source": [
    "root_seg = Path('/kaggle/input/rsna-intracranial-aneurysm-detection/segmentations')\n",
    "paths_seg = root_seg.glob('*')\n",
    "ids_seg = [path_seg.name for path_seg in paths_seg]"
   ]
  },
  {
   "cell_type": "code",
   "execution_count": 29,
   "id": "16d4551a",
   "metadata": {
    "execution": {
     "iopub.execute_input": "2025-09-16T13:18:10.671907Z",
     "iopub.status.busy": "2025-09-16T13:18:10.671566Z",
     "iopub.status.idle": "2025-09-16T13:18:10.680607Z",
     "shell.execute_reply": "2025-09-16T13:18:10.679275Z"
    },
    "papermill": {
     "duration": 0.034827,
     "end_time": "2025-09-16T13:18:10.682334",
     "exception": false,
     "start_time": "2025-09-16T13:18:10.647507",
     "status": "completed"
    },
    "tags": []
   },
   "outputs": [
    {
     "data": {
      "text/plain": [
       "Modality\n",
       "CTA           1808\n",
       "MRA           1252\n",
       "MRI T2         983\n",
       "MRI T1post     305\n",
       "Name: count, dtype: int64"
      ]
     },
     "execution_count": 29,
     "metadata": {},
     "output_type": "execute_result"
    }
   ],
   "source": [
    "df['Modality'].value_counts()"
   ]
  },
  {
   "cell_type": "code",
   "execution_count": 30,
   "id": "8e80e9f9",
   "metadata": {
    "execution": {
     "iopub.execute_input": "2025-09-16T13:18:10.708035Z",
     "iopub.status.busy": "2025-09-16T13:18:10.707720Z",
     "iopub.status.idle": "2025-09-16T13:18:10.716278Z",
     "shell.execute_reply": "2025-09-16T13:18:10.715296Z"
    },
    "papermill": {
     "duration": 0.023939,
     "end_time": "2025-09-16T13:18:10.718314",
     "exception": false,
     "start_time": "2025-09-16T13:18:10.694375",
     "status": "completed"
    },
    "tags": []
   },
   "outputs": [],
   "source": [
    "# ─── 0=背景, 1‑13=任意の色 ───\n",
    "PALETTE = np.array([\n",
    "    [  0,   0,   0],   # 0: 背景 (黒)\n",
    "    [230,  25,  75],   # 1: 赤系\n",
    "    [ 60, 180,  75],   # 2: 緑\n",
    "    [255, 225,  25],   # 3: 黄\n",
    "    [  0, 130, 200],   # 4: 青\n",
    "    [245, 130,  48],   # 5: オレンジ\n",
    "    [145,  30, 180],   # 6: 紫\n",
    "    [ 70, 240, 240],   # 7: 水色\n",
    "    [240,  50, 230],   # 8: ピンク\n",
    "    [210, 245,  60],   # 9: 黄緑\n",
    "    [250, 190, 190],   #10: 肌色\n",
    "    [  0, 128, 128],   #11: 青緑\n",
    "    [230, 190, 255],   #12: 薄紫\n",
    "    [170, 110,  40],   #13: 茶\n",
    "], dtype=np.uint8)\n",
    "\n",
    "def mask_to_rgb(mask: np.ndarray, palette: np.ndarray = PALETTE) -> np.ndarray:\n",
    "    \"\"\"\n",
    "    uint8 2D ラベルマスクを RGB 配色画像に変換する。\n",
    "    \n",
    "    Parameters\n",
    "    ----------\n",
    "    mask : (H, W) ndarray of uint8\n",
    "        0 = 背景, 1‑13 = ラベル ID\n",
    "    palette : (N, 3) ndarray of uint8\n",
    "        ラベル ID → (R,G,B) の対応表。先頭行は背景色。\n",
    "    \n",
    "    Returns\n",
    "    -------\n",
    "    rgb : (H, W, 3) ndarray of uint8\n",
    "        カラーマスク。OpenCV や matplotlib でそのまま表示可能。\n",
    "    \"\"\"\n",
    "    if mask.dtype != np.uint8:\n",
    "        raise ValueError(\"mask は uint8 である必要があります\")\n",
    "    if mask.max() >= len(palette):\n",
    "        raise ValueError(f\"mask に {len(palette)-1} を超えるラベルが含まれています\")\n",
    "\n",
    "    # 高速: palette をインデックスとして直接ブロードキャスト\n",
    "    return palette[mask]"
   ]
  },
  {
   "cell_type": "code",
   "execution_count": 31,
   "id": "ba47ba95",
   "metadata": {
    "execution": {
     "iopub.execute_input": "2025-09-16T13:18:10.744827Z",
     "iopub.status.busy": "2025-09-16T13:18:10.744509Z",
     "iopub.status.idle": "2025-09-16T13:18:10.750009Z",
     "shell.execute_reply": "2025-09-16T13:18:10.748673Z"
    },
    "papermill": {
     "duration": 0.020928,
     "end_time": "2025-09-16T13:18:10.751719",
     "exception": false,
     "start_time": "2025-09-16T13:18:10.730791",
     "status": "completed"
    },
    "tags": []
   },
   "outputs": [],
   "source": [
    "series_name = df_eda['SeriesInstanceUID'].iloc[0].split('/')[-1]\n",
    "series_name = '1.2.826.0.1.3680043.8.498.10076056930521523789588901704956188485'"
   ]
  },
  {
   "cell_type": "code",
   "execution_count": 32,
   "id": "e4d277e1",
   "metadata": {
    "execution": {
     "iopub.execute_input": "2025-09-16T13:18:10.778201Z",
     "iopub.status.busy": "2025-09-16T13:18:10.777877Z",
     "iopub.status.idle": "2025-09-16T13:18:10.783467Z",
     "shell.execute_reply": "2025-09-16T13:18:10.782052Z"
    },
    "papermill": {
     "duration": 0.021524,
     "end_time": "2025-09-16T13:18:10.785962",
     "exception": false,
     "start_time": "2025-09-16T13:18:10.764438",
     "status": "completed"
    },
    "tags": []
   },
   "outputs": [],
   "source": [
    "# segmentation_series = list(Path('/kaggle/input/rsna-intracranial-aneurysm-detection/segmentations').glob('*'))\n",
    "# segmentation_series = [path.name for path in segmentation_series]\n",
    "# segmentation_series"
   ]
  },
  {
   "cell_type": "code",
   "execution_count": 33,
   "id": "cf3b45d1",
   "metadata": {
    "execution": {
     "iopub.execute_input": "2025-09-16T13:18:10.813523Z",
     "iopub.status.busy": "2025-09-16T13:18:10.811971Z",
     "iopub.status.idle": "2025-09-16T13:18:10.823621Z",
     "shell.execute_reply": "2025-09-16T13:18:10.822629Z"
    },
    "papermill": {
     "duration": 0.026801,
     "end_time": "2025-09-16T13:18:10.825541",
     "exception": false,
     "start_time": "2025-09-16T13:18:10.798740",
     "status": "completed"
    },
    "tags": []
   },
   "outputs": [],
   "source": [
    "def load_dicom_series(directory):\n",
    "    \"\"\"\n",
    "    指定したディレクトリ内のDICOMファイルを読み込み、\n",
    "    ImagePositionPatientタグを基にスライス順に並べ替える。\n",
    "\n",
    "    Args:\n",
    "        directory (str): DICOMファイルが含まれるディレクトリへのパス。\n",
    "\n",
    "    Returns:\n",
    "        tuple:\n",
    "            - images (np.ndarray): スライス順に並んだ画像の3D配列 (Z, H, W)。\n",
    "            - filenames (List[str]): 各スライスに対応するファイルパスのリスト。\n",
    "    \"\"\"\n",
    "    dicom_files = []\n",
    "    for fname in os.listdir(directory):\n",
    "        path = os.path.join(directory, fname)\n",
    "        if os.path.isfile(path):\n",
    "            try:\n",
    "                ds = pydicom.dcmread(path, stop_before_pixels=True)\n",
    "                if \"ImagePositionPatient\" in ds:\n",
    "                    position = ds.ImagePositionPatient[2]  # Z座標\n",
    "                    dicom_files.append((position, path))\n",
    "            except Exception:\n",
    "                continue  # 非DICOMファイルなどは無視\n",
    "\n",
    "    # Z方向（スライス方向）でソート\n",
    "    dicom_files.sort(key=lambda x: x[0])\n",
    "\n",
    "    # ソートされた順で画像読み込み\n",
    "    images = []\n",
    "    filenames = []\n",
    "    for _, path in dicom_files:\n",
    "        ds = pydicom.dcmread(path)\n",
    "        image = ds.pixel_array\n",
    "        images.append(image)\n",
    "        filenames.append(path)\n",
    "\n",
    "    images = np.stack(images, axis=0)  # (Z, H, W)\n",
    "\n",
    "    return images, filenames"
   ]
  },
  {
   "cell_type": "code",
   "execution_count": null,
   "id": "94e3eaa4",
   "metadata": {
    "papermill": {
     "duration": 0.011866,
     "end_time": "2025-09-16T13:18:10.849414",
     "exception": false,
     "start_time": "2025-09-16T13:18:10.837548",
     "status": "completed"
    },
    "tags": []
   },
   "outputs": [],
   "source": []
  },
  {
   "cell_type": "code",
   "execution_count": 34,
   "id": "ab942eb4",
   "metadata": {
    "execution": {
     "iopub.execute_input": "2025-09-16T13:18:10.875496Z",
     "iopub.status.busy": "2025-09-16T13:18:10.875155Z",
     "iopub.status.idle": "2025-09-16T13:18:10.904048Z",
     "shell.execute_reply": "2025-09-16T13:18:10.902986Z"
    },
    "papermill": {
     "duration": 0.044762,
     "end_time": "2025-09-16T13:18:10.906239",
     "exception": false,
     "start_time": "2025-09-16T13:18:10.861477",
     "status": "completed"
    },
    "tags": []
   },
   "outputs": [],
   "source": [
    "import os\n",
    "import numpy as np\n",
    "import pydicom\n",
    "import pandas as pd\n",
    "\n",
    "def classify_orientation_and_view(iop, coordinate_system: str = \"LPS\"):\n",
    "    \"\"\"\n",
    "    iop: [r1,r2,r3,c1,c2,c3]\n",
    "    coordinate_system: \"LPS\" (DICOM既定) か \"RAS\"\n",
    "    戻り値: (orientation_label in {\"AXIAL\",\"CORONAL\",\"SAGITTAL\"}, anterior_up: bool|None)\n",
    "    \"\"\"\n",
    "    row = np.array(iop[:3], dtype=float)\n",
    "    col = np.array(iop[3:], dtype=float)\n",
    "    # 正規化 & 法線\n",
    "    def _nz(v):\n",
    "        n = np.linalg.norm(v)\n",
    "        return v / n if n > 0 else v\n",
    "    row = _nz(row); col = _nz(col)\n",
    "    normal = _nz(np.cross(row, col))\n",
    "\n",
    "    axial   = np.array([0, 0, 1], dtype=float)  # Superior 方向\n",
    "    coronal = np.array([0, 1, 0], dtype=float)  # Posterior 方向（LPS）\n",
    "    sagittal= np.array([1, 0, 0], dtype=float)  # Left 方向（LPS）\n",
    "\n",
    "    def similarity(a, b):\n",
    "        na = np.linalg.norm(a); nb = np.linalg.norm(b)\n",
    "        if na == 0 or nb == 0:\n",
    "            return -np.inf\n",
    "        return abs(float(np.dot(a, b)) / (na * nb))\n",
    "\n",
    "    scores = {\n",
    "        \"AXIAL\":   similarity(normal, axial),\n",
    "        \"CORONAL\": similarity(normal, coronal),\n",
    "        \"SAGITTAL\":similarity(normal, sagittal),\n",
    "    }\n",
    "    orientation = max(scores, key=scores.get)\n",
    "\n",
    "    # 画像の「上」は列方向ベクトル（col）。anteriorベクトルは座標系で変わる\n",
    "    up_vector = col\n",
    "    if coordinate_system.upper() == \"RAS\":\n",
    "        anterior_vec = np.array([0, 1, 0], dtype=float)   # RASのAは +Y\n",
    "    else:  # LPS（既定）\n",
    "        anterior_vec = np.array([0, -1, 0], dtype=float)  # LPSのAは -Y\n",
    "\n",
    "    dot = float(np.dot(_nz(up_vector), _nz(anterior_vec)))\n",
    "    anterior_up = bool(dot > 0.8)  # しきい値はお好みで\n",
    "    return orientation, anterior_up\n",
    "\n",
    "def _get_iop_any(ds: pydicom.Dataset):\n",
    "    \"\"\"\n",
    "    IOP をどこからでも拾う: Shared → PerFrame（先頭で見つかったもの）→ Top-level\n",
    "    戻り値: list[6] or None\n",
    "    \"\"\"\n",
    "    # Shared\n",
    "    if 'SharedFunctionalGroupsSequence' in ds:\n",
    "        sfg = ds.SharedFunctionalGroupsSequence[0]\n",
    "        if 'PlaneOrientationSequence' in sfg:\n",
    "            return [float(v) for v in sfg.PlaneOrientationSequence[0].ImageOrientationPatient]\n",
    "    # PerFrame（最初に見つかったもの）\n",
    "    if 'PerFrameFunctionalGroupsSequence' in ds:\n",
    "        for fgs in ds.PerFrameFunctionalGroupsSequence:\n",
    "            if 'PlaneOrientationSequence' in fgs:\n",
    "                return [float(v) for v in fgs.PlaneOrientationSequence[0].ImageOrientationPatient]\n",
    "    # Top-level\n",
    "    if 'ImageOrientationPatient' in ds:\n",
    "        return [float(v) for v in ds.ImageOrientationPatient]\n",
    "    return None\n",
    "\n",
    "def _estimate_normal_from_pffgs_positions(ds: pydicom.Dataset):\n",
    "    \"\"\"\n",
    "    IOPが無いときのフォールバック：PerFrameのIPPから法線（撮影方向）を推定。\n",
    "    戻り値: normal(np.ndarray) or None\n",
    "    \"\"\"\n",
    "    if 'PerFrameFunctionalGroupsSequence' not in ds:\n",
    "        return None\n",
    "    ipps = []\n",
    "    for fgs in ds.PerFrameFunctionalGroupsSequence:\n",
    "        if 'PlanePositionSequence' in fgs:\n",
    "            ipp = np.array([float(v) for v in fgs.PlanePositionSequence[0].ImagePositionPatient], dtype=float)\n",
    "            ipps.append(ipp)\n",
    "    if len(ipps) < 2:\n",
    "        return None\n",
    "    # 単純差分 or PCA の第一主成分でもOK。ここでは端点差分で十分。\n",
    "    v = ipps[-1] - ipps[0]\n",
    "    nrm = np.linalg.norm(v)\n",
    "    if nrm == 0:\n",
    "        return None\n",
    "    return v / nrm\n",
    "\n",
    "def extract_orientation_info(row, coordinate_system: str = \"LPS\"):\n",
    "    \"\"\"\n",
    "    各行の dicom_dir に対して、orientation と anterior_up を返す。\n",
    "    3D（マルチフレーム）にも対応（PFFGS/SharedからIOP、なければIPP推定）。\n",
    "    \"\"\"\n",
    "    dicom_dir = row[\"SeriesPath\"]\n",
    "\n",
    "    # まずディレクトリ内のファイルを列挙\n",
    "    for fname in sorted(os.listdir(dicom_dir)):\n",
    "        fpath = os.path.join(dicom_dir, fname)\n",
    "        if not os.path.isfile(fpath):\n",
    "            continue\n",
    "        try:\n",
    "            ds = pydicom.dcmread(fpath, stop_before_pixels=True)\n",
    "\n",
    "            # 3D（マルチフレーム）でも2Dでも IOP を取得\n",
    "            iop = _get_iop_any(ds)\n",
    "            if iop is not None:\n",
    "                orientation, anterior_up = classify_orientation_and_view(iop, coordinate_system=coordinate_system)\n",
    "                return pd.Series({\"orientation_label\": orientation, \"anterior_up\": anterior_up})\n",
    "\n",
    "            # フォールバック：IOPがどこにも無い → 3Dなら IPP から法線推定して向きだけ判定\n",
    "            n = _estimate_normal_from_pffgs_positions(ds)\n",
    "            if n is not None:\n",
    "                # normal と各基本軸の類似度で AXIAL/CORONAL/SAGITTAL を決定\n",
    "                axial   = np.array([0, 0, 1], dtype=float)\n",
    "                coronal = np.array([0, 1, 0], dtype=float)\n",
    "                sagittal= np.array([1, 0, 0], dtype=float)\n",
    "                def sim(a, b):\n",
    "                    na = np.linalg.norm(a); nb = np.linalg.norm(b)\n",
    "                    return abs(float(np.dot(a, b)) / (na * nb))\n",
    "                scores = {\n",
    "                    \"AXIAL\": sim(n, axial),\n",
    "                    \"CORONAL\": sim(n, coronal),\n",
    "                    \"SAGITTAL\": sim(n, sagittal),\n",
    "                }\n",
    "                orientation = max(scores, key=scores.get)\n",
    "                # colベクトルが無いので anterior_up は判定不能\n",
    "                return pd.Series({\"orientation_label\": orientation, \"anterior_up\": None})\n",
    "\n",
    "        except Exception as e:\n",
    "            print(f\"スキップ: {fname} - {str(e)}\")\n",
    "            continue\n",
    "\n",
    "    # 何も拾えなかった場合\n",
    "    return pd.Series({\"orientation_label\": None, \"anterior_up\": None})\n"
   ]
  },
  {
   "cell_type": "code",
   "execution_count": 35,
   "id": "02143cee",
   "metadata": {
    "execution": {
     "iopub.execute_input": "2025-09-16T13:18:10.935224Z",
     "iopub.status.busy": "2025-09-16T13:18:10.934884Z",
     "iopub.status.idle": "2025-09-16T13:18:10.957503Z",
     "shell.execute_reply": "2025-09-16T13:18:10.956265Z"
    },
    "papermill": {
     "duration": 0.04097,
     "end_time": "2025-09-16T13:18:10.959597",
     "exception": false,
     "start_time": "2025-09-16T13:18:10.918627",
     "status": "completed"
    },
    "tags": []
   },
   "outputs": [],
   "source": [
    "#df = df[df['SOPInstanceUID'].notna()].reset_index(drop=True)\n",
    "series_root = '/kaggle/input/rsna-intracranial-aneurysm-detection/series'\n",
    "df['SeriesPath'] = df['SeriesInstanceUID'].apply(lambda x: os.path.join(series_root, x))"
   ]
  },
  {
   "cell_type": "code",
   "execution_count": 36,
   "id": "5f0d8998",
   "metadata": {
    "execution": {
     "iopub.execute_input": "2025-09-16T13:18:10.988572Z",
     "iopub.status.busy": "2025-09-16T13:18:10.988099Z",
     "iopub.status.idle": "2025-09-16T13:20:41.057931Z",
     "shell.execute_reply": "2025-09-16T13:20:41.056644Z"
    },
    "papermill": {
     "duration": 150.086133,
     "end_time": "2025-09-16T13:20:41.059883",
     "exception": false,
     "start_time": "2025-09-16T13:18:10.973750",
     "status": "completed"
    },
    "tags": []
   },
   "outputs": [],
   "source": [
    "df[[\"OrientationLabel\", \"AnteriorUp\"]] = df.apply(extract_orientation_info, axis=1)"
   ]
  },
  {
   "cell_type": "code",
   "execution_count": 37,
   "id": "015af7d9",
   "metadata": {
    "execution": {
     "iopub.execute_input": "2025-09-16T13:20:41.087238Z",
     "iopub.status.busy": "2025-09-16T13:20:41.086835Z",
     "iopub.status.idle": "2025-09-16T13:20:41.094933Z",
     "shell.execute_reply": "2025-09-16T13:20:41.093920Z"
    },
    "papermill": {
     "duration": 0.023151,
     "end_time": "2025-09-16T13:20:41.097091",
     "exception": false,
     "start_time": "2025-09-16T13:20:41.073940",
     "status": "completed"
    },
    "tags": []
   },
   "outputs": [
    {
     "data": {
      "text/plain": [
       "0"
      ]
     },
     "execution_count": 37,
     "metadata": {},
     "output_type": "execute_result"
    }
   ],
   "source": [
    "df[\"OrientationLabel\"].isna().sum()"
   ]
  },
  {
   "cell_type": "code",
   "execution_count": 38,
   "id": "9bb90f75",
   "metadata": {
    "execution": {
     "iopub.execute_input": "2025-09-16T13:20:41.124185Z",
     "iopub.status.busy": "2025-09-16T13:20:41.123467Z",
     "iopub.status.idle": "2025-09-16T13:20:41.134519Z",
     "shell.execute_reply": "2025-09-16T13:20:41.133709Z"
    },
    "papermill": {
     "duration": 0.026275,
     "end_time": "2025-09-16T13:20:41.136275",
     "exception": false,
     "start_time": "2025-09-16T13:20:41.110000",
     "status": "completed"
    },
    "tags": []
   },
   "outputs": [],
   "source": [
    "orientation2idx = {'AXIAL': 0,\n",
    "                   'CORONAL': 1,\n",
    "                   'SAGITTAL': 2,\n",
    "                   None : 3\n",
    "                  }\n",
    "modality2idx = {'MRA': 0,\n",
    "                'CTA': 1,\n",
    "                'MRI T2': 2,\n",
    "                'MRI T1post': 3\n",
    "               }\n",
    "df['OrientationLabelEncoded'] = df['OrientationLabel'].map(orientation2idx)\n",
    "df['ModalityEncoded'] = df['Modality'].map(modality2idx)"
   ]
  },
  {
   "cell_type": "code",
   "execution_count": 39,
   "id": "0043f2bb",
   "metadata": {
    "execution": {
     "iopub.execute_input": "2025-09-16T13:20:41.163782Z",
     "iopub.status.busy": "2025-09-16T13:20:41.163442Z",
     "iopub.status.idle": "2025-09-16T13:20:41.259419Z",
     "shell.execute_reply": "2025-09-16T13:20:41.258539Z"
    },
    "papermill": {
     "duration": 0.111787,
     "end_time": "2025-09-16T13:20:41.261098",
     "exception": false,
     "start_time": "2025-09-16T13:20:41.149311",
     "status": "completed"
    },
    "tags": []
   },
   "outputs": [],
   "source": [
    "dcm_paths = list(Path('/kaggle/input/rsna-intracranial-aneurysm-detection/series/1.2.826.0.1.3680043.8.498.10012790035410518400400834395242853657').glob('*'))\n",
    "dcm = pydicom.dcmread(dcm_paths[0])"
   ]
  },
  {
   "cell_type": "code",
   "execution_count": 40,
   "id": "6478b9a1",
   "metadata": {
    "execution": {
     "iopub.execute_input": "2025-09-16T13:20:41.287054Z",
     "iopub.status.busy": "2025-09-16T13:20:41.286198Z",
     "iopub.status.idle": "2025-09-16T13:20:44.170475Z",
     "shell.execute_reply": "2025-09-16T13:20:44.169506Z"
    },
    "papermill": {
     "duration": 2.901096,
     "end_time": "2025-09-16T13:20:44.174650",
     "exception": false,
     "start_time": "2025-09-16T13:20:41.273554",
     "status": "completed"
    },
    "tags": []
   },
   "outputs": [
    {
     "data": {
      "text/plain": [
       "<matplotlib.image.AxesImage at 0x7d8e451565d0>"
      ]
     },
     "execution_count": 40,
     "metadata": {},
     "output_type": "execute_result"
    },
    {
     "data": {
      "image/png": "[encoded data removed]",
      "text/plain": [
       "<Figure size 640x480 with 1 Axes>"
      ]
     },
     "metadata": {},
     "output_type": "display_data"
    }
   ],
   "source": [
    "plt.imshow(dcm.pixel_array[70])\n"
   ]
  },
  {
   "cell_type": "code",
   "execution_count": 41,
   "id": "d6eade47",
   "metadata": {
    "execution": {
     "iopub.execute_input": "2025-09-16T13:20:44.206074Z",
     "iopub.status.busy": "2025-09-16T13:20:44.205723Z",
     "iopub.status.idle": "2025-09-16T13:20:44.217033Z",
     "shell.execute_reply": "2025-09-16T13:20:44.216041Z"
    },
    "papermill": {
     "duration": 0.029274,
     "end_time": "2025-09-16T13:20:44.218962",
     "exception": false,
     "start_time": "2025-09-16T13:20:44.189688",
     "status": "completed"
    },
    "tags": []
   },
   "outputs": [],
   "source": [
    "df_2d = df[df['ndim']==3].reset_index(drop=True)"
   ]
  },
  {
   "cell_type": "code",
   "execution_count": 42,
   "id": "d899c307",
   "metadata": {
    "execution": {
     "iopub.execute_input": "2025-09-16T13:20:44.251263Z",
     "iopub.status.busy": "2025-09-16T13:20:44.250915Z",
     "iopub.status.idle": "2025-09-16T13:20:44.260781Z",
     "shell.execute_reply": "2025-09-16T13:20:44.259964Z"
    },
    "papermill": {
     "duration": 0.027991,
     "end_time": "2025-09-16T13:20:44.262414",
     "exception": false,
     "start_time": "2025-09-16T13:20:44.234423",
     "status": "completed"
    },
    "tags": []
   },
   "outputs": [
    {
     "data": {
      "text/plain": [
       "0                     0.3515625,0.3515625\n",
       "1                           0.4492,0.4492\n",
       "2                 0.439453125,0.439453125\n",
       "3                       0.286458,0.286458\n",
       "5                   0.48828125,0.48828125\n",
       "                      ...                \n",
       "4342                          0.430,0.430\n",
       "4343    0.83333331346511,0.83333331346511\n",
       "4344                    0.260417,0.260417\n",
       "4345              0.505859375,0.505859375\n",
       "4347                0.44921875,0.44921875\n",
       "Name: PixelSpacing, Length: 4026, dtype: object"
      ]
     },
     "execution_count": 42,
     "metadata": {},
     "output_type": "execute_result"
    }
   ],
   "source": [
    "df.loc[df['ndim']==2, 'PixelSpacing']"
   ]
  },
  {
   "cell_type": "code",
   "execution_count": 43,
   "id": "a4ebaf2d",
   "metadata": {
    "execution": {
     "iopub.execute_input": "2025-09-16T13:20:44.295190Z",
     "iopub.status.busy": "2025-09-16T13:20:44.294833Z",
     "iopub.status.idle": "2025-09-16T13:20:44.302607Z",
     "shell.execute_reply": "2025-09-16T13:20:44.301657Z"
    },
    "papermill": {
     "duration": 0.026156,
     "end_time": "2025-09-16T13:20:44.304548",
     "exception": false,
     "start_time": "2025-09-16T13:20:44.278392",
     "status": "completed"
    },
    "tags": []
   },
   "outputs": [
    {
     "data": {
      "text/plain": [
       "OrientationLabel\n",
       "AXIAL    322\n",
       "Name: count, dtype: int64"
      ]
     },
     "execution_count": 43,
     "metadata": {},
     "output_type": "execute_result"
    }
   ],
   "source": [
    "df_2d['OrientationLabel'].value_counts()"
   ]
  },
  {
   "cell_type": "code",
   "execution_count": 44,
   "id": "55b82321",
   "metadata": {
    "execution": {
     "iopub.execute_input": "2025-09-16T13:20:44.337777Z",
     "iopub.status.busy": "2025-09-16T13:20:44.337409Z",
     "iopub.status.idle": "2025-09-16T13:20:44.342178Z",
     "shell.execute_reply": "2025-09-16T13:20:44.341264Z"
    },
    "papermill": {
     "duration": 0.023388,
     "end_time": "2025-09-16T13:20:44.343993",
     "exception": false,
     "start_time": "2025-09-16T13:20:44.320605",
     "status": "completed"
    },
    "tags": []
   },
   "outputs": [],
   "source": [
    "from iterstrat.ml_stratifiers import MultilabelStratifiedKFold"
   ]
  },
  {
   "cell_type": "code",
   "execution_count": 45,
   "id": "c03096b3",
   "metadata": {
    "execution": {
     "iopub.execute_input": "2025-09-16T13:20:44.376544Z",
     "iopub.status.busy": "2025-09-16T13:20:44.376157Z",
     "iopub.status.idle": "2025-09-16T13:20:44.510907Z",
     "shell.execute_reply": "2025-09-16T13:20:44.509796Z"
    },
    "papermill": {
     "duration": 0.152683,
     "end_time": "2025-09-16T13:20:44.512665",
     "exception": false,
     "start_time": "2025-09-16T13:20:44.359982",
     "status": "completed"
    },
    "tags": []
   },
   "outputs": [],
   "source": [
    "y = df[['Left Infraclinoid Internal Carotid Artery',\n",
    "        'Right Infraclinoid Internal Carotid Artery',\n",
    "        'Left Supraclinoid Internal Carotid Artery',\n",
    "        'Right Supraclinoid Internal Carotid Artery',\n",
    "        'Left Middle Cerebral Artery',\n",
    "        'Right Middle Cerebral Artery',\n",
    "        'Anterior Communicating Artery',\n",
    "        'Left Anterior Cerebral Artery',\n",
    "        'Right Anterior Cerebral Artery',\n",
    "        'Left Posterior Communicating Artery',\n",
    "        'Right Posterior Communicating Artery',\n",
    "        'Basilar Tip',\n",
    "        'Other Posterior Circulation',\n",
    "        'Aneurysm Present',\n",
    "        'OrientationLabelEncoded', # axial, sagittal, coronal\n",
    "        'ModalityEncoded'\n",
    "       ]].to_numpy(dtype=int)\n",
    "\n",
    "mskf = MultilabelStratifiedKFold(\n",
    "    n_splits=5,\n",
    "    shuffle=True,\n",
    "    random_state=42,\n",
    ")\n",
    "\n",
    "# ── 3) fold 割り当て ──────────────────────────────\n",
    "df[\"fold\"] = -1\n",
    "for fold, (_, val_idx) in enumerate(mskf.split(np.zeros(len(df)), y)):\n",
    "    df.loc[val_idx, \"fold\"] = fold"
   ]
  },
  {
   "cell_type": "code",
   "execution_count": 46,
   "id": "1cd4ec2f",
   "metadata": {
    "execution": {
     "iopub.execute_input": "2025-09-16T13:20:44.545360Z",
     "iopub.status.busy": "2025-09-16T13:20:44.544955Z",
     "iopub.status.idle": "2025-09-16T13:20:44.553301Z",
     "shell.execute_reply": "2025-09-16T13:20:44.552334Z"
    },
    "papermill": {
     "duration": 0.027243,
     "end_time": "2025-09-16T13:20:44.554987",
     "exception": false,
     "start_time": "2025-09-16T13:20:44.527744",
     "status": "completed"
    },
    "tags": []
   },
   "outputs": [
    {
     "data": {
      "text/plain": [
       "0                     0.3515625,0.3515625\n",
       "1                           0.4492,0.4492\n",
       "2                 0.439453125,0.439453125\n",
       "3                       0.286458,0.286458\n",
       "4                                 0.5,0.5\n",
       "                      ...                \n",
       "4343    0.83333331346511,0.83333331346511\n",
       "4344                    0.260417,0.260417\n",
       "4345              0.505859375,0.505859375\n",
       "4346                              0.5,0.5\n",
       "4347                0.44921875,0.44921875\n",
       "Name: PixelSpacing, Length: 4348, dtype: object"
      ]
     },
     "execution_count": 46,
     "metadata": {},
     "output_type": "execute_result"
    }
   ],
   "source": [
    "df['PixelSpacing']"
   ]
  },
  {
   "cell_type": "code",
   "execution_count": 47,
   "id": "ffb5996b",
   "metadata": {
    "execution": {
     "iopub.execute_input": "2025-09-16T13:20:44.587081Z",
     "iopub.status.busy": "2025-09-16T13:20:44.586792Z",
     "iopub.status.idle": "2025-09-16T13:20:52.833157Z",
     "shell.execute_reply": "2025-09-16T13:20:52.831723Z"
    },
    "papermill": {
     "duration": 8.264312,
     "end_time": "2025-09-16T13:20:52.835009",
     "exception": false,
     "start_time": "2025-09-16T13:20:44.570697",
     "status": "completed"
    },
    "tags": []
   },
   "outputs": [],
   "source": [
    "df.to_csv('train_add_metadata_v5.csv', index=False)"
   ]
  },
  {
   "cell_type": "code",
   "execution_count": 48,
   "id": "96d9f0de",
   "metadata": {
    "execution": {
     "iopub.execute_input": "2025-09-16T13:20:52.869061Z",
     "iopub.status.busy": "2025-09-16T13:20:52.868730Z",
     "iopub.status.idle": "2025-09-16T13:20:52.875810Z",
     "shell.execute_reply": "2025-09-16T13:20:52.874780Z"
    },
    "papermill": {
     "duration": 0.026144,
     "end_time": "2025-09-16T13:20:52.877743",
     "exception": false,
     "start_time": "2025-09-16T13:20:52.851599",
     "status": "completed"
    },
    "tags": []
   },
   "outputs": [
    {
     "data": {
      "text/plain": [
       "0"
      ]
     },
     "execution_count": 48,
     "metadata": {},
     "output_type": "execute_result"
    }
   ],
   "source": [
    "df['Modality'].isna().sum()"
   ]
  },
  {
   "cell_type": "code",
   "execution_count": 49,
   "id": "9c93fac7",
   "metadata": {
    "execution": {
     "iopub.execute_input": "2025-09-16T13:20:52.911325Z",
     "iopub.status.busy": "2025-09-16T13:20:52.910925Z",
     "iopub.status.idle": "2025-09-16T13:20:52.920257Z",
     "shell.execute_reply": "2025-09-16T13:20:52.918988Z"
    },
    "papermill": {
     "duration": 0.028123,
     "end_time": "2025-09-16T13:20:52.922285",
     "exception": false,
     "start_time": "2025-09-16T13:20:52.894162",
     "status": "completed"
    },
    "tags": []
   },
   "outputs": [
    {
     "data": {
      "text/plain": [
       "OrientationLabel\n",
       "AXIAL    142\n",
       "Name: count, dtype: int64"
      ]
     },
     "execution_count": 49,
     "metadata": {},
     "output_type": "execute_result"
    }
   ],
   "source": [
    "df_2d.loc[df_2d['Aneurysm Present']==1, 'OrientationLabel'].value_counts()"
   ]
  },
  {
   "cell_type": "code",
   "execution_count": 50,
   "id": "2bf1a7e9",
   "metadata": {
    "execution": {
     "iopub.execute_input": "2025-09-16T13:20:52.955375Z",
     "iopub.status.busy": "2025-09-16T13:20:52.955005Z",
     "iopub.status.idle": "2025-09-16T13:20:52.963462Z",
     "shell.execute_reply": "2025-09-16T13:20:52.962454Z"
    },
    "papermill": {
     "duration": 0.027123,
     "end_time": "2025-09-16T13:20:52.964976",
     "exception": false,
     "start_time": "2025-09-16T13:20:52.937853",
     "status": "completed"
    },
    "tags": []
   },
   "outputs": [
    {
     "data": {
      "text/plain": [
       "OrientationLabel\n",
       "AXIAL    180\n",
       "Name: count, dtype: int64"
      ]
     },
     "execution_count": 50,
     "metadata": {},
     "output_type": "execute_result"
    }
   ],
   "source": [
    "df_2d.loc[df_2d['Aneurysm Present']==0, 'OrientationLabel'].value_counts()"
   ]
  },
  {
   "cell_type": "code",
   "execution_count": 51,
   "id": "fdc91b92",
   "metadata": {
    "execution": {
     "iopub.execute_input": "2025-09-16T13:20:52.999098Z",
     "iopub.status.busy": "2025-09-16T13:20:52.998601Z",
     "iopub.status.idle": "2025-09-16T13:20:53.025320Z",
     "shell.execute_reply": "2025-09-16T13:20:53.024342Z"
    },
    "papermill": {
     "duration": 0.045767,
     "end_time": "2025-09-16T13:20:53.026922",
     "exception": false,
     "start_time": "2025-09-16T13:20:52.981155",
     "status": "completed"
    },
    "tags": []
   },
   "outputs": [
    {
     "data": {
      "text/html": [
       "<div>\n",
       "<style scoped>\n",
       "    .dataframe tbody tr th:only-of-type {\n",
       "        vertical-align: middle;\n",
       "    }\n",
       "\n",
       "    .dataframe tbody tr th {\n",
       "        vertical-align: top;\n",
       "    }\n",
       "\n",
       "    .dataframe thead th {\n",
       "        text-align: right;\n",
       "    }\n",
       "</style>\n",
       "<table border=\"1\" class=\"dataframe\">\n",
       "  <thead>\n",
       "    <tr style=\"text-align: right;\">\n",
       "      <th></th>\n",
       "      <th>SeriesInstanceUID</th>\n",
       "      <th>PatientAge</th>\n",
       "      <th>PatientSex</th>\n",
       "      <th>Modality</th>\n",
       "      <th>Left Infraclinoid Internal Carotid Artery</th>\n",
       "      <th>Right Infraclinoid Internal Carotid Artery</th>\n",
       "      <th>Left Supraclinoid Internal Carotid Artery</th>\n",
       "      <th>Right Supraclinoid Internal Carotid Artery</th>\n",
       "      <th>Left Middle Cerebral Artery</th>\n",
       "      <th>Right Middle Cerebral Artery</th>\n",
       "      <th>...</th>\n",
       "      <th>SamplesPerPixel</th>\n",
       "      <th>SliceThickness</th>\n",
       "      <th>SpacingBetweenSlices</th>\n",
       "      <th>StudyInstanceUID</th>\n",
       "      <th>TransferSyntaxUID</th>\n",
       "      <th>SeriesPath</th>\n",
       "      <th>OrientationLabel</th>\n",
       "      <th>AnteriorUp</th>\n",
       "      <th>OrientationLabelEncoded</th>\n",
       "      <th>ModalityEncoded</th>\n",
       "    </tr>\n",
       "  </thead>\n",
       "  <tbody>\n",
       "    <tr>\n",
       "      <th>0</th>\n",
       "      <td>1.2.826.0.1.3680043.8.498.10012790035410518400...</td>\n",
       "      <td>48</td>\n",
       "      <td>Female</td>\n",
       "      <td>MRA</td>\n",
       "      <td>0</td>\n",
       "      <td>0</td>\n",
       "      <td>0</td>\n",
       "      <td>0</td>\n",
       "      <td>0</td>\n",
       "      <td>0</td>\n",
       "      <td>...</td>\n",
       "      <td>1</td>\n",
       "      <td>0.55</td>\n",
       "      <td>0.55</td>\n",
       "      <td>1.2.826.0.1.3680043.8.498.11176237056004257732...</td>\n",
       "      <td>None</td>\n",
       "      <td>/kaggle/input/rsna-intracranial-aneurysm-detec...</td>\n",
       "      <td>AXIAL</td>\n",
       "      <td>False</td>\n",
       "      <td>0</td>\n",
       "      <td>0</td>\n",
       "    </tr>\n",
       "    <tr>\n",
       "      <th>1</th>\n",
       "      <td>1.2.826.0.1.3680043.8.498.10030804647049037739...</td>\n",
       "      <td>35</td>\n",
       "      <td>Female</td>\n",
       "      <td>MRI T2</td>\n",
       "      <td>0</td>\n",
       "      <td>0</td>\n",
       "      <td>0</td>\n",
       "      <td>0</td>\n",
       "      <td>0</td>\n",
       "      <td>0</td>\n",
       "      <td>...</td>\n",
       "      <td>1</td>\n",
       "      <td>5.00</td>\n",
       "      <td>5.00</td>\n",
       "      <td>1.2.826.0.1.3680043.8.498.24058174157687688105...</td>\n",
       "      <td>None</td>\n",
       "      <td>/kaggle/input/rsna-intracranial-aneurysm-detec...</td>\n",
       "      <td>AXIAL</td>\n",
       "      <td>False</td>\n",
       "      <td>0</td>\n",
       "      <td>2</td>\n",
       "    </tr>\n",
       "    <tr>\n",
       "      <th>2</th>\n",
       "      <td>1.2.826.0.1.3680043.8.498.10035782880104673269...</td>\n",
       "      <td>26</td>\n",
       "      <td>Female</td>\n",
       "      <td>MRA</td>\n",
       "      <td>0</td>\n",
       "      <td>0</td>\n",
       "      <td>0</td>\n",
       "      <td>0</td>\n",
       "      <td>0</td>\n",
       "      <td>0</td>\n",
       "      <td>...</td>\n",
       "      <td>1</td>\n",
       "      <td>0.55</td>\n",
       "      <td>0.55</td>\n",
       "      <td>1.2.826.0.1.3680043.8.498.11035097333885684808...</td>\n",
       "      <td>None</td>\n",
       "      <td>/kaggle/input/rsna-intracranial-aneurysm-detec...</td>\n",
       "      <td>AXIAL</td>\n",
       "      <td>False</td>\n",
       "      <td>0</td>\n",
       "      <td>0</td>\n",
       "    </tr>\n",
       "    <tr>\n",
       "      <th>3</th>\n",
       "      <td>1.2.826.0.1.3680043.8.498.10100852389239445465...</td>\n",
       "      <td>66</td>\n",
       "      <td>Female</td>\n",
       "      <td>MRA</td>\n",
       "      <td>0</td>\n",
       "      <td>0</td>\n",
       "      <td>0</td>\n",
       "      <td>0</td>\n",
       "      <td>0</td>\n",
       "      <td>0</td>\n",
       "      <td>...</td>\n",
       "      <td>1</td>\n",
       "      <td>0.55</td>\n",
       "      <td>0.55</td>\n",
       "      <td>1.2.826.0.1.3680043.8.498.50704600440306885585...</td>\n",
       "      <td>None</td>\n",
       "      <td>/kaggle/input/rsna-intracranial-aneurysm-detec...</td>\n",
       "      <td>AXIAL</td>\n",
       "      <td>False</td>\n",
       "      <td>0</td>\n",
       "      <td>0</td>\n",
       "    </tr>\n",
       "    <tr>\n",
       "      <th>4</th>\n",
       "      <td>1.2.826.0.1.3680043.8.498.10122841756457641138...</td>\n",
       "      <td>67</td>\n",
       "      <td>Male</td>\n",
       "      <td>MRA</td>\n",
       "      <td>0</td>\n",
       "      <td>0</td>\n",
       "      <td>0</td>\n",
       "      <td>0</td>\n",
       "      <td>0</td>\n",
       "      <td>0</td>\n",
       "      <td>...</td>\n",
       "      <td>1</td>\n",
       "      <td>0.55</td>\n",
       "      <td>0.55</td>\n",
       "      <td>1.2.826.0.1.3680043.8.498.12291810892107817648...</td>\n",
       "      <td>None</td>\n",
       "      <td>/kaggle/input/rsna-intracranial-aneurysm-detec...</td>\n",
       "      <td>AXIAL</td>\n",
       "      <td>False</td>\n",
       "      <td>0</td>\n",
       "      <td>0</td>\n",
       "    </tr>\n",
       "    <tr>\n",
       "      <th>...</th>\n",
       "      <td>...</td>\n",
       "      <td>...</td>\n",
       "      <td>...</td>\n",
       "      <td>...</td>\n",
       "      <td>...</td>\n",
       "      <td>...</td>\n",
       "      <td>...</td>\n",
       "      <td>...</td>\n",
       "      <td>...</td>\n",
       "      <td>...</td>\n",
       "      <td>...</td>\n",
       "      <td>...</td>\n",
       "      <td>...</td>\n",
       "      <td>...</td>\n",
       "      <td>...</td>\n",
       "      <td>...</td>\n",
       "      <td>...</td>\n",
       "      <td>...</td>\n",
       "      <td>...</td>\n",
       "      <td>...</td>\n",
       "      <td>...</td>\n",
       "    </tr>\n",
       "    <tr>\n",
       "      <th>317</th>\n",
       "      <td>1.2.826.0.1.3680043.8.498.99007392295674293994...</td>\n",
       "      <td>86</td>\n",
       "      <td>Female</td>\n",
       "      <td>MRI T2</td>\n",
       "      <td>0</td>\n",
       "      <td>0</td>\n",
       "      <td>0</td>\n",
       "      <td>0</td>\n",
       "      <td>0</td>\n",
       "      <td>0</td>\n",
       "      <td>...</td>\n",
       "      <td>1</td>\n",
       "      <td>5.00</td>\n",
       "      <td>5.00</td>\n",
       "      <td>1.2.826.0.1.3680043.8.498.78000054097408215919...</td>\n",
       "      <td>None</td>\n",
       "      <td>/kaggle/input/rsna-intracranial-aneurysm-detec...</td>\n",
       "      <td>AXIAL</td>\n",
       "      <td>False</td>\n",
       "      <td>0</td>\n",
       "      <td>2</td>\n",
       "    </tr>\n",
       "    <tr>\n",
       "      <th>318</th>\n",
       "      <td>1.2.826.0.1.3680043.8.498.99076120249244346254...</td>\n",
       "      <td>45</td>\n",
       "      <td>Female</td>\n",
       "      <td>MRI T2</td>\n",
       "      <td>0</td>\n",
       "      <td>0</td>\n",
       "      <td>0</td>\n",
       "      <td>0</td>\n",
       "      <td>0</td>\n",
       "      <td>0</td>\n",
       "      <td>...</td>\n",
       "      <td>1</td>\n",
       "      <td>5.00</td>\n",
       "      <td>5.00</td>\n",
       "      <td>1.2.826.0.1.3680043.8.498.18771503078570086673...</td>\n",
       "      <td>None</td>\n",
       "      <td>/kaggle/input/rsna-intracranial-aneurysm-detec...</td>\n",
       "      <td>AXIAL</td>\n",
       "      <td>False</td>\n",
       "      <td>0</td>\n",
       "      <td>2</td>\n",
       "    </tr>\n",
       "    <tr>\n",
       "      <th>319</th>\n",
       "      <td>1.2.826.0.1.3680043.8.498.99143674930369135046...</td>\n",
       "      <td>38</td>\n",
       "      <td>Female</td>\n",
       "      <td>MRA</td>\n",
       "      <td>0</td>\n",
       "      <td>0</td>\n",
       "      <td>0</td>\n",
       "      <td>0</td>\n",
       "      <td>0</td>\n",
       "      <td>0</td>\n",
       "      <td>...</td>\n",
       "      <td>1</td>\n",
       "      <td>0.55</td>\n",
       "      <td>0.55</td>\n",
       "      <td>1.2.826.0.1.3680043.8.498.33634606118528791107...</td>\n",
       "      <td>None</td>\n",
       "      <td>/kaggle/input/rsna-intracranial-aneurysm-detec...</td>\n",
       "      <td>AXIAL</td>\n",
       "      <td>False</td>\n",
       "      <td>0</td>\n",
       "      <td>0</td>\n",
       "    </tr>\n",
       "    <tr>\n",
       "      <th>320</th>\n",
       "      <td>1.2.826.0.1.3680043.8.498.99804081131933373817...</td>\n",
       "      <td>57</td>\n",
       "      <td>Female</td>\n",
       "      <td>MRI T2</td>\n",
       "      <td>0</td>\n",
       "      <td>0</td>\n",
       "      <td>1</td>\n",
       "      <td>0</td>\n",
       "      <td>0</td>\n",
       "      <td>0</td>\n",
       "      <td>...</td>\n",
       "      <td>1</td>\n",
       "      <td>6.00</td>\n",
       "      <td>6.00</td>\n",
       "      <td>1.2.826.0.1.3680043.8.498.11819620448760534150...</td>\n",
       "      <td>None</td>\n",
       "      <td>/kaggle/input/rsna-intracranial-aneurysm-detec...</td>\n",
       "      <td>AXIAL</td>\n",
       "      <td>False</td>\n",
       "      <td>0</td>\n",
       "      <td>2</td>\n",
       "    </tr>\n",
       "    <tr>\n",
       "      <th>321</th>\n",
       "      <td>1.2.826.0.1.3680043.8.498.99982144859397209076...</td>\n",
       "      <td>58</td>\n",
       "      <td>Female</td>\n",
       "      <td>MRI T2</td>\n",
       "      <td>0</td>\n",
       "      <td>0</td>\n",
       "      <td>0</td>\n",
       "      <td>0</td>\n",
       "      <td>0</td>\n",
       "      <td>0</td>\n",
       "      <td>...</td>\n",
       "      <td>1</td>\n",
       "      <td>5.00</td>\n",
       "      <td>5.00</td>\n",
       "      <td>1.2.826.0.1.3680043.8.498.95556850838850796737...</td>\n",
       "      <td>None</td>\n",
       "      <td>/kaggle/input/rsna-intracranial-aneurysm-detec...</td>\n",
       "      <td>AXIAL</td>\n",
       "      <td>False</td>\n",
       "      <td>0</td>\n",
       "      <td>2</td>\n",
       "    </tr>\n",
       "  </tbody>\n",
       "</table>\n",
       "<p>322 rows × 54 columns</p>\n",
       "</div>"
      ],
      "text/plain": [
       "                                     SeriesInstanceUID  PatientAge PatientSex  \\\n",
       "0    1.2.826.0.1.3680043.8.498.10012790035410518400...          48     Female   \n",
       "1    1.2.826.0.1.3680043.8.498.10030804647049037739...          35     Female   \n",
       "2    1.2.826.0.1.3680043.8.498.10035782880104673269...          26     Female   \n",
       "3    1.2.826.0.1.3680043.8.498.10100852389239445465...          66     Female   \n",
       "4    1.2.826.0.1.3680043.8.498.10122841756457641138...          67       Male   \n",
       "..                                                 ...         ...        ...   \n",
       "317  1.2.826.0.1.3680043.8.498.99007392295674293994...          86     Female   \n",
       "318  1.2.826.0.1.3680043.8.498.99076120249244346254...          45     Female   \n",
       "319  1.2.826.0.1.3680043.8.498.99143674930369135046...          38     Female   \n",
       "320  1.2.826.0.1.3680043.8.498.99804081131933373817...          57     Female   \n",
       "321  1.2.826.0.1.3680043.8.498.99982144859397209076...          58     Female   \n",
       "\n",
       "    Modality  Left Infraclinoid Internal Carotid Artery  \\\n",
       "0        MRA                                          0   \n",
       "1     MRI T2                                          0   \n",
       "2        MRA                                          0   \n",
       "3        MRA                                          0   \n",
       "4        MRA                                          0   \n",
       "..       ...                                        ...   \n",
       "317   MRI T2                                          0   \n",
       "318   MRI T2                                          0   \n",
       "319      MRA                                          0   \n",
       "320   MRI T2                                          0   \n",
       "321   MRI T2                                          0   \n",
       "\n",
       "     Right Infraclinoid Internal Carotid Artery  \\\n",
       "0                                             0   \n",
       "1                                             0   \n",
       "2                                             0   \n",
       "3                                             0   \n",
       "4                                             0   \n",
       "..                                          ...   \n",
       "317                                           0   \n",
       "318                                           0   \n",
       "319                                           0   \n",
       "320                                           0   \n",
       "321                                           0   \n",
       "\n",
       "     Left Supraclinoid Internal Carotid Artery  \\\n",
       "0                                            0   \n",
       "1                                            0   \n",
       "2                                            0   \n",
       "3                                            0   \n",
       "4                                            0   \n",
       "..                                         ...   \n",
       "317                                          0   \n",
       "318                                          0   \n",
       "319                                          0   \n",
       "320                                          1   \n",
       "321                                          0   \n",
       "\n",
       "     Right Supraclinoid Internal Carotid Artery  Left Middle Cerebral Artery  \\\n",
       "0                                             0                            0   \n",
       "1                                             0                            0   \n",
       "2                                             0                            0   \n",
       "3                                             0                            0   \n",
       "4                                             0                            0   \n",
       "..                                          ...                          ...   \n",
       "317                                           0                            0   \n",
       "318                                           0                            0   \n",
       "319                                           0                            0   \n",
       "320                                           0                            0   \n",
       "321                                           0                            0   \n",
       "\n",
       "     Right Middle Cerebral Artery  ...  SamplesPerPixel  SliceThickness  \\\n",
       "0                               0  ...                1            0.55   \n",
       "1                               0  ...                1            5.00   \n",
       "2                               0  ...                1            0.55   \n",
       "3                               0  ...                1            0.55   \n",
       "4                               0  ...                1            0.55   \n",
       "..                            ...  ...              ...             ...   \n",
       "317                             0  ...                1            5.00   \n",
       "318                             0  ...                1            5.00   \n",
       "319                             0  ...                1            0.55   \n",
       "320                             0  ...                1            6.00   \n",
       "321                             0  ...                1            5.00   \n",
       "\n",
       "     SpacingBetweenSlices                                   StudyInstanceUID  \\\n",
       "0                    0.55  1.2.826.0.1.3680043.8.498.11176237056004257732...   \n",
       "1                    5.00  1.2.826.0.1.3680043.8.498.24058174157687688105...   \n",
       "2                    0.55  1.2.826.0.1.3680043.8.498.11035097333885684808...   \n",
       "3                    0.55  1.2.826.0.1.3680043.8.498.50704600440306885585...   \n",
       "4                    0.55  1.2.826.0.1.3680043.8.498.12291810892107817648...   \n",
       "..                    ...                                                ...   \n",
       "317                  5.00  1.2.826.0.1.3680043.8.498.78000054097408215919...   \n",
       "318                  5.00  1.2.826.0.1.3680043.8.498.18771503078570086673...   \n",
       "319                  0.55  1.2.826.0.1.3680043.8.498.33634606118528791107...   \n",
       "320                  6.00  1.2.826.0.1.3680043.8.498.11819620448760534150...   \n",
       "321                  5.00  1.2.826.0.1.3680043.8.498.95556850838850796737...   \n",
       "\n",
       "     TransferSyntaxUID                                         SeriesPath  \\\n",
       "0                 None  /kaggle/input/rsna-intracranial-aneurysm-detec...   \n",
       "1                 None  /kaggle/input/rsna-intracranial-aneurysm-detec...   \n",
       "2                 None  /kaggle/input/rsna-intracranial-aneurysm-detec...   \n",
       "3                 None  /kaggle/input/rsna-intracranial-aneurysm-detec...   \n",
       "4                 None  /kaggle/input/rsna-intracranial-aneurysm-detec...   \n",
       "..                 ...                                                ...   \n",
       "317               None  /kaggle/input/rsna-intracranial-aneurysm-detec...   \n",
       "318               None  /kaggle/input/rsna-intracranial-aneurysm-detec...   \n",
       "319               None  /kaggle/input/rsna-intracranial-aneurysm-detec...   \n",
       "320               None  /kaggle/input/rsna-intracranial-aneurysm-detec...   \n",
       "321               None  /kaggle/input/rsna-intracranial-aneurysm-detec...   \n",
       "\n",
       "     OrientationLabel  AnteriorUp  OrientationLabelEncoded  ModalityEncoded  \n",
       "0               AXIAL       False                        0                0  \n",
       "1               AXIAL       False                        0                2  \n",
       "2               AXIAL       False                        0                0  \n",
       "3               AXIAL       False                        0                0  \n",
       "4               AXIAL       False                        0                0  \n",
       "..                ...         ...                      ...              ...  \n",
       "317             AXIAL       False                        0                2  \n",
       "318             AXIAL       False                        0                2  \n",
       "319             AXIAL       False                        0                0  \n",
       "320             AXIAL       False                        0                2  \n",
       "321             AXIAL       False                        0                2  \n",
       "\n",
       "[322 rows x 54 columns]"
      ]
     },
     "execution_count": 51,
     "metadata": {},
     "output_type": "execute_result"
    }
   ],
   "source": [
    "df_2d"
   ]
  },
  {
   "cell_type": "code",
   "execution_count": 52,
   "id": "cb8a99be",
   "metadata": {
    "execution": {
     "iopub.execute_input": "2025-09-16T13:20:53.065295Z",
     "iopub.status.busy": "2025-09-16T13:20:53.064932Z",
     "iopub.status.idle": "2025-09-16T13:20:53.112469Z",
     "shell.execute_reply": "2025-09-16T13:20:53.111358Z"
    },
    "papermill": {
     "duration": 0.070425,
     "end_time": "2025-09-16T13:20:53.114511",
     "exception": false,
     "start_time": "2025-09-16T13:20:53.044086",
     "status": "completed"
    },
    "tags": []
   },
   "outputs": [],
   "source": [
    "df_2d.to_csv('train_2d_extra.csv')"
   ]
  },
  {
   "cell_type": "code",
   "execution_count": 53,
   "id": "c8841f6e",
   "metadata": {
    "execution": {
     "iopub.execute_input": "2025-09-16T13:20:53.151167Z",
     "iopub.status.busy": "2025-09-16T13:20:53.150725Z",
     "iopub.status.idle": "2025-09-16T13:20:53.164697Z",
     "shell.execute_reply": "2025-09-16T13:20:53.163603Z"
    },
    "papermill": {
     "duration": 0.032576,
     "end_time": "2025-09-16T13:20:53.166371",
     "exception": false,
     "start_time": "2025-09-16T13:20:53.133795",
     "status": "completed"
    },
    "tags": []
   },
   "outputs": [
    {
     "data": {
      "text/plain": [
       "AnteriorUp\n",
       "False    322\n",
       "Name: count, dtype: int64"
      ]
     },
     "execution_count": 53,
     "metadata": {},
     "output_type": "execute_result"
    }
   ],
   "source": [
    "df_2d.loc[df_2d['Aneurysm Present'], \"AnteriorUp\"].value_counts()"
   ]
  },
  {
   "cell_type": "code",
   "execution_count": 54,
   "id": "8d14dbc2",
   "metadata": {
    "execution": {
     "iopub.execute_input": "2025-09-16T13:20:53.202842Z",
     "iopub.status.busy": "2025-09-16T13:20:53.202526Z",
     "iopub.status.idle": "2025-09-16T13:20:53.209999Z",
     "shell.execute_reply": "2025-09-16T13:20:53.209053Z"
    },
    "papermill": {
     "duration": 0.029066,
     "end_time": "2025-09-16T13:20:53.211757",
     "exception": false,
     "start_time": "2025-09-16T13:20:53.182691",
     "status": "completed"
    },
    "tags": []
   },
   "outputs": [
    {
     "data": {
      "text/plain": [
       "AnteriorUp\n",
       "False    322\n",
       "Name: count, dtype: int64"
      ]
     },
     "execution_count": 54,
     "metadata": {},
     "output_type": "execute_result"
    }
   ],
   "source": [
    "df_2d[\"AnteriorUp\"].value_counts()"
   ]
  },
  {
   "cell_type": "code",
   "execution_count": 55,
   "id": "1cc8d7f9",
   "metadata": {
    "execution": {
     "iopub.execute_input": "2025-09-16T13:20:53.246813Z",
     "iopub.status.busy": "2025-09-16T13:20:53.246521Z",
     "iopub.status.idle": "2025-09-16T13:20:53.265070Z",
     "shell.execute_reply": "2025-09-16T13:20:53.264218Z"
    },
    "papermill": {
     "duration": 0.03775,
     "end_time": "2025-09-16T13:20:53.266753",
     "exception": false,
     "start_time": "2025-09-16T13:20:53.229003",
     "status": "completed"
    },
    "tags": []
   },
   "outputs": [
    {
     "data": {
      "text/plain": [
       "OrientationLabel  Modality  Aneurysm Present\n",
       "AXIAL             MRA       1                    80\n",
       "                            0                    77\n",
       "                  MRI T2    0                   103\n",
       "                            1                    62\n",
       "Name: count, dtype: int64"
      ]
     },
     "execution_count": 55,
     "metadata": {},
     "output_type": "execute_result"
    }
   ],
   "source": [
    "df_2d.groupby(['OrientationLabel','Modality'])['Aneurysm Present'].value_counts()"
   ]
  },
  {
   "cell_type": "code",
   "execution_count": 56,
   "id": "b264e2f4",
   "metadata": {
    "execution": {
     "iopub.execute_input": "2025-09-16T13:20:53.304501Z",
     "iopub.status.busy": "2025-09-16T13:20:53.304128Z",
     "iopub.status.idle": "2025-09-16T13:20:53.347398Z",
     "shell.execute_reply": "2025-09-16T13:20:53.346312Z"
    },
    "papermill": {
     "duration": 0.065217,
     "end_time": "2025-09-16T13:20:53.349929",
     "exception": false,
     "start_time": "2025-09-16T13:20:53.284712",
     "status": "completed"
    },
    "tags": []
   },
   "outputs": [
    {
     "name": "stdout",
     "output_type": "stream",
     "text": [
      "======fold0=======\n",
      "OrientationLabel  Modality    Aneurysm Present\n",
      "AXIAL             CTA         1                   188\n",
      "                              0                   172\n",
      "                  MRA         0                   134\n",
      "                              1                   113\n",
      "                  MRI T1post  0                    37\n",
      "                              1                    12\n",
      "                  MRI T2      0                   127\n",
      "                              1                    57\n",
      "CORONAL           CTA         1                     2\n",
      "                  MRA         0                     2\n",
      "                              1                     1\n",
      "                  MRI T1post  0                     3\n",
      "                  MRI T2      0                     3\n",
      "                              1                     1\n",
      "SAGITTAL          MRA         1                     1\n",
      "                  MRI T1post  0                     2\n",
      "                              1                     2\n",
      "                  MRI T2      0                    11\n",
      "                              1                     2\n",
      "Name: count, dtype: int64\n",
      "Left Infraclinoid Internal Carotid Artery     16\n",
      "Right Infraclinoid Internal Carotid Artery    20\n",
      "Left Supraclinoid Internal Carotid Artery     66\n",
      "Right Supraclinoid Internal Carotid Artery    55\n",
      "Left Middle Cerebral Artery                   43\n",
      "Right Middle Cerebral Artery                  58\n",
      "Anterior Communicating Artery                 72\n",
      "Left Anterior Cerebral Artery                  9\n",
      "Right Anterior Cerebral Artery                11\n",
      "Left Posterior Communicating Artery           17\n",
      "Right Posterior Communicating Artery          20\n",
      "Basilar Tip                                   22\n",
      "Other Posterior Circulation                   23\n",
      "dtype: int64\n",
      "======fold1=======\n",
      "OrientationLabel  Modality    Aneurysm Present\n",
      "AXIAL             CTA         1                   185\n",
      "                              0                   160\n",
      "                  MRA         0                   147\n",
      "                              1                   101\n",
      "                  MRI T1post  0                    43\n",
      "                              1                    12\n",
      "                  MRI T2      0                   129\n",
      "                              1                    62\n",
      "CORONAL           MRA         0                     1\n",
      "                              1                     1\n",
      "                  MRI T1post  0                     6\n",
      "                              1                     3\n",
      "                  MRI T2      0                     7\n",
      "SAGITTAL          CTA         1                     5\n",
      "                  MRI T1post  0                     2\n",
      "                  MRI T2      0                     5\n",
      "                              1                     1\n",
      "Name: count, dtype: int64\n",
      "Left Infraclinoid Internal Carotid Artery     15\n",
      "Right Infraclinoid Internal Carotid Artery    19\n",
      "Left Supraclinoid Internal Carotid Artery     66\n",
      "Right Supraclinoid Internal Carotid Artery    56\n",
      "Left Middle Cerebral Artery                   44\n",
      "Right Middle Cerebral Artery                  59\n",
      "Anterior Communicating Artery                 73\n",
      "Left Anterior Cerebral Artery                  9\n",
      "Right Anterior Cerebral Artery                12\n",
      "Left Posterior Communicating Artery           17\n",
      "Right Posterior Communicating Artery          20\n",
      "Basilar Tip                                   22\n",
      "Other Posterior Circulation                   22\n",
      "dtype: int64\n",
      "======fold2=======\n",
      "OrientationLabel  Modality    Aneurysm Present\n",
      "AXIAL             CTA         1                   198\n",
      "                              0                   146\n",
      "                  MRA         0                   138\n",
      "                              1                   109\n",
      "                  MRI T1post  0                    39\n",
      "                              1                    12\n",
      "                  MRI T2      0                   145\n",
      "                              1                    51\n",
      "CORONAL           CTA         1                     2\n",
      "                  MRA         0                     2\n",
      "                              1                     1\n",
      "                  MRI T1post  0                     2\n",
      "                  MRI T2      0                    15\n",
      "SAGITTAL          CTA         1                     3\n",
      "                  MRI T1post  0                     2\n",
      "                              1                     1\n",
      "                  MRI T2      0                     2\n",
      "                              1                     1\n",
      "Name: count, dtype: int64\n",
      "Left Infraclinoid Internal Carotid Artery     16\n",
      "Right Infraclinoid Internal Carotid Artery    20\n",
      "Left Supraclinoid Internal Carotid Artery     66\n",
      "Right Supraclinoid Internal Carotid Artery    55\n",
      "Left Middle Cerebral Artery                   44\n",
      "Right Middle Cerebral Artery                  59\n",
      "Anterior Communicating Artery                 72\n",
      "Left Anterior Cerebral Artery                  9\n",
      "Right Anterior Cerebral Artery                11\n",
      "Left Posterior Communicating Artery           17\n",
      "Right Posterior Communicating Artery          20\n",
      "Basilar Tip                                   22\n",
      "Other Posterior Circulation                   23\n",
      "dtype: int64\n",
      "======fold3=======\n",
      "OrientationLabel  Modality    Aneurysm Present\n",
      "AXIAL             CTA         1                   187\n",
      "                              0                   175\n",
      "                  MRA         0                   126\n",
      "                              1                   121\n",
      "                  MRI T1post  0                    39\n",
      "                              1                    14\n",
      "                  MRI T2      0                   135\n",
      "                              1                    42\n",
      "CORONAL           CTA         1                     2\n",
      "                  MRA         0                     4\n",
      "                  MRI T1post  0                     6\n",
      "                  MRI T2      0                     8\n",
      "                              1                     2\n",
      "SAGITTAL          MRI T1post  0                     5\n",
      "                              1                     1\n",
      "                  MRI T2      0                     2\n",
      "                              1                     1\n",
      "Name: count, dtype: int64\n",
      "Left Infraclinoid Internal Carotid Artery     16\n",
      "Right Infraclinoid Internal Carotid Artery    19\n",
      "Left Supraclinoid Internal Carotid Artery     66\n",
      "Right Supraclinoid Internal Carotid Artery    55\n",
      "Left Middle Cerebral Artery                   44\n",
      "Right Middle Cerebral Artery                  59\n",
      "Anterior Communicating Artery                 73\n",
      "Left Anterior Cerebral Artery                  9\n",
      "Right Anterior Cerebral Artery                11\n",
      "Left Posterior Communicating Artery           17\n",
      "Right Posterior Communicating Artery          21\n",
      "Basilar Tip                                   22\n",
      "Other Posterior Circulation                   23\n",
      "dtype: int64\n",
      "======fold4=======\n",
      "OrientationLabel  Modality    Aneurysm Present\n",
      "AXIAL             CTA         1                   202\n",
      "                              0                   181\n",
      "                  MRA         0                   143\n",
      "                              1                   107\n",
      "                  MRI T1post  0                    32\n",
      "                              1                    18\n",
      "                  MRI T2      0                   121\n",
      "                              1                    34\n",
      "CORONAL           MRI T1post  0                     7\n",
      "                  MRI T2      0                     7\n",
      "SAGITTAL          MRI T1post  0                     3\n",
      "                              1                     2\n",
      "                  MRI T2      0                     8\n",
      "                              1                     4\n",
      "Name: count, dtype: int64\n",
      "Left Infraclinoid Internal Carotid Artery     15\n",
      "Right Infraclinoid Internal Carotid Artery    20\n",
      "Left Supraclinoid Internal Carotid Artery     67\n",
      "Right Supraclinoid Internal Carotid Artery    56\n",
      "Left Middle Cerebral Artery                   44\n",
      "Right Middle Cerebral Artery                  59\n",
      "Anterior Communicating Artery                 73\n",
      "Left Anterior Cerebral Artery                 10\n",
      "Right Anterior Cerebral Artery                11\n",
      "Left Posterior Communicating Artery           18\n",
      "Right Posterior Communicating Artery          20\n",
      "Basilar Tip                                   22\n",
      "Other Posterior Circulation                   22\n",
      "dtype: int64\n"
     ]
    }
   ],
   "source": [
    "for fold in [0, 1, 2, 3, 4]:\n",
    "    print(f'======fold{fold}=======')\n",
    "    df_tmp = df[df['fold']==fold]\n",
    "    print(df_tmp.groupby(['OrientationLabel','Modality'])['Aneurysm Present'].value_counts())\n",
    "    print(df_tmp[['Left Infraclinoid Internal Carotid Artery',\n",
    "        'Right Infraclinoid Internal Carotid Artery',\n",
    "        'Left Supraclinoid Internal Carotid Artery',\n",
    "        'Right Supraclinoid Internal Carotid Artery',\n",
    "        'Left Middle Cerebral Artery',\n",
    "        'Right Middle Cerebral Artery',\n",
    "        'Anterior Communicating Artery',\n",
    "        'Left Anterior Cerebral Artery',\n",
    "        'Right Anterior Cerebral Artery',\n",
    "        'Left Posterior Communicating Artery',\n",
    "        'Right Posterior Communicating Artery',\n",
    "        'Basilar Tip',\n",
    "        'Other Posterior Circulation']].sum())"
   ]
  },
  {
   "cell_type": "code",
   "execution_count": 57,
   "id": "46ffa577",
   "metadata": {
    "execution": {
     "iopub.execute_input": "2025-09-16T13:20:53.385343Z",
     "iopub.status.busy": "2025-09-16T13:20:53.384951Z",
     "iopub.status.idle": "2025-09-16T13:20:53.391794Z",
     "shell.execute_reply": "2025-09-16T13:20:53.390814Z"
    },
    "papermill": {
     "duration": 0.026144,
     "end_time": "2025-09-16T13:20:53.393298",
     "exception": false,
     "start_time": "2025-09-16T13:20:53.367154",
     "status": "completed"
    },
    "tags": []
   },
   "outputs": [
    {
     "data": {
      "text/plain": [
       "array(['AXIAL', 'SAGITTAL', 'CORONAL'], dtype=object)"
      ]
     },
     "execution_count": 57,
     "metadata": {},
     "output_type": "execute_result"
    }
   ],
   "source": [
    "df.OrientationLabel.unique()"
   ]
  },
  {
   "cell_type": "code",
   "execution_count": null,
   "id": "69e72b50",
   "metadata": {
    "papermill": {
     "duration": 0.016384,
     "end_time": "2025-09-16T13:20:53.426314",
     "exception": false,
     "start_time": "2025-09-16T13:20:53.409930",
     "status": "completed"
    },
    "tags": []
   },
   "outputs": [],
   "source": []
  }
 ],
 "metadata": {
  "kaggle": {
   "accelerator": "none",
   "dataSources": [
    {
     "databundleVersionId": 13747926,
     "sourceId": 99552,
     "sourceType": "competition"
    },
    {
     "datasetId": 7979194,
     "sourceId": 13073209,
     "sourceType": "datasetVersion"
    }
   ],
   "dockerImageVersionId": 31089,
   "isGpuEnabled": false,
   "isInternetEnabled": true,
   "language": "python",
   "sourceType": "notebook"
  },
  "kernelspec": {
   "display_name": "Python 3",
   "language": "python",
   "name": "python3"
  },
  "language_info": {
   "codemirror_mode": {
    "name": "ipython",
    "version": 3
   },
   "file_extension": ".py",
   "mimetype": "text/x-python",
   "name": "python",
   "nbconvert_exporter": "python",
   "pygments_lexer": "ipython3",
   "version": "3.11.13"
  },
  "papermill": {
   "default_parameters": {},
   "duration": 10945.010883,
   "end_time": "2025-09-16T13:20:56.142343",
   "environment_variables": {},
   "exception": null,
   "input_path": "__notebook__.ipynb",
   "output_path": "__notebook__.ipynb",
   "parameters": {},
   "start_time": "2025-09-16T10:18:31.131460",
   "version": "2.6.0"
  },
  "widgets": {
   "application/vnd.jupyter.widget-state+json": {
    "state": {
     "26fbeb42a7be49f2ba1582a775aacd09": {
      "model_module": "@jupyter-widgets/controls",
      "model_module_version": "2.0.0",
      "model_name": "HBoxModel",
      "state": {
       "_dom_classes": [],
       "_model_module": "@jupyter-widgets/controls",
       "_model_module_version": "2.0.0",
       "_model_name": "HBoxModel",
       "_view_count": null,
       "_view_module": "@jupyter-widgets/controls",
       "_view_module_version": "2.0.0",
       "_view_name": "HBoxView",
       "box_style": "",
       "children": [
        "IPY_MODEL_e1ebd9dfcecb44f6902e14fbbc0bc87c",
        "IPY_MODEL_76e60302801b4ac3bb0aa578ff79e45a",
        "IPY_MODEL_38386b68a2cf440a9623369891e085ce"
       ],
       "layout": "IPY_MODEL_912448c7808a4d17bc65db5724c11f9b",
       "tabbable": null,
       "tooltip": null
      }
     },
     "38386b68a2cf440a9623369891e085ce": {
      "model_module": "@jupyter-widgets/controls",
      "model_module_version": "2.0.0",
      "model_name": "HTMLModel",
      "state": {
       "_dom_classes": [],
       "_model_module": "@jupyter-widgets/controls",
       "_model_module_version": "2.0.0",
       "_model_name": "HTMLModel",
       "_view_count": null,
       "_view_module": "@jupyter-widgets/controls",
       "_view_module_version": "2.0.0",
       "_view_name": "HTMLView",
       "description": "",
       "description_allow_html": false,
       "layout": "IPY_MODEL_9a70bb0d5d20496f98d40b87d651b16a",
       "placeholder": "​",
       "style": "IPY_MODEL_96356c6aa8994fcdab9afdcfed74039a",
       "tabbable": null,
       "tooltip": null,
       "value": " 4348/4348 [2:59:17&lt;00:00,  3.96s/it]"
      }
     },
     "6918b9ad00c14614a3fe32f390549092": {
      "model_module": "@jupyter-widgets/controls",
      "model_module_version": "2.0.0",
      "model_name": "HTMLStyleModel",
      "state": {
       "_model_module": "@jupyter-widgets/controls",
       "_model_module_version": "2.0.0",
       "_model_name": "HTMLStyleModel",
       "_view_count": null,
       "_view_module": "@jupyter-widgets/base",
       "_view_module_version": "2.0.0",
       "_view_name": "StyleView",
       "background": null,
       "description_width": "",
       "font_size": null,
       "text_color": null
      }
     },
     "76e60302801b4ac3bb0aa578ff79e45a": {
      "model_module": "@jupyter-widgets/controls",
      "model_module_version": "2.0.0",
      "model_name": "FloatProgressModel",
      "state": {
       "_dom_classes": [],
       "_model_module": "@jupyter-widgets/controls",
       "_model_module_version": "2.0.0",
       "_model_name": "FloatProgressModel",
       "_view_count": null,
       "_view_module": "@jupyter-widgets/controls",
       "_view_module_version": "2.0.0",
       "_view_name": "ProgressView",
       "bar_style": "success",
       "description": "",
       "description_allow_html": false,
       "layout": "IPY_MODEL_b88f66a7e7c24095ab61aee9979c011a",
       "max": 4348.0,
       "min": 0.0,
       "orientation": "horizontal",
       "style": "IPY_MODEL_a83276e11e4f45a3a227dc389436619b",
       "tabbable": null,
       "tooltip": null,
       "value": 4348.0
      }
     },
     "912448c7808a4d17bc65db5724c11f9b": {
      "model_module": "@jupyter-widgets/base",
      "model_module_version": "2.0.0",
      "model_name": "LayoutModel",
      "state": {
       "_model_module": "@jupyter-widgets/base",
       "_model_module_version": "2.0.0",
       "_model_name": "LayoutModel",
       "_view_count": null,
       "_view_module": "@jupyter-widgets/base",
       "_view_module_version": "2.0.0",
       "_view_name": "LayoutView",
       "align_content": null,
       "align_items": null,
       "align_self": null,
       "border_bottom": null,
       "border_left": null,
       "border_right": null,
       "border_top": null,
       "bottom": null,
       "display": null,
       "flex": null,
       "flex_flow": null,
       "grid_area": null,
       "grid_auto_columns": null,
       "grid_auto_flow": null,
       "grid_auto_rows": null,
       "grid_column": null,
       "grid_gap": null,
       "grid_row": null,
       "grid_template_areas": null,
       "grid_template_columns": null,
       "grid_template_rows": null,
       "height": null,
       "justify_content": null,
       "justify_items": null,
       "left": null,
       "margin": null,
       "max_height": null,
       "max_width": null,
       "min_height": null,
       "min_width": null,
       "object_fit": null,
       "object_position": null,
       "order": null,
       "overflow": null,
       "padding": null,
       "right": null,
       "top": null,
       "visibility": null,
       "width": null
      }
     },
     "96356c6aa8994fcdab9afdcfed74039a": {
      "model_module": "@jupyter-widgets/controls",
      "model_module_version": "2.0.0",
      "model_name": "HTMLStyleModel",
      "state": {
       "_model_module": "@jupyter-widgets/controls",
       "_model_module_version": "2.0.0",
       "_model_name": "HTMLStyleModel",
       "_view_count": null,
       "_view_module": "@jupyter-widgets/base",
       "_view_module_version": "2.0.0",
       "_view_name": "StyleView",
       "background": null,
       "description_width": "",
       "font_size": null,
       "text_color": null
      }
     },
     "9a70bb0d5d20496f98d40b87d651b16a": {
      "model_module": "@jupyter-widgets/base",
      "model_module_version": "2.0.0",
      "model_name": "LayoutModel",
      "state": {
       "_model_module": "@jupyter-widgets/base",
       "_model_module_version": "2.0.0",
       "_model_name": "LayoutModel",
       "_view_count": null,
       "_view_module": "@jupyter-widgets/base",
       "_view_module_version": "2.0.0",
       "_view_name": "LayoutView",
       "align_content": null,
       "align_items": null,
       "align_self": null,
       "border_bottom": null,
       "border_left": null,
       "border_right": null,
       "border_top": null,
       "bottom": null,
       "display": null,
       "flex": null,
       "flex_flow": null,
       "grid_area": null,
       "grid_auto_columns": null,
       "grid_auto_flow": null,
       "grid_auto_rows": null,
       "grid_column": null,
       "grid_gap": null,
       "grid_row": null,
       "grid_template_areas": null,
       "grid_template_columns": null,
       "grid_template_rows": null,
       "height": null,
       "justify_content": null,
       "justify_items": null,
       "left": null,
       "margin": null,
       "max_height": null,
       "max_width": null,
       "min_height": null,
       "min_width": null,
       "object_fit": null,
       "object_position": null,
       "order": null,
       "overflow": null,
       "padding": null,
       "right": null,
       "top": null,
       "visibility": null,
       "width": null
      }
     },
     "a68037cc3fc34d159b9130185f9f4b55": {
      "model_module": "@jupyter-widgets/base",
      "model_module_version": "2.0.0",
      "model_name": "LayoutModel",
      "state": {
       "_model_module": "@jupyter-widgets/base",
       "_model_module_version": "2.0.0",
       "_model_name": "LayoutModel",
       "_view_count": null,
       "_view_module": "@jupyter-widgets/base",
       "_view_module_version": "2.0.0",
       "_view_name": "LayoutView",
       "align_content": null,
       "align_items": null,
       "align_self": null,
       "border_bottom": null,
       "border_left": null,
       "border_right": null,
       "border_top": null,
       "bottom": null,
       "display": null,
       "flex": null,
       "flex_flow": null,
       "grid_area": null,
       "grid_auto_columns": null,
       "grid_auto_flow": null,
       "grid_auto_rows": null,
       "grid_column": null,
       "grid_gap": null,
       "grid_row": null,
       "grid_template_areas": null,
       "grid_template_columns": null,
       "grid_template_rows": null,
       "height": null,
       "justify_content": null,
       "justify_items": null,
       "left": null,
       "margin": null,
       "max_height": null,
       "max_width": null,
       "min_height": null,
       "min_width": null,
       "object_fit": null,
       "object_position": null,
       "order": null,
       "overflow": null,
       "padding": null,
       "right": null,
       "top": null,
       "visibility": null,
       "width": null
      }
     },
     "a83276e11e4f45a3a227dc389436619b": {
      "model_module": "@jupyter-widgets/controls",
      "model_module_version": "2.0.0",
      "model_name": "ProgressStyleModel",
      "state": {
       "_model_module": "@jupyter-widgets/controls",
       "_model_module_version": "2.0.0",
       "_model_name": "ProgressStyleModel",
       "_view_count": null,
       "_view_module": "@jupyter-widgets/base",
       "_view_module_version": "2.0.0",
       "_view_name": "StyleView",
       "bar_color": null,
       "description_width": ""
      }
     },
     "b88f66a7e7c24095ab61aee9979c011a": {
      "model_module": "@jupyter-widgets/base",
      "model_module_version": "2.0.0",
      "model_name": "LayoutModel",
      "state": {
       "_model_module": "@jupyter-widgets/base",
       "_model_module_version": "2.0.0",
       "_model_name": "LayoutModel",
       "_view_count": null,
       "_view_module": "@jupyter-widgets/base",
       "_view_module_version": "2.0.0",
       "_view_name": "LayoutView",
       "align_content": null,
       "align_items": null,
       "align_self": null,
       "border_bottom": null,
       "border_left": null,
       "border_right": null,
       "border_top": null,
       "bottom": null,
       "display": null,
       "flex": null,
       "flex_flow": null,
       "grid_area": null,
       "grid_auto_columns": null,
       "grid_auto_flow": null,
       "grid_auto_rows": null,
       "grid_column": null,
       "grid_gap": null,
       "grid_row": null,
       "grid_template_areas": null,
       "grid_template_columns": null,
       "grid_template_rows": null,
       "height": null,
       "justify_content": null,
       "justify_items": null,
       "left": null,
       "margin": null,
       "max_height": null,
       "max_width": null,
       "min_height": null,
       "min_width": null,
       "object_fit": null,
       "object_position": null,
       "order": null,
       "overflow": null,
       "padding": null,
       "right": null,
       "top": null,
       "visibility": null,
       "width": null
      }
     },
     "e1ebd9dfcecb44f6902e14fbbc0bc87c": {
      "model_module": "@jupyter-widgets/controls",
      "model_module_version": "2.0.0",
      "model_name": "HTMLModel",
      "state": {
       "_dom_classes": [],
       "_model_module": "@jupyter-widgets/controls",
       "_model_module_version": "2.0.0",
       "_model_name": "HTMLModel",
       "_view_count": null,
       "_view_module": "@jupyter-widgets/controls",
       "_view_module_version": "2.0.0",
       "_view_name": "HTMLView",
       "description": "",
       "description_allow_html": false,
       "layout": "IPY_MODEL_a68037cc3fc34d159b9130185f9f4b55",
       "placeholder": "​",
       "style": "IPY_MODEL_6918b9ad00c14614a3fe32f390549092",
       "tabbable": null,
       "tooltip": null,
       "value": "100%"
      }
     }
    },
    "version_major": 2,
    "version_minor": 0
   }
  }
 },
 "nbformat": 4,
 "nbformat_minor": 5
}
