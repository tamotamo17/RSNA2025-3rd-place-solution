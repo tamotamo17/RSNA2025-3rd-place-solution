{
 "cells": [
  {
   "cell_type": "code",
   "execution_count": 1,
   "id": "714642c1",
   "metadata": {
    "execution": {
     "iopub.execute_input": "2025-09-16T19:52:12.703687Z",
     "iopub.status.busy": "2025-09-16T19:52:12.703408Z",
     "iopub.status.idle": "2025-09-16T19:52:18.915945Z",
     "shell.execute_reply": "2025-09-16T19:52:18.914529Z"
    },
    "papermill": {
     "duration": 6.219159,
     "end_time": "2025-09-16T19:52:18.917648",
     "exception": false,
     "start_time": "2025-09-16T19:52:12.698489",
     "status": "completed"
    },
    "tags": []
   },
   "outputs": [
    {
     "name": "stdout",
     "output_type": "stream",
     "text": [
      "Collecting ultralytics\r\n",
      "  Downloading ultralytics-8.3.200-py3-none-any.whl.metadata (37 kB)\r\n",
      "Requirement already satisfied: numpy>=1.23.0 in /usr/local/lib/python3.10/dist-packages (from ultralytics) (1.26.4)\r\n",
      "Requirement already satisfied: matplotlib>=3.3.0 in /usr/local/lib/python3.10/dist-packages (from ultralytics) (3.7.5)\r\n",
      "Requirement already satisfied: opencv-python>=4.6.0 in /usr/local/lib/python3.10/dist-packages (from ultralytics) (4.10.0.84)\r\n",
      "Requirement already satisfied: pillow>=7.1.2 in /usr/local/lib/python3.10/dist-packages (from ultralytics) (11.0.0)\r\n",
      "Requirement already satisfied: pyyaml>=5.3.1 in /usr/local/lib/python3.10/dist-packages (from ultralytics) (6.0.2)\r\n",
      "Requirement already satisfied: requests>=2.23.0 in /usr/local/lib/python3.10/dist-packages (from ultralytics) (2.32.3)\r\n",
      "Requirement already satisfied: scipy>=1.4.1 in /usr/local/lib/python3.10/dist-packages (from ultralytics) (1.13.1)\r\n",
      "Requirement already satisfied: torch>=1.8.0 in /usr/local/lib/python3.10/dist-packages (from ultralytics) (2.5.1+cu121)\r\n",
      "Requirement already satisfied: torchvision>=0.9.0 in /usr/local/lib/python3.10/dist-packages (from ultralytics) (0.20.1+cu121)\r\n",
      "Requirement already satisfied: psutil in /usr/local/lib/python3.10/dist-packages (from ultralytics) (5.9.5)\r\n",
      "Requirement already satisfied: polars in /usr/local/lib/python3.10/dist-packages (from ultralytics) (1.9.0)\r\n",
      "Collecting ultralytics-thop>=2.0.0 (from ultralytics)\r\n",
      "  Downloading ultralytics_thop-2.0.17-py3-none-any.whl.metadata (14 kB)\r\n",
      "Requirement already satisfied: contourpy>=1.0.1 in /usr/local/lib/python3.10/dist-packages (from matplotlib>=3.3.0->ultralytics) (1.3.1)\r\n",
      "Requirement already satisfied: cycler>=0.10 in /usr/local/lib/python3.10/dist-packages (from matplotlib>=3.3.0->ultralytics) (0.12.1)\r\n",
      "Requirement already satisfied: fonttools>=4.22.0 in /usr/local/lib/python3.10/dist-packages (from matplotlib>=3.3.0->ultralytics) (4.55.3)\r\n",
      "Requirement already satisfied: kiwisolver>=1.0.1 in /usr/local/lib/python3.10/dist-packages (from matplotlib>=3.3.0->ultralytics) (1.4.7)\r\n",
      "Requirement already satisfied: packaging>=20.0 in /usr/local/lib/python3.10/dist-packages (from matplotlib>=3.3.0->ultralytics) (24.2)\r\n",
      "Requirement already satisfied: pyparsing>=2.3.1 in /usr/local/lib/python3.10/dist-packages (from matplotlib>=3.3.0->ultralytics) (3.2.0)\r\n",
      "Requirement already satisfied: python-dateutil>=2.7 in /usr/local/lib/python3.10/dist-packages (from matplotlib>=3.3.0->ultralytics) (2.9.0.post0)\r\n",
      "Requirement already satisfied: mkl_fft in /usr/local/lib/python3.10/dist-packages (from numpy>=1.23.0->ultralytics) (1.3.8)\r\n",
      "Requirement already satisfied: mkl_random in /usr/local/lib/python3.10/dist-packages (from numpy>=1.23.0->ultralytics) (1.2.4)\r\n",
      "Requirement already satisfied: mkl_umath in /usr/local/lib/python3.10/dist-packages (from numpy>=1.23.0->ultralytics) (0.1.1)\r\n",
      "Requirement already satisfied: mkl in /usr/local/lib/python3.10/dist-packages (from numpy>=1.23.0->ultralytics) (2025.0.1)\r\n",
      "Requirement already satisfied: tbb4py in /usr/local/lib/python3.10/dist-packages (from numpy>=1.23.0->ultralytics) (2022.0.0)\r\n",
      "Requirement already satisfied: mkl-service in /usr/local/lib/python3.10/dist-packages (from numpy>=1.23.0->ultralytics) (2.4.1)\r\n",
      "Requirement already satisfied: charset-normalizer<4,>=2 in /usr/local/lib/python3.10/dist-packages (from requests>=2.23.0->ultralytics) (3.4.1)\r\n",
      "Requirement already satisfied: idna<4,>=2.5 in /usr/local/lib/python3.10/dist-packages (from requests>=2.23.0->ultralytics) (3.10)\r\n",
      "Requirement already satisfied: urllib3<3,>=1.21.1 in /usr/local/lib/python3.10/dist-packages (from requests>=2.23.0->ultralytics) (2.3.0)\r\n",
      "Requirement already satisfied: certifi>=2017.4.17 in /usr/local/lib/python3.10/dist-packages (from requests>=2.23.0->ultralytics) (2025.1.31)\r\n",
      "Requirement already satisfied: filelock in /usr/local/lib/python3.10/dist-packages (from torch>=1.8.0->ultralytics) (3.17.0)\r\n",
      "Requirement already satisfied: typing-extensions>=4.8.0 in /usr/local/lib/python3.10/dist-packages (from torch>=1.8.0->ultralytics) (4.12.2)\r\n",
      "Requirement already satisfied: networkx in /usr/local/lib/python3.10/dist-packages (from torch>=1.8.0->ultralytics) (3.4.2)\r\n",
      "Requirement already satisfied: jinja2 in /usr/local/lib/python3.10/dist-packages (from torch>=1.8.0->ultralytics) (3.1.4)\r\n",
      "Requirement already satisfied: fsspec in /usr/local/lib/python3.10/dist-packages (from torch>=1.8.0->ultralytics) (2024.12.0)\r\n",
      "Requirement already satisfied: sympy==1.13.1 in /usr/local/lib/python3.10/dist-packages (from torch>=1.8.0->ultralytics) (1.13.1)\r\n",
      "Requirement already satisfied: mpmath<1.4,>=1.1.0 in /usr/local/lib/python3.10/dist-packages (from sympy==1.13.1->torch>=1.8.0->ultralytics) (1.3.0)\r\n",
      "Requirement already satisfied: six>=1.5 in /usr/local/lib/python3.10/dist-packages (from python-dateutil>=2.7->matplotlib>=3.3.0->ultralytics) (1.17.0)\r\n",
      "Requirement already satisfied: MarkupSafe>=2.0 in /usr/local/lib/python3.10/dist-packages (from jinja2->torch>=1.8.0->ultralytics) (3.0.2)\r\n",
      "Requirement already satisfied: intel-openmp>=2024 in /usr/local/lib/python3.10/dist-packages (from mkl->numpy>=1.23.0->ultralytics) (2024.2.0)\r\n",
      "Requirement already satisfied: tbb==2022.* in /usr/local/lib/python3.10/dist-packages (from mkl->numpy>=1.23.0->ultralytics) (2022.0.0)\r\n",
      "Requirement already satisfied: tcmlib==1.* in /usr/local/lib/python3.10/dist-packages (from tbb==2022.*->mkl->numpy>=1.23.0->ultralytics) (1.2.0)\r\n",
      "Requirement already satisfied: intel-cmplr-lib-rt in /usr/local/lib/python3.10/dist-packages (from mkl_umath->numpy>=1.23.0->ultralytics) (2024.2.0)\r\n",
      "Requirement already satisfied: intel-cmplr-lib-ur==2024.2.0 in /usr/local/lib/python3.10/dist-packages (from intel-openmp>=2024->mkl->numpy>=1.23.0->ultralytics) (2024.2.0)\r\n",
      "Downloading ultralytics-8.3.200-py3-none-any.whl (1.1 MB)\r\n",
      "\u001b[2K   \u001b[90m━━━━━━━━━━━━━━━━━━━━━━━━━━━━━━━━━━━━━━━━\u001b[0m \u001b[32m1.1/1.1 MB\u001b[0m \u001b[31m11.6 MB/s\u001b[0m eta \u001b[36m0:00:00\u001b[0m\r\n",
      "\u001b[?25hDownloading ultralytics_thop-2.0.17-py3-none-any.whl (28 kB)\r\n",
      "Installing collected packages: ultralytics-thop, ultralytics\r\n",
      "Successfully installed ultralytics-8.3.200 ultralytics-thop-2.0.17\r\n"
     ]
    }
   ],
   "source": [
    "!pip install ultralytics"
   ]
  },
  {
   "cell_type": "code",
   "execution_count": 2,
   "id": "ced8f5f2",
   "metadata": {
    "execution": {
     "iopub.execute_input": "2025-09-16T19:52:18.926733Z",
     "iopub.status.busy": "2025-09-16T19:52:18.926444Z",
     "iopub.status.idle": "2025-09-16T19:52:24.901407Z",
     "shell.execute_reply": "2025-09-16T19:52:24.900626Z"
    },
    "papermill": {
     "duration": 5.980803,
     "end_time": "2025-09-16T19:52:24.902787",
     "exception": false,
     "start_time": "2025-09-16T19:52:18.921984",
     "status": "completed"
    },
    "tags": []
   },
   "outputs": [
    {
     "name": "stdout",
     "output_type": "stream",
     "text": [
      "Creating new Ultralytics Settings v0.0.6 file ✅ \n",
      "View Ultralytics Settings with 'yolo settings' or at '/root/.config/Ultralytics/settings.json'\n",
      "Update Settings with 'yolo settings key=value', i.e. 'yolo settings runs_dir=path/to/dir'. For help see https://docs.ultralytics.com/quickstart/#ultralytics-settings.\n"
     ]
    }
   ],
   "source": [
    "import os, glob, math, random\n",
    "import ast\n",
    "from tqdm import tqdm\n",
    "from pathlib import Path\n",
    "import numpy as np\n",
    "import matplotlib.pyplot as plt\n",
    "from PIL import Image, ImageDraw, ImageFont\n",
    "import pandas as pd\n",
    "import torch\n",
    "import pydicom\n",
    "from scipy.ndimage import zoom\n",
    "from ultralytics import YOLO"
   ]
  },
  {
   "cell_type": "code",
   "execution_count": 3,
   "id": "46e0504c",
   "metadata": {
    "execution": {
     "iopub.execute_input": "2025-09-16T19:52:24.911523Z",
     "iopub.status.busy": "2025-09-16T19:52:24.911115Z",
     "iopub.status.idle": "2025-09-16T19:52:24.930470Z",
     "shell.execute_reply": "2025-09-16T19:52:24.929705Z"
    },
    "papermill": {
     "duration": 0.024785,
     "end_time": "2025-09-16T19:52:24.931611",
     "exception": false,
     "start_time": "2025-09-16T19:52:24.906826",
     "status": "completed"
    },
    "tags": []
   },
   "outputs": [],
   "source": [
    "# ========== 小物ユーティリティ ==========\n",
    "def _iou_xyxy(a, b):\n",
    "    # a,b: [x1,y1,x2,y2]\n",
    "    x1 = max(a[0], b[0]); y1 = max(a[1], b[1])\n",
    "    x2 = min(a[2], b[2]); y2 = min(a[3], b[3])\n",
    "    iw = max(0.0, x2 - x1); ih = max(0.0, y2 - y1)\n",
    "    inter = iw * ih\n",
    "    if inter <= 0: return 0.0\n",
    "    area_a = max(0.0, (a[2]-a[0]) * (a[3]-a[1]))\n",
    "    area_b = max(0.0, (b[2]-b[0]) * (b[3]-b[1]))\n",
    "    union = area_a + area_b - inter + 1e-9\n",
    "    return inter / union\n",
    "\n",
    "def _ensure_dir(p):\n",
    "    Path(p).mkdir(parents=True, exist_ok=True)\n",
    "\n",
    "# ========== 簡易 Weighted Boxes Fusion（クラス別） ==========\n",
    "def weighted_boxes_fusion(\n",
    "    boxes, scores, labels,\n",
    "    iou_thr=0.55,\n",
    "    conf_type=\"avg\"   # \"avg\" か \"one_minus_prod\"\n",
    "):\n",
    "    \"\"\"\n",
    "    複数モデルの出力をマージ。boxes/scores/labels はすべて結合済み1配列（同一画像）。\n",
    "    - boxes: (N,4) xyxy\n",
    "    - scores: (N,)\n",
    "    - labels: (N,)\n",
    "    返り値: fused_boxes, fused_scores, fused_labels\n",
    "    \"\"\"\n",
    "    if len(boxes) == 0:\n",
    "        return boxes, scores, labels\n",
    "\n",
    "    order = np.argsort(-scores)\n",
    "    boxes = boxes[order]; scores = scores[order]; labels = labels[order]\n",
    "\n",
    "    clusters = []  # list of dict: {'box': np.array(4), 'score_sum': float, 'scores': [..], 'label': int, 'weight_sum': float, 'members': int}\n",
    "    for b, s, c in zip(boxes, scores, labels):\n",
    "        matched = False\n",
    "        for cl in clusters:\n",
    "            if cl['label'] != c:\n",
    "                continue\n",
    "            if _iou_xyxy(b, cl['box']) >= iou_thr:\n",
    "                # 既存クラスタにマージ（座標はスコア重みで移動平均）\n",
    "                w_old = cl['weight_sum']; w_new = s\n",
    "                cl['box'] = (cl['box'] * w_old + b * w_new) / (w_old + w_new + 1e-9)\n",
    "                cl['weight_sum'] += w_new\n",
    "                cl['scores'].append(s)\n",
    "                cl['members'] += 1\n",
    "                matched = True\n",
    "                break\n",
    "        if not matched:\n",
    "            clusters.append({\n",
    "                'box': b.copy(),\n",
    "                'label': int(c),\n",
    "                'weight_sum': float(s),\n",
    "                'scores': [float(s)],\n",
    "                'members': 1,\n",
    "            })\n",
    "\n",
    "    fused_boxes, fused_scores, fused_labels = [], [], []\n",
    "    for cl in clusters:\n",
    "        fused_boxes.append(cl['box'])\n",
    "        if conf_type == \"one_minus_prod\":\n",
    "            # 1 - ∏(1-s) で統合信頼度\n",
    "            p = 1.0\n",
    "            for s in cl['scores']:\n",
    "                p *= (1.0 - s)\n",
    "            sc = 1.0 - p\n",
    "        else:\n",
    "            sc = float(np.mean(cl['scores']))\n",
    "        fused_scores.append(sc)\n",
    "        fused_labels.append(cl['label'])\n",
    "\n",
    "    return np.vstack(fused_boxes), np.array(fused_scores), np.array(fused_labels, dtype=int)\n",
    "\n",
    "# ========== 1画像に対する fold アンサンブル推論 ==========\n",
    "def predict_ensemble_single_image(\n",
    "    models,\n",
    "    image,\n",
    "    conf=0.2,\n",
    "    iou=0.7,\n",
    "    imgsz=320,\n",
    "    per_model_max_det=1,      # 各モデルが返す最大検出数\n",
    "    ensemble_iou=0.55,          # WBF のクラスタ閾値\n",
    "    only_one=True,             # True で最終1件に絞る\n",
    "    agnostic=False,             # True でクラス無視の後段NMSをしたい場合（今回はWBFなので通常Falseのまま推奨）\n",
    "):\n",
    "    \"\"\"\n",
    "    各 fold の best.pt を読み、単一画像に対して推論→WBFで統合。\n",
    "    戻り値: dict {'boxes': (K,4), 'scores': (K,), 'labels': (K,)}\n",
    "    \"\"\"\n",
    "    # 遅延ロードを避けたい場合は、外で [YOLO(p) for p in model_paths] を渡す実装に変えてもOK\n",
    "    boxes_all = []\n",
    "    scores_all = []\n",
    "    labels_all = []\n",
    "\n",
    "    for model in models:\n",
    "        model = YOLO(mp)\n",
    "        res = model.predict(\n",
    "            source=image,\n",
    "            conf=conf, iou=iou, imgsz=imgsz, max_det=per_model_max_det, verbose=False\n",
    "        )[0]\n",
    "        if res.boxes is None or len(res.boxes) == 0:\n",
    "            continue\n",
    "        xyxy = res.boxes.xyxy.cpu().numpy()\n",
    "        sco  = res.boxes.conf.cpu().numpy()\n",
    "        lab  = (res.boxes.cls.cpu().numpy().astype(int)\n",
    "                if res.boxes.cls is not None else np.zeros(len(xyxy), dtype=int))\n",
    "        boxes_all.append(xyxy); scores_all.append(sco); labels_all.append(lab)\n",
    "\n",
    "    if len(boxes_all) == 0:\n",
    "        return {'boxes': np.zeros((0,4), dtype=np.float32),\n",
    "                'scores': np.zeros((0,), dtype=np.float32),\n",
    "                'labels': np.zeros((0,), dtype=np.int32)}\n",
    "\n",
    "    boxes = np.vstack(boxes_all)\n",
    "    scores = np.hstack(scores_all)\n",
    "    labels = np.hstack(labels_all)\n",
    "\n",
    "    # 簡易 WBF\n",
    "    f_boxes, f_scores, f_labels = weighted_boxes_fusion(\n",
    "        boxes, scores, labels, iou_thr=ensemble_iou, conf_type=\"one_minus_prod\"\n",
    "    )\n",
    "\n",
    "    # 1件に絞る（スコア最大）\n",
    "    if only_one and len(f_scores) > 0:\n",
    "        idx = int(np.argmax(f_scores))\n",
    "        f_boxes = f_boxes[idx:idx+1]\n",
    "        f_scores = f_scores[idx:idx+1]\n",
    "        f_labels = f_labels[idx:idx+1]\n",
    "\n",
    "    return {'boxes': f_boxes, 'scores': f_scores, 'labels': f_labels}\n",
    "\n",
    "# ========== ディレクトリ一括推論 & オーバーレイ保存 & CSV ==========\n",
    "def ensemble_infer_dir(\n",
    "    model_paths,\n",
    "    images_root,\n",
    "    out_dir=\"/kaggle/working/ens_out\",\n",
    "    conf=0.2,\n",
    "    iou=0.7,\n",
    "    imgsz=640,\n",
    "    per_model_max_det=100,\n",
    "    ensemble_iou=0.55,\n",
    "    only_one=False,\n",
    "    draw_score=True,\n",
    "):\n",
    "    \"\"\"\n",
    "    images_root 配下の *.png / *.jpg を再帰探索して、fold アンサンブル推論。\n",
    "    - オーバーレイ画像を out_dir/overlays 下に保存（元のサブフォルダ構造を維持）\n",
    "    - 予測座標を CSV に保存（out_dir/ensemble_predictions.csv）\n",
    "    \"\"\"\n",
    "    images_root = Path(images_root)\n",
    "    out_dir = Path(out_dir)\n",
    "    overlays_dir = out_dir / \"overlays\"\n",
    "    _ensure_dir(overlays_dir)\n",
    "\n",
    "    img_paths = (list(images_root.rglob(\"*.png\")) +\n",
    "                 list(images_root.rglob(\"*.jpg\")) +\n",
    "                 list(images_root.rglob(\"*.jpeg\")))\n",
    "    img_paths.sort()\n",
    "    if not img_paths:\n",
    "        print(f\"No images found under: {images_root}\")\n",
    "        return None\n",
    "\n",
    "    rows = []\n",
    "    # フォント（環境によっては使えないことがあるので None でフォールバック）\n",
    "    try:\n",
    "        font = ImageFont.truetype(\"DejaVuSans.ttf\", size=14)\n",
    "    except:\n",
    "        font = None\n",
    "\n",
    "    for img_path in img_paths:\n",
    "        pred = predict_ensemble_single_image(\n",
    "            model_paths, str(img_path),\n",
    "            conf=conf, iou=iou, imgsz=imgsz,\n",
    "            per_model_max_det=per_model_max_det,\n",
    "            ensemble_iou=ensemble_iou,\n",
    "            only_one=only_one,\n",
    "        )\n",
    "\n",
    "        # CSV 行を作成\n",
    "        if len(pred['scores']) == 0:\n",
    "            rows.append({\n",
    "                \"image_path\": str(img_path),\n",
    "                \"x1\": np.nan, \"y1\": np.nan, \"x2\": np.nan, \"y2\": np.nan,\n",
    "                \"score\": np.nan, \"class\": np.nan,\n",
    "                \"cx\": np.nan, \"cy\": np.nan, \"w\": np.nan, \"h\": np.nan\n",
    "            })\n",
    "        else:\n",
    "            for (x1,y1,x2,y2), sc, cls in zip(pred['boxes'], pred['scores'], pred['labels']):\n",
    "                w = x2 - x1; h = y2 - y1; cx = x1 + w/2; cy = y1 + h/2\n",
    "                rows.append({\n",
    "                    \"image_path\": str(img_path),\n",
    "                    \"x1\": float(x1), \"y1\": float(y1), \"x2\": float(x2), \"y2\": float(y2),\n",
    "                    \"score\": float(sc), \"class\": int(cls),\n",
    "                    \"cx\": float(cx), \"cy\": float(cy), \"w\": float(w), \"h\": float(h)\n",
    "                })\n",
    "\n",
    "        # オーバーレイ保存\n",
    "        img = Image.open(img_path).convert(\"RGB\")\n",
    "        draw = ImageDraw.Draw(img)\n",
    "        for (x1,y1,x2,y2), sc, cls in zip(pred['boxes'], pred['scores'], pred['labels']):\n",
    "            draw.rectangle([x1,y1,x2,y2], outline=(255,0,0), width=2)\n",
    "            if draw_score:\n",
    "                txt = f\"{int(cls)}:{sc:.2f}\"\n",
    "                tw, th = draw.textlength(txt, font=font) if hasattr(draw, \"textlength\") else (len(txt)*8, 12)\n",
    "                draw.rectangle([x1, max(0,y1-th-2), x1+tw+4, y1], fill=(255,0,0))\n",
    "                draw.text((x1+2, max(0,y1-th-2)), txt, fill=(255,255,255), font=font)\n",
    "\n",
    "        rel = img_path.relative_to(images_root)\n",
    "        out_img_path = overlays_dir / rel\n",
    "        _ensure_dir(out_img_path.parent)\n",
    "        img.save(out_img_path)\n",
    "\n",
    "    # CSV 保存\n",
    "    df = pd.DataFrame(rows)\n",
    "    csv_path = out_dir / \"ensemble_predictions.csv\"\n",
    "    _ensure_dir(csv_path.parent)\n",
    "    df.to_csv(csv_path, index=False)\n",
    "    print(f\"Saved overlays to: {overlays_dir}\")\n",
    "    print(f\"Saved CSV to:      {csv_path}\")\n",
    "    return {\"csv\": str(csv_path), \"overlays_dir\": str(overlays_dir), \"df\": df}\n"
   ]
  },
  {
   "cell_type": "code",
   "execution_count": 4,
   "id": "e60fe55d",
   "metadata": {
    "execution": {
     "iopub.execute_input": "2025-09-16T19:52:24.940011Z",
     "iopub.status.busy": "2025-09-16T19:52:24.939740Z",
     "iopub.status.idle": "2025-09-16T19:52:30.680919Z",
     "shell.execute_reply": "2025-09-16T19:52:30.680030Z"
    },
    "papermill": {
     "duration": 5.747067,
     "end_time": "2025-09-16T19:52:30.682670",
     "exception": false,
     "start_time": "2025-09-16T19:52:24.935603",
     "status": "completed"
    },
    "tags": []
   },
   "outputs": [],
   "source": [
    "df = pd.read_csv('/kaggle/input/rsna2025-extra/train_add_metadata_v4.csv')\n",
    "df['sorted_files'] = df['sorted_files'].apply(lambda x: ast.literal_eval(x) if pd.notna(x) else x)\n",
    "df['PixelSpacing'] = df['PixelSpacing'].apply(lambda x: ast.literal_eval(x) if pd.notna(x) else x)"
   ]
  },
  {
   "cell_type": "code",
   "execution_count": 5,
   "id": "247e4a4a",
   "metadata": {
    "execution": {
     "iopub.execute_input": "2025-09-16T19:52:30.691812Z",
     "iopub.status.busy": "2025-09-16T19:52:30.691559Z",
     "iopub.status.idle": "2025-09-16T19:52:30.698144Z",
     "shell.execute_reply": "2025-09-16T19:52:30.697248Z"
    },
    "papermill": {
     "duration": 0.012312,
     "end_time": "2025-09-16T19:52:30.699333",
     "exception": false,
     "start_time": "2025-09-16T19:52:30.687021",
     "status": "completed"
    },
    "tags": []
   },
   "outputs": [],
   "source": [
    "def pct_normalize(img, p_min, p_max):\n",
    "    vmin = np.percentile(img, p_min)\n",
    "    vmax = np.percentile(img, p_max)\n",
    "    img = np.clip(img, vmin, vmax)\n",
    "    img = (img - vmin) / (vmax - vmin + 1e-6)\n",
    "    img = (img*255).astype(np.uint8)\n",
    "    return img\n",
    "\n",
    "def value_normalize(img, vmin, vmax):\n",
    "    img = np.clip(img, vmin, vmax)\n",
    "    img = (img - vmin) / (vmax - vmin + 1e-6)\n",
    "    img = (img*255).astype(np.uint8)\n",
    "    return img\n",
    "    \n",
    "def resample_zyx(arr: np.ndarray,\n",
    "                 spacing: tuple[float, float, float],\n",
    "                 new_spacing: tuple[float, float, float],\n",
    "                 order: int) -> np.ndarray:\n",
    "    \"\"\"\n",
    "    (Z,Y,X) を spacing -> new_spacing へリサンプリング。\n",
    "    order=1: 画像（線形）, order=0: マスク（最近傍）\n",
    "    \"\"\"\n",
    "    sz, sy, sx = spacing\n",
    "    nsz, nsy, nsx = new_spacing\n",
    "    zz, zy, zx = sz / nsz, sy / nsy, sx / nsx\n",
    "    mode = \"nearest\" if order == 0 else \"constant\"\n",
    "    return zoom(arr, zoom=(zz, zy, zx), order=order, mode=mode)\n",
    "    \n",
    "def load_dicom_array_2d(paths):\n",
    "    imgs = []\n",
    "    for path in paths:\n",
    "        dcm = pydicom.dcmread(path)\n",
    "        imgs.append(dcm.pixel_array)\n",
    "    imgs = np.array(imgs)\n",
    "    return imgs\n",
    "\n",
    "def load_dicom_array_3d(path):\n",
    "    dcm = pydicom.dcmread(path)\n",
    "    imgs = dcm.pixel_array\n",
    "    return imgs"
   ]
  },
  {
   "cell_type": "code",
   "execution_count": 6,
   "id": "41a34c41",
   "metadata": {
    "execution": {
     "iopub.execute_input": "2025-09-16T19:52:30.708001Z",
     "iopub.status.busy": "2025-09-16T19:52:30.707707Z",
     "iopub.status.idle": "2025-09-16T19:52:30.720412Z",
     "shell.execute_reply": "2025-09-16T19:52:30.719129Z"
    },
    "papermill": {
     "duration": 0.018479,
     "end_time": "2025-09-16T19:52:30.721942",
     "exception": false,
     "start_time": "2025-09-16T19:52:30.703463",
     "status": "completed"
    },
    "tags": []
   },
   "outputs": [
    {
     "data": {
      "text/plain": [
       "4    1\n",
       "Name: num_slice, dtype: int64"
      ]
     },
     "execution_count": 6,
     "metadata": {},
     "output_type": "execute_result"
    }
   ],
   "source": [
    "df[df['SeriesInstanceUID']=='1.2.826.0.1.3680043.8.498.10012790035410518400400834395242853657']['num_slice']"
   ]
  },
  {
   "cell_type": "code",
   "execution_count": 7,
   "id": "a8b91bfe",
   "metadata": {
    "execution": {
     "iopub.execute_input": "2025-09-16T19:52:30.731038Z",
     "iopub.status.busy": "2025-09-16T19:52:30.730748Z",
     "iopub.status.idle": "2025-09-16T19:52:30.747152Z",
     "shell.execute_reply": "2025-09-16T19:52:30.745809Z"
    },
    "papermill": {
     "duration": 0.022132,
     "end_time": "2025-09-16T19:52:30.748353",
     "exception": false,
     "start_time": "2025-09-16T19:52:30.726221",
     "status": "completed"
    },
    "tags": []
   },
   "outputs": [],
   "source": [
    "from concurrent.futures import ProcessPoolExecutor\n",
    "from functools import partial\n",
    "import os\n",
    "import traceback\n",
    "\n",
    "def _ensure_dir_if_available(p: \"Path\"):\n",
    "    \"\"\"_ensure_dir が無い場合でも安全に作成\"\"\"\n",
    "    try:\n",
    "        _ensure_dir(p)\n",
    "    except NameError:\n",
    "        p.mkdir(parents=True, exist_ok=True)\n",
    "\n",
    "def _save_png(arr, path: \"Path\"):\n",
    "    # 期待は uint8 グレースケール。万一 dtype が違う場合は安全側で変換\n",
    "    import numpy as np\n",
    "    from PIL import Image\n",
    "    if arr.dtype != np.uint8:\n",
    "        arr = arr.astype(np.uint8)\n",
    "    Image.fromarray(arr, mode=\"L\").save(path)\n",
    "\n",
    "def process_one(record: dict, out_root_str: str):\n",
    "    \"\"\"1レコード処理。例外は文字列で返す（map中の落ちを防ぐ）\"\"\"\n",
    "    #try:\n",
    "    out_root_local = Path(out_root_str)\n",
    "\n",
    "    img_files = record['sorted_files']\n",
    "    sid       = record['SeriesInstanceUID']\n",
    "    modality  = record['Modality']\n",
    "    plane     = record['OrientationLabel']\n",
    "\n",
    "    # 画像読み込み\n",
    "    if len(img_files)==1:\n",
    "        # 3D（シリーズディレクトリ指定）\n",
    "        series_dir = Path(f\"/kaggle/input/rsna-intracranial-aneurysm-detection/series/{sid}\")\n",
    "        cand = list(series_dir.glob(\"*\"))\n",
    "        if len(cand) == 0:\n",
    "            return (\"error\", sid, f\"No files under {series_dir}\")\n",
    "        imgs = load_dicom_array_3d(cand[0])\n",
    "    else:\n",
    "        # 2D stack\n",
    "        imgs = load_dicom_array_2d(img_files)\n",
    "    y_spacing, x_spacing = record['PixelSpacing']\n",
    "    z_spacing = record['z_spacing']\n",
    "    imgs = resample_zyx(\n",
    "        imgs,\n",
    "        spacing=(z_spacing, y_spacing, x_spacing),\n",
    "        new_spacing=(1., 1., 1.),\n",
    "        order=1\n",
    "    )\n",
    "\n",
    "    # 正規化\n",
    "    if modality == 'CTA':\n",
    "        imgs = value_normalize(imgs, -100, 600)\n",
    "    else:\n",
    "        imgs = pct_normalize(imgs, 1, 99)\n",
    "\n",
    "    Z, H, W = imgs.shape\n",
    "    z_mid, h_mid, w_mid = Z // 2, H // 2, W // 2  # ← x_mid は未定義だったので修正\n",
    "\n",
    "    # 各平面で 2方向ずつ保存\n",
    "    if plane == 'AXIAL':\n",
    "        # coronal (axis1)\n",
    "        img = imgs[:, h_mid, :]\n",
    "        base = out_root_local / modality / plane / \"axis1\"\n",
    "        p_img = base / \"images\"\n",
    "        _ensure_dir_if_available(p_img)\n",
    "        _save_png(img, p_img / f\"{sid}.png\")\n",
    "\n",
    "        # sagittal (axis2)\n",
    "        img = imgs[:, :, w_mid]\n",
    "        base = out_root_local / modality / plane / \"axis2\"\n",
    "        p_img = base / \"images\"\n",
    "        _ensure_dir_if_available(p_img)\n",
    "        _save_png(img, p_img / f\"{sid}.png\")\n",
    "\n",
    "    elif plane == 'CORONAL':\n",
    "        # coronal (axis0)\n",
    "        img = imgs[z_mid, :, :]\n",
    "        base = out_root_local / modality / plane / \"axis0\"\n",
    "        p_img = base / \"images\"\n",
    "        _ensure_dir_if_available(p_img)\n",
    "        _save_png(img, p_img / f\"{sid}.png\")\n",
    "\n",
    "        # sagittal (axis2)  ※ x_mid→w_mid に修正\n",
    "        img = imgs[:, :, w_mid]\n",
    "        base = out_root_local / modality / plane / \"axis2\"\n",
    "        p_img = base / \"images\"\n",
    "        _ensure_dir_if_available(p_img)\n",
    "        _save_png(img, p_img / f\"{sid}.png\")\n",
    "\n",
    "    elif plane == 'SAGITTAL':\n",
    "        # sagittal (axis0)\n",
    "        img = imgs[z_mid, :, :]\n",
    "        base = out_root_local / modality / plane / \"axis0\"\n",
    "        p_img = base / \"images\"\n",
    "        _ensure_dir_if_available(p_img)\n",
    "        _save_png(img, p_img / f\"{sid}.png\")\n",
    "\n",
    "        # coronal (axis2)  ※ x_mid→w_mid に修正\n",
    "        img = imgs[:, :, w_mid]\n",
    "        base = out_root_local / modality / plane / \"axis2\"\n",
    "        p_img = base / \"images\"\n",
    "        _ensure_dir_if_available(p_img)\n",
    "        _save_png(img, p_img / f\"{sid}.png\")\n",
    "\n",
    "    else:\n",
    "        return (\"skip\", sid, f\"Unknown plane: {plane}\")\n",
    "\n",
    "    return (\"ok\", sid, \"\")\n",
    "\n",
    "    # except Exception as e:\n",
    "    #     return (\"error\", record.get(\"SeriesInstanceUID\", \"UNKNOWN\"), f\"{e}\\n{traceback.format_exc()}\")\n",
    "\n",
    "def run_parallel(df, out_root_arg=None, max_workers=None):\n",
    "    \"\"\"df 全行を並列処理。進捗は tqdm。\"\"\"\n",
    "    from tqdm import tqdm\n",
    "\n",
    "    if out_root_arg is None:\n",
    "        # 既存の out_root を使いたい場合\n",
    "        out_root_arg = str(out_root)  # 既存変数を文字列化して子プロセスへ渡す\n",
    "    else:\n",
    "        out_root_arg = str(out_root_arg)\n",
    "\n",
    "    records = df.to_dict(\"records\")\n",
    "    worker = partial(process_one, out_root_str=out_root_arg)\n",
    "\n",
    "    ok_count = err_count = skip_count = 0\n",
    "\n",
    "    # CPU重めなのでプロセス並列が基本。メモリ圧迫するなら max_workers を絞ってください。\n",
    "    if max_workers is None:\n",
    "        max_workers = os.cpu_count() or 4\n",
    "\n",
    "    with ProcessPoolExecutor(max_workers=max_workers) as ex:\n",
    "        for status, sid, msg in tqdm(ex.map(worker, records), total=len(records)):\n",
    "            if status == \"ok\":\n",
    "                ok_count += 1\n",
    "            elif status == \"skip\":\n",
    "                skip_count += 1\n",
    "            else:\n",
    "                err_count += 1\n",
    "                # 必要ならログ出力\n",
    "                # print(f\"[ERROR] {sid}: {msg}\")\n",
    "\n",
    "    return {\"ok\": ok_count, \"skip\": skip_count, \"error\": err_count}"
   ]
  },
  {
   "cell_type": "code",
   "execution_count": 8,
   "id": "b58596dd",
   "metadata": {
    "execution": {
     "iopub.execute_input": "2025-09-16T19:52:30.757036Z",
     "iopub.status.busy": "2025-09-16T19:52:30.756750Z",
     "iopub.status.idle": "2025-09-16T19:52:30.762369Z",
     "shell.execute_reply": "2025-09-16T19:52:30.761286Z"
    },
    "papermill": {
     "duration": 0.011335,
     "end_time": "2025-09-16T19:52:30.763762",
     "exception": false,
     "start_time": "2025-09-16T19:52:30.752427",
     "status": "completed"
    },
    "tags": []
   },
   "outputs": [
    {
     "data": {
      "text/plain": [
       "'AXIAL'"
      ]
     },
     "execution_count": 8,
     "metadata": {},
     "output_type": "execute_result"
    }
   ],
   "source": [
    "df.iloc[4]['OrientationLabel']"
   ]
  },
  {
   "cell_type": "code",
   "execution_count": 9,
   "id": "08aa5ce6",
   "metadata": {
    "execution": {
     "iopub.execute_input": "2025-09-16T19:52:30.773097Z",
     "iopub.status.busy": "2025-09-16T19:52:30.772742Z",
     "iopub.status.idle": "2025-09-16T19:52:30.777834Z",
     "shell.execute_reply": "2025-09-16T19:52:30.777061Z"
    },
    "papermill": {
     "duration": 0.011077,
     "end_time": "2025-09-16T19:52:30.779271",
     "exception": false,
     "start_time": "2025-09-16T19:52:30.768194",
     "status": "completed"
    },
    "tags": []
   },
   "outputs": [
    {
     "data": {
      "text/plain": [
       "'1.2.826.0.1.3680043.8.498.10012790035410518400400834395242853657'"
      ]
     },
     "execution_count": 9,
     "metadata": {},
     "output_type": "execute_result"
    }
   ],
   "source": [
    "df.iloc[4]['SeriesInstanceUID']"
   ]
  },
  {
   "cell_type": "code",
   "execution_count": 10,
   "id": "d690c03c",
   "metadata": {
    "execution": {
     "iopub.execute_input": "2025-09-16T19:52:30.790011Z",
     "iopub.status.busy": "2025-09-16T19:52:30.789661Z",
     "iopub.status.idle": "2025-09-16T19:52:30.799582Z",
     "shell.execute_reply": "2025-09-16T19:52:30.798871Z"
    },
    "papermill": {
     "duration": 0.017072,
     "end_time": "2025-09-16T19:52:30.801218",
     "exception": false,
     "start_time": "2025-09-16T19:52:30.784146",
     "status": "completed"
    },
    "tags": []
   },
   "outputs": [
    {
     "data": {
      "text/plain": [
       "[PosixPath('/kaggle/input/rsna-intracranial-aneurysm-detection/series/1.2.826.0.1.3680043.8.498.10012790035410518400400834395242853657/1.2.826.0.1.3680043.8.498.75206494637570575939256404615022232157.dcm')]"
      ]
     },
     "execution_count": 10,
     "metadata": {},
     "output_type": "execute_result"
    }
   ],
   "source": [
    "paths = list(Path('/kaggle/input/rsna-intracranial-aneurysm-detection/series/1.2.826.0.1.3680043.8.498.10012790035410518400400834395242853657').glob('*'))\n",
    "paths"
   ]
  },
  {
   "cell_type": "code",
   "execution_count": 11,
   "id": "932f88c7",
   "metadata": {
    "execution": {
     "iopub.execute_input": "2025-09-16T19:52:30.811449Z",
     "iopub.status.busy": "2025-09-16T19:52:30.811153Z",
     "iopub.status.idle": "2025-09-16T21:54:30.537886Z",
     "shell.execute_reply": "2025-09-16T21:54:30.531954Z"
    },
    "papermill": {
     "duration": 7319.73614,
     "end_time": "2025-09-16T21:54:30.542064",
     "exception": false,
     "start_time": "2025-09-16T19:52:30.805924",
     "status": "completed"
    },
    "tags": []
   },
   "outputs": [
    {
     "name": "stderr",
     "output_type": "stream",
     "text": [
      " 84%|████████▍ | 3648/4348 [1:42:51<39:28,  3.38s/it]/usr/local/lib/python3.10/dist-packages/pydicom/pixels/utils.py:222: UserWarning: A value of 'None' for (0028,0008) 'Number of Frames' is invalid, assuming 1 frame\n",
      "  warn_and_log(\n",
      "100%|██████████| 4348/4348 [2:01:53<00:00,  1.68s/it]\n"
     ]
    },
    {
     "name": "stdout",
     "output_type": "stream",
     "text": [
      "{'ok': 4348, 'skip': 0, 'error': 0}\n"
     ]
    }
   ],
   "source": [
    "df = pd.read_csv('/kaggle/input/rsna2025-extra/train_add_metadata_v5.csv')\n",
    "df[\"sorted_files\"] = df[\"sorted_files\"].apply(lambda x: ast.literal_eval(x) if pd.notna(x) else x)\n",
    "df['PixelSpacing'] = df['PixelSpacing'].apply(lambda x: ast.literal_eval(x) if pd.notna(x) else x)\n",
    "\n",
    "out_root = './series'\n",
    "stats = run_parallel(df, out_root_arg=out_root, max_workers=4)\n",
    "print(stats)\n",
    "# records = df.to_dict(\"records\")\n",
    "# for record in tqdm(records, total=len(records)):\n",
    "#     process_one(record, out_root)\n",
    "#     img_files = row['sorted_files']\n",
    "#     sid = row['SeriesInstanceUID']\n",
    "#     modality = row['Modality']\n",
    "#     plane = row['OrientationLabel']\n",
    "#     if not isinstance(img_files, list):\n",
    "#         img_file = list(Path(f'/kaggle/input/rsna-intracranial-aneurysm-detection/series/{sid}').glob('*'))[0]\n",
    "#         imgs = load_dicom_array_3d(img_file)\n",
    "#     else:\n",
    "#         imgs = load_dicom_array_2d(img_files)\n",
    "#         y_spacing, x_spacing = row['PixelSpacing']\n",
    "#         z_spacing = row['z_spacing']\n",
    "#         imgs = resample_zyx(imgs,\n",
    "#                             spacing=(z_spacing, y_spacing, x_spacing),\n",
    "#                             new_spacing=(1., 1., 1.),\n",
    "#                             order=1\n",
    "#                            )\n",
    "#     if modality=='CTA':\n",
    "#         imgs = value_normalize(imgs, -100, 600)\n",
    "#     else:\n",
    "#         imgs = pct_normalize(imgs, 1, 99)\n",
    "#     Z, H, W = imgs.shape\n",
    "#     z_mid, h_mid, w_mid = Z//2, H//2, W//2\n",
    "    \n",
    "#     if plane=='AXIAL':\n",
    "#         # coronal\n",
    "#         img = imgs[:,h_mid,:]\n",
    "#         base = Path(out_root) / modality / plane / f\"axis1\"\n",
    "#         p_img   = base / \"images\"\n",
    "#         _ensure_dir(p_img)\n",
    "#         Image.fromarray(img, mode=\"L\").save(p_img / f\"{sid}.png\")\n",
    "\n",
    "#         # sagittal\n",
    "#         img = imgs[:,:,w_mid]\n",
    "#         base = Path(out_root) / modality / plane / f\"axis2\"\n",
    "#         p_img   = base / \"images\"\n",
    "#         _ensure_dir(p_img)\n",
    "#         Image.fromarray(img, mode=\"L\").save(p_img / f\"{sid}.png\")\n",
    "#     elif plane=='CORONAL':\n",
    "#         # coronal\n",
    "#         img = imgs[z_mid,:,:]\n",
    "#         base = Path(out_root) / modality / plane / f\"axis0\"\n",
    "#         p_img   = base / \"images\"\n",
    "#         _ensure_dir(p_img)\n",
    "#         Image.fromarray(img, mode=\"L\").save(p_img / f\"{sid}.png\")\n",
    "\n",
    "#         # sagittal\n",
    "#         img = imgs[:,:,w_mid]\n",
    "#         base = Path(out_root) / modality / plane / f\"axis2\"\n",
    "#         p_img   = base / \"images\"\n",
    "#         _ensure_dir(p_img)\n",
    "#         Image.fromarray(img, mode=\"L\").save(p_img / f\"{sid}.png\")\n",
    "#     elif plane=='SAGITTAL':\n",
    "#         # sagittal\n",
    "#         img = imgs[z_mid,:,:]\n",
    "#         base = Path(out_root) / modality / plane / f\"axis0\"\n",
    "#         p_img   = base / \"images\"\n",
    "#         _ensure_dir(p_img)\n",
    "#         Image.fromarray(img, mode=\"L\").save(p_img / f\"{sid}.png\")\n",
    "        \n",
    "#         # coronal\n",
    "#         img = imgs[:,:,w_mid]\n",
    "#         base = Path(out_root) / modality / plane / f\"axis2\"\n",
    "#         p_img   = base / \"images\"\n",
    "#         _ensure_dir(p_img)\n",
    "#         Image.fromarray(img, mode=\"L\").save(p_img / f\"{sid}.png\")\n",
    "\n",
    "        "
   ]
  },
  {
   "cell_type": "code",
   "execution_count": null,
   "id": "ddc6843d",
   "metadata": {
    "papermill": {
     "duration": 0.048736,
     "end_time": "2025-09-16T21:54:30.646490",
     "exception": false,
     "start_time": "2025-09-16T21:54:30.597754",
     "status": "completed"
    },
    "tags": []
   },
   "outputs": [],
   "source": []
  },
  {
   "cell_type": "code",
   "execution_count": null,
   "id": "7040bc76",
   "metadata": {
    "papermill": {
     "duration": 0.163988,
     "end_time": "2025-09-16T21:54:30.860243",
     "exception": false,
     "start_time": "2025-09-16T21:54:30.696255",
     "status": "completed"
    },
    "tags": []
   },
   "outputs": [],
   "source": []
  },
  {
   "cell_type": "code",
   "execution_count": 12,
   "id": "5f4d069c",
   "metadata": {
    "execution": {
     "iopub.execute_input": "2025-09-16T21:54:30.963209Z",
     "iopub.status.busy": "2025-09-16T21:54:30.962454Z",
     "iopub.status.idle": "2025-09-16T21:54:32.082291Z",
     "shell.execute_reply": "2025-09-16T21:54:32.081121Z"
    },
    "papermill": {
     "duration": 1.177118,
     "end_time": "2025-09-16T21:54:32.084023",
     "exception": false,
     "start_time": "2025-09-16T21:54:30.906905",
     "status": "completed"
    },
    "tags": []
   },
   "outputs": [],
   "source": [
    "df_plane = df[df['OrientationLabel']=='CORONAL']\n",
    "row = df_plane.iloc[0]\n",
    "img_files = row['sorted_files']\n",
    "sid = row['SeriesInstanceUID']\n",
    "modality = row['Modality']\n",
    "plane = row['OrientationLabel']\n",
    "if not isinstance(img_files, list):\n",
    "    img_file = list(Path(f'/kaggle/input/rsna-intracranial-aneurysm-detection/series/{sid}').glob('*'))[0]\n",
    "    imgs = load_dicom_array_3d(img_file)\n",
    "else:\n",
    "    imgs = load_dicom_array_2d(img_files)\n",
    "    y_spacing, x_spacing = row['PixelSpacing']\n",
    "    z_spacing = row['z_spacing']\n",
    "    imgs = resample_zyx(imgs,\n",
    "                        spacing=(z_spacing, y_spacing, x_spacing),\n",
    "                        new_spacing=(1., 1., 1.),\n",
    "                        order=1\n",
    "                       )\n",
    "if modality=='CTA':\n",
    "    imgs = value_normalize(imgs, -100, 600)\n",
    "else:\n",
    "    imgs = pct_normalize(imgs, 1, 99)"
   ]
  },
  {
   "cell_type": "code",
   "execution_count": 13,
   "id": "e42c37a6",
   "metadata": {
    "execution": {
     "iopub.execute_input": "2025-09-16T21:54:32.177835Z",
     "iopub.status.busy": "2025-09-16T21:54:32.177468Z",
     "iopub.status.idle": "2025-09-16T21:54:32.188777Z",
     "shell.execute_reply": "2025-09-16T21:54:32.187885Z"
    },
    "papermill": {
     "duration": 0.059509,
     "end_time": "2025-09-16T21:54:32.190537",
     "exception": false,
     "start_time": "2025-09-16T21:54:32.131028",
     "status": "completed"
    },
    "tags": []
   },
   "outputs": [
    {
     "data": {
      "text/plain": [
       "3.108056956521738"
      ]
     },
     "execution_count": 13,
     "metadata": {},
     "output_type": "execute_result"
    }
   ],
   "source": [
    "row['z_spacing']"
   ]
  },
  {
   "cell_type": "code",
   "execution_count": 14,
   "id": "149e95df",
   "metadata": {
    "execution": {
     "iopub.execute_input": "2025-09-16T21:54:32.286266Z",
     "iopub.status.busy": "2025-09-16T21:54:32.285875Z",
     "iopub.status.idle": "2025-09-16T21:54:32.892271Z",
     "shell.execute_reply": "2025-09-16T21:54:32.890992Z"
    },
    "papermill": {
     "duration": 0.656297,
     "end_time": "2025-09-16T21:54:32.893790",
     "exception": false,
     "start_time": "2025-09-16T21:54:32.237493",
     "status": "completed"
    },
    "tags": []
   },
   "outputs": [
    {
     "data": {
      "text/plain": [
       "<matplotlib.image.AxesImage at 0x78cfd7d208b0>"
      ]
     },
     "execution_count": 14,
     "metadata": {},
     "output_type": "execute_result"
    },
    {
     "data": {
      "image/png": "[encoded data removed]",
      "text/plain": [
       "<Figure size 640x480 with 1 Axes>"
      ]
     },
     "metadata": {},
     "output_type": "display_data"
    }
   ],
   "source": [
    "Z, H, W = imgs.shape\n",
    "z_mid, h_mid, w_mid = Z//2, H//2, W//2\n",
    "plt.imshow(imgs[:,:,w_mid])"
   ]
  },
  {
   "cell_type": "code",
   "execution_count": 15,
   "id": "b4113027",
   "metadata": {
    "execution": {
     "iopub.execute_input": "2025-09-16T21:54:33.004775Z",
     "iopub.status.busy": "2025-09-16T21:54:33.004272Z",
     "iopub.status.idle": "2025-09-16T21:54:33.010314Z",
     "shell.execute_reply": "2025-09-16T21:54:33.009493Z"
    },
    "papermill": {
     "duration": 0.062135,
     "end_time": "2025-09-16T21:54:33.011824",
     "exception": false,
     "start_time": "2025-09-16T21:54:32.949689",
     "status": "completed"
    },
    "tags": []
   },
   "outputs": [
    {
     "data": {
      "text/plain": [
       "(0.3516, 0.3516)"
      ]
     },
     "execution_count": 15,
     "metadata": {},
     "output_type": "execute_result"
    }
   ],
   "source": [
    "row['PixelSpacing']"
   ]
  },
  {
   "cell_type": "code",
   "execution_count": null,
   "id": "49db8abc",
   "metadata": {
    "papermill": {
     "duration": 0.051701,
     "end_time": "2025-09-16T21:54:33.113186",
     "exception": false,
     "start_time": "2025-09-16T21:54:33.061485",
     "status": "completed"
    },
    "tags": []
   },
   "outputs": [],
   "source": []
  }
 ],
 "metadata": {
  "kaggle": {
   "accelerator": "none",
   "dataSources": [
    {
     "databundleVersionId": 13747926,
     "sourceId": 99552,
     "sourceType": "competition"
    },
    {
     "datasetId": 8178911,
     "sourceId": 12925487,
     "sourceType": "datasetVersion"
    },
    {
     "datasetId": 8184998,
     "sourceId": 12934565,
     "sourceType": "datasetVersion"
    },
    {
     "datasetId": 7979194,
     "sourceId": 13080675,
     "sourceType": "datasetVersion"
    },
    {
     "sourceId": 226368929,
     "sourceType": "kernelVersion"
    },
    {
     "sourceId": 259333705,
     "sourceType": "kernelVersion"
    }
   ],
   "dockerImageVersionId": 30918,
   "isGpuEnabled": false,
   "isInternetEnabled": true,
   "language": "python",
   "sourceType": "notebook"
  },
  "kernelspec": {
   "display_name": "Python 3",
   "language": "python",
   "name": "python3"
  },
  "language_info": {
   "codemirror_mode": {
    "name": "ipython",
    "version": 3
   },
   "file_extension": ".py",
   "mimetype": "text/x-python",
   "name": "python",
   "nbconvert_exporter": "python",
   "pygments_lexer": "ipython3",
   "version": "3.10.12"
  },
  "papermill": {
   "default_parameters": {},
   "duration": 7346.057048,
   "end_time": "2025-09-16T21:54:35.913593",
   "environment_variables": {},
   "exception": null,
   "input_path": "__notebook__.ipynb",
   "output_path": "__notebook__.ipynb",
   "parameters": {},
   "start_time": "2025-09-16T19:52:09.856545",
   "version": "2.6.0"
  }
 },
 "nbformat": 4,
 "nbformat_minor": 5
}
