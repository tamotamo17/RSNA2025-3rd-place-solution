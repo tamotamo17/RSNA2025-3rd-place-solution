{
 "cells": [
  {
   "cell_type": "code",
   "execution_count": 1,
   "id": "684a7705",
   "metadata": {
    "execution": {
     "iopub.execute_input": "2025-10-20T22:59:23.430913Z",
     "iopub.status.busy": "2025-10-20T22:59:23.430539Z",
     "iopub.status.idle": "2025-10-20T22:59:31.276919Z",
     "shell.execute_reply": "2025-10-20T22:59:31.275288Z"
    },
    "papermill": {
     "duration": 7.855988,
     "end_time": "2025-10-20T22:59:31.279654",
     "exception": false,
     "start_time": "2025-10-20T22:59:23.423666",
     "status": "completed"
    },
    "tags": []
   },
   "outputs": [
    {
     "name": "stdout",
     "output_type": "stream",
     "text": [
      "Collecting ultralytics\r\n",
      "  Downloading ultralytics-8.3.218-py3-none-any.whl.metadata (37 kB)\r\n",
      "Requirement already satisfied: numpy>=1.23.0 in /usr/local/lib/python3.10/dist-packages (from ultralytics) (1.26.4)\r\n",
      "Requirement already satisfied: matplotlib>=3.3.0 in /usr/local/lib/python3.10/dist-packages (from ultralytics) (3.7.5)\r\n",
      "Requirement already satisfied: opencv-python>=4.6.0 in /usr/local/lib/python3.10/dist-packages (from ultralytics) (4.10.0.84)\r\n",
      "Requirement already satisfied: pillow>=7.1.2 in /usr/local/lib/python3.10/dist-packages (from ultralytics) (11.0.0)\r\n",
      "Requirement already satisfied: pyyaml>=5.3.1 in /usr/local/lib/python3.10/dist-packages (from ultralytics) (6.0.2)\r\n",
      "Requirement already satisfied: requests>=2.23.0 in /usr/local/lib/python3.10/dist-packages (from ultralytics) (2.32.3)\r\n",
      "Requirement already satisfied: scipy>=1.4.1 in /usr/local/lib/python3.10/dist-packages (from ultralytics) (1.13.1)\r\n",
      "Requirement already satisfied: torch>=1.8.0 in /usr/local/lib/python3.10/dist-packages (from ultralytics) (2.5.1+cu121)\r\n",
      "Requirement already satisfied: torchvision>=0.9.0 in /usr/local/lib/python3.10/dist-packages (from ultralytics) (0.20.1+cu121)\r\n",
      "Requirement already satisfied: psutil in /usr/local/lib/python3.10/dist-packages (from ultralytics) (5.9.5)\r\n",
      "Requirement already satisfied: polars in /usr/local/lib/python3.10/dist-packages (from ultralytics) (1.9.0)\r\n",
      "Collecting ultralytics-thop>=2.0.0 (from ultralytics)\r\n",
      "  Downloading ultralytics_thop-2.0.17-py3-none-any.whl.metadata (14 kB)\r\n",
      "Requirement already satisfied: contourpy>=1.0.1 in /usr/local/lib/python3.10/dist-packages (from matplotlib>=3.3.0->ultralytics) (1.3.1)\r\n",
      "Requirement already satisfied: cycler>=0.10 in /usr/local/lib/python3.10/dist-packages (from matplotlib>=3.3.0->ultralytics) (0.12.1)\r\n",
      "Requirement already satisfied: fonttools>=4.22.0 in /usr/local/lib/python3.10/dist-packages (from matplotlib>=3.3.0->ultralytics) (4.55.3)\r\n",
      "Requirement already satisfied: kiwisolver>=1.0.1 in /usr/local/lib/python3.10/dist-packages (from matplotlib>=3.3.0->ultralytics) (1.4.7)\r\n",
      "Requirement already satisfied: packaging>=20.0 in /usr/local/lib/python3.10/dist-packages (from matplotlib>=3.3.0->ultralytics) (24.2)\r\n",
      "Requirement already satisfied: pyparsing>=2.3.1 in /usr/local/lib/python3.10/dist-packages (from matplotlib>=3.3.0->ultralytics) (3.2.0)\r\n",
      "Requirement already satisfied: python-dateutil>=2.7 in /usr/local/lib/python3.10/dist-packages (from matplotlib>=3.3.0->ultralytics) (2.9.0.post0)\r\n",
      "Requirement already satisfied: mkl_fft in /usr/local/lib/python3.10/dist-packages (from numpy>=1.23.0->ultralytics) (1.3.8)\r\n",
      "Requirement already satisfied: mkl_random in /usr/local/lib/python3.10/dist-packages (from numpy>=1.23.0->ultralytics) (1.2.4)\r\n",
      "Requirement already satisfied: mkl_umath in /usr/local/lib/python3.10/dist-packages (from numpy>=1.23.0->ultralytics) (0.1.1)\r\n",
      "Requirement already satisfied: mkl in /usr/local/lib/python3.10/dist-packages (from numpy>=1.23.0->ultralytics) (2025.0.1)\r\n",
      "Requirement already satisfied: tbb4py in /usr/local/lib/python3.10/dist-packages (from numpy>=1.23.0->ultralytics) (2022.0.0)\r\n",
      "Requirement already satisfied: mkl-service in /usr/local/lib/python3.10/dist-packages (from numpy>=1.23.0->ultralytics) (2.4.1)\r\n",
      "Requirement already satisfied: charset-normalizer<4,>=2 in /usr/local/lib/python3.10/dist-packages (from requests>=2.23.0->ultralytics) (3.4.1)\r\n",
      "Requirement already satisfied: idna<4,>=2.5 in /usr/local/lib/python3.10/dist-packages (from requests>=2.23.0->ultralytics) (3.10)\r\n",
      "Requirement already satisfied: urllib3<3,>=1.21.1 in /usr/local/lib/python3.10/dist-packages (from requests>=2.23.0->ultralytics) (2.3.0)\r\n",
      "Requirement already satisfied: certifi>=2017.4.17 in /usr/local/lib/python3.10/dist-packages (from requests>=2.23.0->ultralytics) (2025.1.31)\r\n",
      "Requirement already satisfied: filelock in /usr/local/lib/python3.10/dist-packages (from torch>=1.8.0->ultralytics) (3.17.0)\r\n",
      "Requirement already satisfied: typing-extensions>=4.8.0 in /usr/local/lib/python3.10/dist-packages (from torch>=1.8.0->ultralytics) (4.12.2)\r\n",
      "Requirement already satisfied: networkx in /usr/local/lib/python3.10/dist-packages (from torch>=1.8.0->ultralytics) (3.4.2)\r\n",
      "Requirement already satisfied: jinja2 in /usr/local/lib/python3.10/dist-packages (from torch>=1.8.0->ultralytics) (3.1.4)\r\n",
      "Requirement already satisfied: fsspec in /usr/local/lib/python3.10/dist-packages (from torch>=1.8.0->ultralytics) (2024.12.0)\r\n",
      "Requirement already satisfied: sympy==1.13.1 in /usr/local/lib/python3.10/dist-packages (from torch>=1.8.0->ultralytics) (1.13.1)\r\n",
      "Requirement already satisfied: mpmath<1.4,>=1.1.0 in /usr/local/lib/python3.10/dist-packages (from sympy==1.13.1->torch>=1.8.0->ultralytics) (1.3.0)\r\n",
      "Requirement already satisfied: six>=1.5 in /usr/local/lib/python3.10/dist-packages (from python-dateutil>=2.7->matplotlib>=3.3.0->ultralytics) (1.17.0)\r\n",
      "Requirement already satisfied: MarkupSafe>=2.0 in /usr/local/lib/python3.10/dist-packages (from jinja2->torch>=1.8.0->ultralytics) (3.0.2)\r\n",
      "Requirement already satisfied: intel-openmp>=2024 in /usr/local/lib/python3.10/dist-packages (from mkl->numpy>=1.23.0->ultralytics) (2024.2.0)\r\n",
      "Requirement already satisfied: tbb==2022.* in /usr/local/lib/python3.10/dist-packages (from mkl->numpy>=1.23.0->ultralytics) (2022.0.0)\r\n",
      "Requirement already satisfied: tcmlib==1.* in /usr/local/lib/python3.10/dist-packages (from tbb==2022.*->mkl->numpy>=1.23.0->ultralytics) (1.2.0)\r\n",
      "Requirement already satisfied: intel-cmplr-lib-rt in /usr/local/lib/python3.10/dist-packages (from mkl_umath->numpy>=1.23.0->ultralytics) (2024.2.0)\r\n",
      "Requirement already satisfied: intel-cmplr-lib-ur==2024.2.0 in /usr/local/lib/python3.10/dist-packages (from intel-openmp>=2024->mkl->numpy>=1.23.0->ultralytics) (2024.2.0)\r\n",
      "Downloading ultralytics-8.3.218-py3-none-any.whl (1.1 MB)\r\n",
      "\u001b[2K   \u001b[90m━━━━━━━━━━━━━━━━━━━━━━━━━━━━━━━━━━━━━━━━\u001b[0m \u001b[32m1.1/1.1 MB\u001b[0m \u001b[31m25.3 MB/s\u001b[0m eta \u001b[36m0:00:00\u001b[0m\r\n",
      "\u001b[?25hDownloading ultralytics_thop-2.0.17-py3-none-any.whl (28 kB)\r\n",
      "Installing collected packages: ultralytics-thop, ultralytics\r\n",
      "Successfully installed ultralytics-8.3.218 ultralytics-thop-2.0.17\r\n"
     ]
    }
   ],
   "source": [
    "!pip install ultralytics"
   ]
  },
  {
   "cell_type": "code",
   "execution_count": 2,
   "id": "0bd1dd9c",
   "metadata": {
    "execution": {
     "iopub.execute_input": "2025-10-20T22:59:31.292544Z",
     "iopub.status.busy": "2025-10-20T22:59:31.292167Z",
     "iopub.status.idle": "2025-10-20T22:59:39.212224Z",
     "shell.execute_reply": "2025-10-20T22:59:39.211251Z"
    },
    "papermill": {
     "duration": 7.928841,
     "end_time": "2025-10-20T22:59:39.214418",
     "exception": false,
     "start_time": "2025-10-20T22:59:31.285577",
     "status": "completed"
    },
    "tags": []
   },
   "outputs": [
    {
     "name": "stdout",
     "output_type": "stream",
     "text": [
      "Creating new Ultralytics Settings v0.0.6 file ✅ \n",
      "View Ultralytics Settings with 'yolo settings' or at '/root/.config/Ultralytics/settings.json'\n",
      "Update Settings with 'yolo settings key=value', i.e. 'yolo settings runs_dir=path/to/dir'. For help see https://docs.ultralytics.com/quickstart/#ultralytics-settings.\n"
     ]
    }
   ],
   "source": [
    "import os, glob, math, random\n",
    "import ast\n",
    "from pathlib import Path\n",
    "import numpy as np\n",
    "import matplotlib.pyplot as plt\n",
    "from mpl_toolkits.mplot3d import Axes3D\n",
    "from PIL import Image, ImageDraw, ImageFont\n",
    "import pandas as pd\n",
    "import cv2\n",
    "import torch\n",
    "import pydicom\n",
    "from scipy.ndimage import zoom\n",
    "from ultralytics import YOLO"
   ]
  },
  {
   "cell_type": "code",
   "execution_count": 3,
   "id": "6bec9d0a",
   "metadata": {
    "execution": {
     "iopub.execute_input": "2025-10-20T22:59:39.227733Z",
     "iopub.status.busy": "2025-10-20T22:59:39.227088Z",
     "iopub.status.idle": "2025-10-20T22:59:39.257689Z",
     "shell.execute_reply": "2025-10-20T22:59:39.256364Z"
    },
    "papermill": {
     "duration": 0.039668,
     "end_time": "2025-10-20T22:59:39.260094",
     "exception": false,
     "start_time": "2025-10-20T22:59:39.220426",
     "status": "completed"
    },
    "tags": []
   },
   "outputs": [],
   "source": [
    "# ========== 小物ユーティリティ ==========\n",
    "def _iou_xyxy(a, b):\n",
    "    # a,b: [x1,y1,x2,y2]\n",
    "    x1 = max(a[0], b[0]); y1 = max(a[1], b[1])\n",
    "    x2 = min(a[2], b[2]); y2 = min(a[3], b[3])\n",
    "    iw = max(0.0, x2 - x1); ih = max(0.0, y2 - y1)\n",
    "    inter = iw * ih\n",
    "    if inter <= 0: return 0.0\n",
    "    area_a = max(0.0, (a[2]-a[0]) * (a[3]-a[1]))\n",
    "    area_b = max(0.0, (b[2]-b[0]) * (b[3]-b[1]))\n",
    "    union = area_a + area_b - inter + 1e-9\n",
    "    return inter / union\n",
    "\n",
    "def _ensure_dir(p):\n",
    "    Path(p).mkdir(parents=True, exist_ok=True)\n",
    "\n",
    "# ========== 簡易 Weighted Boxes Fusion（クラス別） ==========\n",
    "def weighted_boxes_fusion(\n",
    "    boxes, scores, labels,\n",
    "    iou_thr=0.55,\n",
    "    conf_type=\"avg\"   # \"avg\" か \"one_minus_prod\"\n",
    "):\n",
    "    \"\"\"\n",
    "    複数モデルの出力をマージ。boxes/scores/labels はすべて結合済み1配列（同一画像）。\n",
    "    - boxes: (N,4) xyxy\n",
    "    - scores: (N,)\n",
    "    - labels: (N,)\n",
    "    返り値: fused_boxes, fused_scores, fused_labels\n",
    "    \"\"\"\n",
    "    if len(boxes) == 0:\n",
    "        return boxes, scores, labels\n",
    "\n",
    "    order = np.argsort(-scores)\n",
    "    boxes = boxes[order]; scores = scores[order]; labels = labels[order]\n",
    "\n",
    "    clusters = []  # list of dict: {'box': np.array(4), 'score_sum': float, 'scores': [..], 'label': int, 'weight_sum': float, 'members': int}\n",
    "    for b, s, c in zip(boxes, scores, labels):\n",
    "        matched = False\n",
    "        for cl in clusters:\n",
    "            if cl['label'] != c:\n",
    "                continue\n",
    "            if _iou_xyxy(b, cl['box']) >= iou_thr:\n",
    "                # 既存クラスタにマージ（座標はスコア重みで移動平均）\n",
    "                w_old = cl['weight_sum']; w_new = s\n",
    "                cl['box'] = (cl['box'] * w_old + b * w_new) / (w_old + w_new + 1e-9)\n",
    "                cl['weight_sum'] += w_new\n",
    "                cl['scores'].append(s)\n",
    "                cl['members'] += 1\n",
    "                matched = True\n",
    "                break\n",
    "        if not matched:\n",
    "            clusters.append({\n",
    "                'box': b.copy(),\n",
    "                'label': int(c),\n",
    "                'weight_sum': float(s),\n",
    "                'scores': [float(s)],\n",
    "                'members': 1,\n",
    "            })\n",
    "\n",
    "    fused_boxes, fused_scores, fused_labels = [], [], []\n",
    "    for cl in clusters:\n",
    "        fused_boxes.append(cl['box'])\n",
    "        if conf_type == \"one_minus_prod\":\n",
    "            # 1 - ∏(1-s) で統合信頼度\n",
    "            p = 1.0\n",
    "            for s in cl['scores']:\n",
    "                p *= (1.0 - s)\n",
    "            sc = 1.0 - p\n",
    "        else:\n",
    "            sc = float(np.mean(cl['scores']))\n",
    "        fused_scores.append(sc)\n",
    "        fused_labels.append(cl['label'])\n",
    "\n",
    "    return np.vstack(fused_boxes), np.array(fused_scores), np.array(fused_labels, dtype=int)\n",
    "\n",
    "# ========== 1画像に対する fold アンサンブル推論 ==========\n",
    "def predict_ensemble_single_image(\n",
    "    models,\n",
    "    image,\n",
    "    conf=0.2,\n",
    "    iou=0.7,\n",
    "    imgsz=320,\n",
    "    per_model_max_det=1,      # 各モデルが返す最大検出数\n",
    "    ensemble_iou=0.55,          # WBF のクラスタ閾値\n",
    "    only_one=True,             # True で最終1件に絞る\n",
    "    agnostic=False,             # True でクラス無視の後段NMSをしたい場合（今回はWBFなので通常Falseのまま推奨）\n",
    "):\n",
    "    \"\"\"\n",
    "    各 fold の best.pt を読み、単一画像に対して推論→WBFで統合。\n",
    "    戻り値: dict {'boxes': (K,4), 'scores': (K,), 'labels': (K,)}\n",
    "    \"\"\"\n",
    "    # 遅延ロードを避けたい場合は、外で [YOLO(p) for p in model_paths] を渡す実装に変えてもOK\n",
    "    boxes_all = []\n",
    "    scores_all = []\n",
    "    labels_all = []\n",
    "\n",
    "    for model in models:\n",
    "        model = YOLO(mp)\n",
    "        res = model.predict(\n",
    "            source=image,\n",
    "            conf=conf, iou=iou, imgsz=imgsz, max_det=per_model_max_det, verbose=False\n",
    "        )[0]\n",
    "        if res.boxes is None or len(res.boxes) == 0:\n",
    "            continue\n",
    "        xyxy = res.boxes.xyxy.cpu().numpy()\n",
    "        sco  = res.boxes.conf.cpu().numpy()\n",
    "        lab  = (res.boxes.cls.cpu().numpy().astype(int)\n",
    "                if res.boxes.cls is not None else np.zeros(len(xyxy), dtype=int))\n",
    "        boxes_all.append(xyxy); scores_all.append(sco); labels_all.append(lab)\n",
    "\n",
    "    if len(boxes_all) == 0:\n",
    "        return {'boxes': np.zeros((0,4), dtype=np.float32),\n",
    "                'scores': np.zeros((0,), dtype=np.float32),\n",
    "                'labels': np.zeros((0,), dtype=np.int32)}\n",
    "\n",
    "    boxes = np.vstack(boxes_all)\n",
    "    scores = np.hstack(scores_all)\n",
    "    labels = np.hstack(labels_all)\n",
    "\n",
    "    # 簡易 WBF\n",
    "    f_boxes, f_scores, f_labels = weighted_boxes_fusion(\n",
    "        boxes, scores, labels, iou_thr=ensemble_iou, conf_type=\"one_minus_prod\"\n",
    "    )\n",
    "\n",
    "    # 1件に絞る（スコア最大）\n",
    "    if only_one and len(f_scores) > 0:\n",
    "        idx = int(np.argmax(f_scores))\n",
    "        f_boxes = f_boxes[idx:idx+1]\n",
    "        f_scores = f_scores[idx:idx+1]\n",
    "        f_labels = f_labels[idx:idx+1]\n",
    "\n",
    "    return {'boxes': f_boxes, 'scores': f_scores, 'labels': f_labels}\n",
    "\n",
    "# ========== ディレクトリ一括推論 & オーバーレイ保存 & CSV ==========\n",
    "def ensemble_infer_dir(\n",
    "    model_paths,\n",
    "    images_root,\n",
    "    out_dir=\"/kaggle/working/ens_out\",\n",
    "    conf=0.2,\n",
    "    iou=0.7,\n",
    "    imgsz=640,\n",
    "    per_model_max_det=100,\n",
    "    ensemble_iou=0.55,\n",
    "    only_one=False,\n",
    "    draw_score=True,\n",
    "):\n",
    "    \"\"\"\n",
    "    images_root 配下の *.png / *.jpg を再帰探索して、fold アンサンブル推論。\n",
    "    - オーバーレイ画像を out_dir/overlays 下に保存（元のサブフォルダ構造を維持）\n",
    "    - 予測座標を CSV に保存（out_dir/ensemble_predictions.csv）\n",
    "    \"\"\"\n",
    "    images_root = Path(images_root)\n",
    "    out_dir = Path(out_dir)\n",
    "    overlays_dir = out_dir / \"overlays\"\n",
    "    _ensure_dir(overlays_dir)\n",
    "\n",
    "    img_paths = (list(images_root.rglob(\"*.png\")) +\n",
    "                 list(images_root.rglob(\"*.jpg\")) +\n",
    "                 list(images_root.rglob(\"*.jpeg\")))\n",
    "    img_paths.sort()\n",
    "    if not img_paths:\n",
    "        print(f\"No images found under: {images_root}\")\n",
    "        return None\n",
    "\n",
    "    rows = []\n",
    "    # フォント（環境によっては使えないことがあるので None でフォールバック）\n",
    "    try:\n",
    "        font = ImageFont.truetype(\"DejaVuSans.ttf\", size=14)\n",
    "    except:\n",
    "        font = None\n",
    "\n",
    "    for img_path in img_paths:\n",
    "        pred = predict_ensemble_single_image(\n",
    "            model_paths, str(img_path),\n",
    "            conf=conf, iou=iou, imgsz=imgsz,\n",
    "            per_model_max_det=per_model_max_det,\n",
    "            ensemble_iou=ensemble_iou,\n",
    "            only_one=only_one,\n",
    "        )\n",
    "\n",
    "        # CSV 行を作成\n",
    "        if len(pred['scores']) == 0:\n",
    "            rows.append({\n",
    "                \"image_path\": str(img_path),\n",
    "                \"x1\": np.nan, \"y1\": np.nan, \"x2\": np.nan, \"y2\": np.nan,\n",
    "                \"score\": np.nan, \"class\": np.nan,\n",
    "                \"cx\": np.nan, \"cy\": np.nan, \"w\": np.nan, \"h\": np.nan\n",
    "            })\n",
    "        else:\n",
    "            for (x1,y1,x2,y2), sc, cls in zip(pred['boxes'], pred['scores'], pred['labels']):\n",
    "                w = x2 - x1; h = y2 - y1; cx = x1 + w/2; cy = y1 + h/2\n",
    "                rows.append({\n",
    "                    \"image_path\": str(img_path),\n",
    "                    \"x1\": float(x1), \"y1\": float(y1), \"x2\": float(x2), \"y2\": float(y2),\n",
    "                    \"score\": float(sc), \"class\": int(cls),\n",
    "                    \"cx\": float(cx), \"cy\": float(cy), \"w\": float(w), \"h\": float(h)\n",
    "                })\n",
    "\n",
    "        # オーバーレイ保存\n",
    "        img = Image.open(img_path).convert(\"RGB\")\n",
    "        draw = ImageDraw.Draw(img)\n",
    "        for (x1,y1,x2,y2), sc, cls in zip(pred['boxes'], pred['scores'], pred['labels']):\n",
    "            draw.rectangle([x1,y1,x2,y2], outline=(255,0,0), width=2)\n",
    "            if draw_score:\n",
    "                txt = f\"{int(cls)}:{sc:.2f}\"\n",
    "                tw, th = draw.textlength(txt, font=font) if hasattr(draw, \"textlength\") else (len(txt)*8, 12)\n",
    "                draw.rectangle([x1, max(0,y1-th-2), x1+tw+4, y1], fill=(255,0,0))\n",
    "                draw.text((x1+2, max(0,y1-th-2)), txt, fill=(255,255,255), font=font)\n",
    "\n",
    "        rel = img_path.relative_to(images_root)\n",
    "        out_img_path = overlays_dir / rel\n",
    "        _ensure_dir(out_img_path.parent)\n",
    "        img.save(out_img_path)\n",
    "\n",
    "    # CSV 保存\n",
    "    df = pd.DataFrame(rows)\n",
    "    csv_path = out_dir / \"ensemble_predictions.csv\"\n",
    "    _ensure_dir(csv_path.parent)\n",
    "    df.to_csv(csv_path, index=False)\n",
    "    print(f\"Saved overlays to: {overlays_dir}\")\n",
    "    print(f\"Saved CSV to:      {csv_path}\")\n",
    "    return {\"csv\": str(csv_path), \"overlays_dir\": str(overlays_dir), \"df\": df}\n"
   ]
  },
  {
   "cell_type": "code",
   "execution_count": 4,
   "id": "c1a9e950",
   "metadata": {
    "execution": {
     "iopub.execute_input": "2025-10-20T22:59:39.273117Z",
     "iopub.status.busy": "2025-10-20T22:59:39.272752Z",
     "iopub.status.idle": "2025-10-20T22:59:39.281660Z",
     "shell.execute_reply": "2025-10-20T22:59:39.280568Z"
    },
    "papermill": {
     "duration": 0.017607,
     "end_time": "2025-10-20T22:59:39.283679",
     "exception": false,
     "start_time": "2025-10-20T22:59:39.266072",
     "status": "completed"
    },
    "tags": []
   },
   "outputs": [],
   "source": [
    "def pct_normalize(img, p_min, p_max):\n",
    "    vmin = np.percentile(img, p_min)\n",
    "    vmax = np.percentile(img, p_max)\n",
    "    img = np.clip(img, vmin, vmax)\n",
    "    img = (img - vmin) / (vmax - vmin + 1e-6)\n",
    "    img = (img*255).astype(np.uint8)\n",
    "    return img\n",
    "\n",
    "def value_normalize(img, vmin, vmax):\n",
    "    img = np.clip(img, vmin, vmax)\n",
    "    img = (img - vmin) / (vmax - vmin + 1e-6)\n",
    "    img = (img*255).astype(np.uint8)\n",
    "    return img\n",
    "    \n",
    "def resample_zyx(arr: np.ndarray,\n",
    "                 spacing: tuple[float, float, float],\n",
    "                 new_spacing: tuple[float, float, float],\n",
    "                 order: int) -> np.ndarray:\n",
    "    \"\"\"\n",
    "    (Z,Y,X) を spacing -> new_spacing へリサンプリング。\n",
    "    order=1: 画像（線形）, order=0: マスク（最近傍）\n",
    "    \"\"\"\n",
    "    sz, sy, sx = spacing\n",
    "    nsz, nsy, nsx = new_spacing\n",
    "    zz, zy, zx = sz / nsz, sy / nsy, sx / nsx\n",
    "    mode = \"nearest\" if order == 0 else \"constant\"\n",
    "    return zoom(arr, zoom=(zz, zy, zx), order=order, mode=mode)\n",
    "    \n",
    "def load_dicom_array_2d(paths):\n",
    "    imgs = []\n",
    "    for path in paths:\n",
    "        dcm = pydicom.dcmread(path)\n",
    "        imgs.append(dcm.pixel_array)\n",
    "    imgs = np.array(imgs)\n",
    "    return imgs\n",
    "\n",
    "def load_dicom_array_3d(path):\n",
    "    dcm = pydicom.dcmread(path)\n",
    "    imgs = dcm.pixel_array\n",
    "    return imgs"
   ]
  },
  {
   "cell_type": "code",
   "execution_count": 5,
   "id": "42245066",
   "metadata": {
    "execution": {
     "iopub.execute_input": "2025-10-20T22:59:39.296006Z",
     "iopub.status.busy": "2025-10-20T22:59:39.295638Z",
     "iopub.status.idle": "2025-10-20T22:59:39.311698Z",
     "shell.execute_reply": "2025-10-20T22:59:39.310482Z"
    },
    "papermill": {
     "duration": 0.02455,
     "end_time": "2025-10-20T22:59:39.313664",
     "exception": false,
     "start_time": "2025-10-20T22:59:39.289114",
     "status": "completed"
    },
    "tags": []
   },
   "outputs": [],
   "source": [
    "def bbox_coords(row):\n",
    "    df_sample = df_bbox[df_bbox['SeriesInstanceUID'] == row['SeriesInstanceUID']]\n",
    "    zs_min, zs_max, ys_min, ys_max, xs_min, xs_max = [], [], [], [], [], []\n",
    "    for _, row_bbox in df_sample.iterrows():\n",
    "        x1, x2, y1, y2 = row_bbox['x1'], row_bbox['x2'], row_bbox['y1'], row_bbox['y2']\n",
    "        if row['OrientationLabel']=='AXIAL':\n",
    "            if row_bbox['axis']=='axis2':\n",
    "                zs_min.append(y1)\n",
    "                zs_max.append(y2)\n",
    "                ys_min.append(x1)\n",
    "                ys_max.append(x2)\n",
    "            elif row_bbox['axis']=='axis1':\n",
    "                zs_min.append(y1)\n",
    "                zs_max.append(y2)\n",
    "                xs_min.append(x1)\n",
    "                xs_max.append(x2)\n",
    "        elif row['OrientationLabel']=='SAGITTAL':\n",
    "            if row_bbox['axis']=='axis2':\n",
    "                zs_min.append(y1)\n",
    "                zs_max.append(y2)\n",
    "                ys_min.append(x1)\n",
    "                ys_max.append(x2)\n",
    "            elif row_bbox['axis']=='axis0':\n",
    "                ys_min.append(y1)\n",
    "                ys_max.append(y2)\n",
    "                xs_min.append(x1)\n",
    "                xs_max.append(x2)\n",
    "        elif row['OrientationLabel']=='CORONAL':\n",
    "            if row_bbox['axis']=='axis2':\n",
    "                zs_min.append(y1)\n",
    "                zs_max.append(y2)\n",
    "                ys_min.append(x1)\n",
    "                ys_max.append(x2)\n",
    "            elif row_bbox['axis']=='axis0':\n",
    "                ys_min.append(y1)\n",
    "                ys_max.append(y2)\n",
    "                xs_min.append(x1)\n",
    "                xs_max.append(x2)\n",
    "    z_min_mean = np.nanmean(zs_min)\n",
    "    z_max_mean = np.nanmean(zs_max)\n",
    "    y_min_mean = np.nanmean(ys_min)\n",
    "    y_max_mean = np.nanmean(ys_max)\n",
    "    x_min_mean = np.nanmean(xs_min)\n",
    "    x_max_mean = np.nanmean(xs_max)\n",
    "    return pd.Series({'x1_mm': x_min_mean,\n",
    "                      'x2_mm': x_max_mean,\n",
    "                      'y1_mm': y_min_mean,\n",
    "                      'y2_mm': y_max_mean,\n",
    "                      'z1_mm': z_min_mean,\n",
    "                      'z2_mm': z_max_mean\n",
    "                     })\n",
    "\n",
    "\n",
    "import numpy as np\n",
    "import pandas as pd\n",
    "from collections.abc import Sequence\n",
    "\n",
    "def restore_coordinates_zyx(row) -> pd.Series:\n",
    "    \"\"\"\n",
    "    (Z, Y, X) を spacing(=1,1,1) -> new_spacing へスケール変換。\n",
    "    何らかのエラー（欠損/型不正/0除算など）の場合は NaN を返す。\n",
    "    期待キー: 'z_spacing', 'PixelSpacing', 'x1','x2','y1','y2','z1','z2'\n",
    "    \"\"\"\n",
    "    keys = ['x1', 'x2', 'y1', 'y2', 'z1', 'z2']\n",
    "    def na_series():\n",
    "        return pd.Series({k: np.nan for k in keys})\n",
    "\n",
    "    try:\n",
    "        # 元の仮定: 旧座標は spacing=(1,1,1) ベース\n",
    "        sz = sy = sx = 1.0\n",
    "\n",
    "        # 目標の新しい spacing を取り出し\n",
    "        nsz = float(row['z_spacing'])\n",
    "\n",
    "        ps = row['PixelSpacing']\n",
    "        # PixelSpacing の頑健なパース（list/tuple/pydicom MultiValue/str）\n",
    "        if isinstance(ps, str):\n",
    "            s = ps.strip().strip('[]()')\n",
    "            parts = [p for p in s.replace(';', ',').split(',') if p.strip() != '']\n",
    "            if len(parts) < 2:\n",
    "                return na_series()\n",
    "            nsy = float(parts[0])\n",
    "            nsx = float(parts[1])\n",
    "        elif isinstance(ps, Sequence):\n",
    "            if len(ps) < 2:\n",
    "                return na_series()\n",
    "            nsy = float(ps[0])\n",
    "            nsx = float(ps[1])\n",
    "        else:\n",
    "            return na_series()\n",
    "\n",
    "        # 0 または 非有限値は無効\n",
    "        if not np.isfinite(nsz) or not np.isfinite(nsy) or not np.isfinite(nsx):\n",
    "            return na_series()\n",
    "        if nsz == 0.0 or nsy == 0.0 or nsx == 0.0:\n",
    "            return na_series()\n",
    "\n",
    "        # スケール係数\n",
    "        zz, zy, zx = sz / nsz, sy / nsy, sx / nsx\n",
    "\n",
    "        vals = {\n",
    "            'x1': float(row['x1_mm']) * zx,\n",
    "            'x2': float(row['x2_mm']) * zx,\n",
    "            'y1': float(row['y1_mm']) * zy,\n",
    "            'y2': float(row['y2_mm']) * zy,\n",
    "            'z1': float(row['z1_mm']) * zz,\n",
    "            'z2': float(row['z2_mm']) * zz,\n",
    "        }\n",
    "        # 数値でない場合は except に落ちる\n",
    "        return pd.Series(vals)\n",
    "\n",
    "    except Exception:\n",
    "        return na_series()\n"
   ]
  },
  {
   "cell_type": "code",
   "execution_count": 6,
   "id": "89234938",
   "metadata": {
    "execution": {
     "iopub.execute_input": "2025-10-20T22:59:39.326502Z",
     "iopub.status.busy": "2025-10-20T22:59:39.326033Z",
     "iopub.status.idle": "2025-10-20T22:59:47.130723Z",
     "shell.execute_reply": "2025-10-20T22:59:47.129397Z"
    },
    "papermill": {
     "duration": 7.813533,
     "end_time": "2025-10-20T22:59:47.132851",
     "exception": false,
     "start_time": "2025-10-20T22:59:39.319318",
     "status": "completed"
    },
    "tags": []
   },
   "outputs": [],
   "source": [
    "root_pred = '/kaggle/input/rsna2025-series-yolo-prediction-plus3d/ens_out/overlays/'\n",
    "df = pd.read_csv('/kaggle/input/rsna2025-extra/train_add_metadata_v5.csv')\n",
    "df[\"sorted_files\"] = df[\"sorted_files\"].apply(lambda x: ast.literal_eval(x) if pd.notna(x) else x)\n",
    "df['PixelSpacing'] = df['PixelSpacing'].apply(lambda x: ast.literal_eval(x) if pd.notna(x) else x)\n",
    "#df_bbox = pd.read_csv('/kaggle/input/rsna2025-series-yolo-prediction-plus3d/ens_out/ensemble_predictions.csv')\n",
    "df_bbox = pd.read_csv('/kaggle/input/rsna2025-series-yolo-prediction-plus3d/ens_out/ensemble_predictions.csv')\n",
    "df_bbox['SeriesInstanceUID'] = df_bbox['image_path'].apply(lambda x: x.split('/')[-1][:-4])\n",
    "df_bbox['image_path'] = df_bbox['image_path'].apply(lambda x: root_pred+'/'.join(x.split('/')[-5:]))\n",
    "df_bbox['axis'] = df_bbox['image_path'].apply(lambda x: x.split('/')[-3])\n",
    "\n",
    "# img_files = row['sorted_files']\n",
    "# sid = row['SeriesInstanceUID']\n",
    "# modality = row['Modality']\n",
    "# plane = row['OrientationLabel']\n",
    "# if np.isnan(img_files):\n",
    "#     img_file = list(Path(f'/kaggle/input/rsna-intracranial-aneurysm-detection/series/{sid}').glob('*'))[0]\n",
    "#     imgs = load_dicom_array_3d(img_file)\n",
    "# else:\n",
    "#     imgs = load_dicom_array_2d(img_files)\n",
    "#     y_spacing, x_spacing = row['PixelSpacing']\n",
    "#     z_spacing = row['z_spacing']\n",
    "#     imgs = resample_zyx(imgs,\n",
    "#                         spacing=(z_spacing, y_spacing, x_spacing),\n",
    "#                         new_spacing=(1., 1., 1.),\n",
    "#                         order=1\n",
    "#                        )\n",
    "# if modality=='CTA':\n",
    "#     imgs = value_normalize(imgs, -100, 600)\n",
    "# else:\n",
    "#     imgs = pct_normalize(imgs, 1, 99)"
   ]
  },
  {
   "cell_type": "code",
   "execution_count": 7,
   "id": "8026cc47",
   "metadata": {
    "execution": {
     "iopub.execute_input": "2025-10-20T22:59:47.145041Z",
     "iopub.status.busy": "2025-10-20T22:59:47.144702Z",
     "iopub.status.idle": "2025-10-20T22:59:47.152327Z",
     "shell.execute_reply": "2025-10-20T22:59:47.151184Z"
    },
    "papermill": {
     "duration": 0.015668,
     "end_time": "2025-10-20T22:59:47.154107",
     "exception": false,
     "start_time": "2025-10-20T22:59:47.138439",
     "status": "completed"
    },
    "tags": []
   },
   "outputs": [
    {
     "data": {
      "text/plain": [
       "Index(['SeriesInstanceUID', 'PatientAge', 'PatientSex', 'Modality',\n",
       "       'Left Infraclinoid Internal Carotid Artery',\n",
       "       'Right Infraclinoid Internal Carotid Artery',\n",
       "       'Left Supraclinoid Internal Carotid Artery',\n",
       "       'Right Supraclinoid Internal Carotid Artery',\n",
       "       'Left Middle Cerebral Artery', 'Right Middle Cerebral Artery',\n",
       "       'Anterior Communicating Artery', 'Left Anterior Cerebral Artery',\n",
       "       'Right Anterior Cerebral Artery', 'Left Posterior Communicating Artery',\n",
       "       'Right Posterior Communicating Artery', 'Basilar Tip',\n",
       "       'Other Posterior Circulation', 'Aneurysm Present', 'num_slice', 'ndim',\n",
       "       'angio', 'z_spacing', 'sorted_files', 'slice_positions',\n",
       "       'BitsAllocated', 'BitsStored', 'Columns', 'FrameOfReferenceUID',\n",
       "       'HighBit', 'ImageOrientationPatient', 'ImagePositionPatient',\n",
       "       'InstanceNumber', 'Modality_eda', 'PatientID',\n",
       "       'PhotometricInterpretation', 'PixelRepresentation', 'PixelSpacing',\n",
       "       'PlanarConfiguration', 'RescaleIntercept', 'RescaleSlope',\n",
       "       'RescaleType', 'Rows', 'SOPClassUID', 'SOPInstanceUID',\n",
       "       'SamplesPerPixel', 'SliceThickness', 'SpacingBetweenSlices',\n",
       "       'StudyInstanceUID', 'TransferSyntaxUID', 'SeriesPath',\n",
       "       'OrientationLabel', 'AnteriorUp', 'OrientationLabelEncoded',\n",
       "       'ModalityEncoded', 'fold'],\n",
       "      dtype='object')"
      ]
     },
     "execution_count": 7,
     "metadata": {},
     "output_type": "execute_result"
    }
   ],
   "source": [
    "df.columns"
   ]
  },
  {
   "cell_type": "code",
   "execution_count": 8,
   "id": "2b6ac885",
   "metadata": {
    "execution": {
     "iopub.execute_input": "2025-10-20T22:59:47.166386Z",
     "iopub.status.busy": "2025-10-20T22:59:47.165989Z",
     "iopub.status.idle": "2025-10-20T22:59:57.447374Z",
     "shell.execute_reply": "2025-10-20T22:59:57.446213Z"
    },
    "papermill": {
     "duration": 10.289665,
     "end_time": "2025-10-20T22:59:57.449366",
     "exception": false,
     "start_time": "2025-10-20T22:59:47.159701",
     "status": "completed"
    },
    "tags": []
   },
   "outputs": [
    {
     "name": "stderr",
     "output_type": "stream",
     "text": [
      "<ipython-input-5-1773d57ff63b>:39: RuntimeWarning: Mean of empty slice\n",
      "  z_min_mean = np.nanmean(zs_min)\n",
      "<ipython-input-5-1773d57ff63b>:40: RuntimeWarning: Mean of empty slice\n",
      "  z_max_mean = np.nanmean(zs_max)\n",
      "<ipython-input-5-1773d57ff63b>:41: RuntimeWarning: Mean of empty slice\n",
      "  y_min_mean = np.nanmean(ys_min)\n",
      "<ipython-input-5-1773d57ff63b>:42: RuntimeWarning: Mean of empty slice\n",
      "  y_max_mean = np.nanmean(ys_max)\n",
      "<ipython-input-5-1773d57ff63b>:43: RuntimeWarning: Mean of empty slice\n",
      "  x_min_mean = np.nanmean(xs_min)\n",
      "<ipython-input-5-1773d57ff63b>:44: RuntimeWarning: Mean of empty slice\n",
      "  x_max_mean = np.nanmean(xs_max)\n"
     ]
    }
   ],
   "source": [
    "df[['x1_mm', 'x2_mm', 'y1_mm', 'y2_mm', 'z1_mm', 'z2_mm']] = df.apply(bbox_coords, axis=1)\n",
    "df[['x1', 'x2', 'y1', 'y2', 'z1', 'z2']] = df.apply(restore_coordinates_zyx, axis=1)"
   ]
  },
  {
   "cell_type": "code",
   "execution_count": 9,
   "id": "fe83a1f6",
   "metadata": {
    "execution": {
     "iopub.execute_input": "2025-10-20T22:59:57.462492Z",
     "iopub.status.busy": "2025-10-20T22:59:57.462052Z",
     "iopub.status.idle": "2025-10-20T22:59:57.470042Z",
     "shell.execute_reply": "2025-10-20T22:59:57.468571Z"
    },
    "papermill": {
     "duration": 0.016775,
     "end_time": "2025-10-20T22:59:57.472213",
     "exception": false,
     "start_time": "2025-10-20T22:59:57.455438",
     "status": "completed"
    },
    "tags": []
   },
   "outputs": [],
   "source": [
    "df['x_size'] = df['x2_mm'] - df['x1_mm']\n",
    "df['y_size'] = df['y2_mm'] - df['y1_mm']\n",
    "df['z_size'] = df['z2_mm'] - df['z1_mm']"
   ]
  },
  {
   "cell_type": "code",
   "execution_count": 10,
   "id": "45b02f95",
   "metadata": {
    "execution": {
     "iopub.execute_input": "2025-10-20T22:59:57.485030Z",
     "iopub.status.busy": "2025-10-20T22:59:57.484669Z",
     "iopub.status.idle": "2025-10-20T22:59:58.768091Z",
     "shell.execute_reply": "2025-10-20T22:59:58.766785Z"
    },
    "papermill": {
     "duration": 1.292352,
     "end_time": "2025-10-20T22:59:58.770332",
     "exception": false,
     "start_time": "2025-10-20T22:59:57.477980",
     "status": "completed"
    },
    "tags": []
   },
   "outputs": [
    {
     "data": {
      "text/plain": [
       "<matplotlib.legend.Legend at 0x788f78b30dc0>"
      ]
     },
     "execution_count": 10,
     "metadata": {},
     "output_type": "execute_result"
    },
    {
     "data": {
      "image/png": "[encoded data removed]",
      "text/plain": [
       "<Figure size 640x480 with 1 Axes>"
      ]
     },
     "metadata": {},
     "output_type": "display_data"
    },
    {
     "data": {
      "image/png": "[encoded data removed]",
      "text/plain": [
       "<Figure size 640x480 with 1 Axes>"
      ]
     },
     "metadata": {},
     "output_type": "display_data"
    },
    {
     "data": {
      "image/png": "[encoded data removed]",
      "text/plain": [
       "<Figure size 640x480 with 1 Axes>"
      ]
     },
     "metadata": {},
     "output_type": "display_data"
    }
   ],
   "source": [
    "plt.figure()\n",
    "for plane in ['AXIAL', 'SAGITTAL', 'CORONAL']:\n",
    "    df_plane = df[df['OrientationLabel']==plane]\n",
    "    df_plane['x_size'].hist(label=plane, alpha=0.3, density=True)\n",
    "plt.title('x_size')\n",
    "plt.xlabel('mm')\n",
    "plt.legend()\n",
    "\n",
    "plt.figure()\n",
    "for plane in ['AXIAL', 'SAGITTAL', 'CORONAL']:\n",
    "    df_plane = df[df['OrientationLabel']==plane]\n",
    "    df_plane['y_size'].hist(label=plane, alpha=0.3, density=True)\n",
    "plt.title('y_size')\n",
    "plt.xlabel('mm')\n",
    "plt.legend()\n",
    "\n",
    "plt.figure()\n",
    "for plane in ['AXIAL', 'SAGITTAL', 'CORONAL']:\n",
    "    df_plane = df[df['OrientationLabel']==plane]\n",
    "    df_plane['z_size'].hist(label=plane, alpha=0.3, density=True)\n",
    "plt.title('z_size')\n",
    "plt.xlabel('mm')\n",
    "plt.legend()"
   ]
  },
  {
   "cell_type": "code",
   "execution_count": 11,
   "id": "5b23ffae",
   "metadata": {
    "execution": {
     "iopub.execute_input": "2025-10-20T22:59:58.787351Z",
     "iopub.status.busy": "2025-10-20T22:59:58.786921Z",
     "iopub.status.idle": "2025-10-20T23:00:04.366826Z",
     "shell.execute_reply": "2025-10-20T23:00:04.365371Z"
    },
    "papermill": {
     "duration": 5.590711,
     "end_time": "2025-10-20T23:00:04.369188",
     "exception": false,
     "start_time": "2025-10-20T22:59:58.778477",
     "status": "completed"
    },
    "tags": []
   },
   "outputs": [],
   "source": [
    "df.to_csv('train_add_metadata_v5_roi.csv', index=False)"
   ]
  },
  {
   "cell_type": "code",
   "execution_count": 12,
   "id": "e3f182e1",
   "metadata": {
    "execution": {
     "iopub.execute_input": "2025-10-20T23:00:04.386557Z",
     "iopub.status.busy": "2025-10-20T23:00:04.386085Z",
     "iopub.status.idle": "2025-10-20T23:00:04.391621Z",
     "shell.execute_reply": "2025-10-20T23:00:04.390438Z"
    },
    "papermill": {
     "duration": 0.015913,
     "end_time": "2025-10-20T23:00:04.393271",
     "exception": false,
     "start_time": "2025-10-20T23:00:04.377358",
     "status": "completed"
    },
    "tags": []
   },
   "outputs": [],
   "source": [
    "# idx = 1\n",
    "# df_plane = df_seg[df_seg['OrientationLabel']=='CORONAL']\n",
    "# sid = df_plane['SeriesInstanceUID'].iloc[idx]\n",
    "# row = df_seg[df_seg['SeriesInstanceUID']==sid].iloc[0]\n",
    "# img_files = row['sorted_files']\n",
    "# sid = row['SeriesInstanceUID']\n",
    "# modality = row['Modality']\n",
    "# plane = row['OrientationLabel']\n",
    "# if not isinstance(img_files, list):\n",
    "#     img_file = list(Path(f'/kaggle/input/rsna-intracranial-aneurysm-detection/series/{sid}').glob('*'))[0]\n",
    "#     imgs = load_dicom_array_3d(img_file)\n",
    "# else:\n",
    "#     imgs = load_dicom_array_2d(img_files)\n",
    "#     y_spacing, x_spacing = row['PixelSpacing']\n",
    "#     z_spacing = row['z_spacing']\n",
    "#     # imgs = resample_zyx(imgs,\n",
    "#     #                     spacing=(z_spacing, y_spacing, x_spacing),\n",
    "#     #                     new_spacing=(1., 1., 1.),\n",
    "#     #                     order=1\n",
    "#     #                    )\n",
    "# if modality=='CTA':\n",
    "#     imgs = value_normalize(imgs, -100, 600)\n",
    "# else:\n",
    "#     imgs = pct_normalize(imgs, 1, 99)\n",
    "# try:\n",
    "#     x1, x2, y1, y2, z1, z2 = int(row['x1']), int(row['x2']), int(row['y1']), int(row['y2']), int(row['z1']), int(row['z2'])\n",
    "# except:\n",
    "#     x1, x2, y1, y2, z1, z2 = 0, 0, 0, 0, 0, 0\n",
    "# Z, H, W = imgs.shape\n",
    "# z_mid, h_mid, w_mid = Z//2, H//2, W//2\n",
    "# img = imgs[z_mid]\n",
    "# cv2.rectangle(img, (x1, y1), (x2, y2), 255, 2)\n",
    "# plt.figure(figsize=(5,5))\n",
    "# plt.imshow(img)\n",
    "# img = imgs[:,h_mid,:]\n",
    "# cv2.rectangle(img, (x1, z1), (x2, z2), 255, 2)\n",
    "# plt.figure(figsize=(5,5))\n",
    "# plt.imshow(img)\n",
    "# img = np.ascontiguousarray(imgs[:,:,w_mid])\n",
    "# cv2.rectangle(img, (y1, z1), (y2, z2), 255, 2)\n",
    "# plt.figure(figsize=(5,5))\n",
    "# plt.imshow(img)\n",
    "\n",
    "# files = Path('/kaggle/input/rsna2025-series-yolo-prediction/ens_out/overlays').glob(f'*/*/*/images/{sid}*')\n",
    "# for file in files:\n",
    "#     img = cv2.imread(file)\n",
    "#     plt.figure(figsize=(5,5))\n",
    "#     plt.imshow(img)"
   ]
  },
  {
   "cell_type": "code",
   "execution_count": 13,
   "id": "143887a6",
   "metadata": {
    "execution": {
     "iopub.execute_input": "2025-10-20T23:00:04.409391Z",
     "iopub.status.busy": "2025-10-20T23:00:04.408945Z",
     "iopub.status.idle": "2025-10-20T23:00:04.413777Z",
     "shell.execute_reply": "2025-10-20T23:00:04.412297Z"
    },
    "papermill": {
     "duration": 0.015364,
     "end_time": "2025-10-20T23:00:04.416116",
     "exception": false,
     "start_time": "2025-10-20T23:00:04.400752",
     "status": "completed"
    },
    "tags": []
   },
   "outputs": [],
   "source": [
    "# df_miss = df_seg.loc[df_seg['x1'].isna()&df_seg['y1'].isna()&df_seg['z1'].isna()].reset_index(drop=True)\n",
    "# df_miss"
   ]
  },
  {
   "cell_type": "code",
   "execution_count": null,
   "id": "138fbba5",
   "metadata": {
    "papermill": {
     "duration": 0.007515,
     "end_time": "2025-10-20T23:00:04.431561",
     "exception": false,
     "start_time": "2025-10-20T23:00:04.424046",
     "status": "completed"
    },
    "tags": []
   },
   "outputs": [],
   "source": []
  },
  {
   "cell_type": "code",
   "execution_count": null,
   "id": "4ce13d72",
   "metadata": {
    "papermill": {
     "duration": 0.007035,
     "end_time": "2025-10-20T23:00:04.445889",
     "exception": false,
     "start_time": "2025-10-20T23:00:04.438854",
     "status": "completed"
    },
    "tags": []
   },
   "outputs": [],
   "source": []
  }
 ],
 "metadata": {
  "kaggle": {
   "accelerator": "none",
   "dataSources": [
    {
     "databundleVersionId": 13851420,
     "sourceId": 99552,
     "sourceType": "competition"
    },
    {
     "datasetId": 8178911,
     "sourceId": 12925487,
     "sourceType": "datasetVersion"
    },
    {
     "datasetId": 8184998,
     "sourceId": 12934565,
     "sourceType": "datasetVersion"
    },
    {
     "datasetId": 8198385,
     "isSourceIdPinned": true,
     "sourceId": 12964800,
     "sourceType": "datasetVersion"
    },
    {
     "datasetId": 8211571,
     "sourceId": 12973967,
     "sourceType": "datasetVersion"
    },
    {
     "datasetId": 8212035,
     "sourceId": 12974708,
     "sourceType": "datasetVersion"
    },
    {
     "datasetId": 8278043,
     "sourceId": 13081495,
     "sourceType": "datasetVersion"
    },
    {
     "datasetId": 7979194,
     "sourceId": 13222199,
     "sourceType": "datasetVersion"
    },
    {
     "sourceId": 226368929,
     "sourceType": "kernelVersion"
    },
    {
     "sourceId": 259333705,
     "sourceType": "kernelVersion"
    }
   ],
   "dockerImageVersionId": 30918,
   "isGpuEnabled": false,
   "isInternetEnabled": true,
   "language": "python",
   "sourceType": "notebook"
  },
  "kernelspec": {
   "display_name": "Python 3",
   "language": "python",
   "name": "python3"
  },
  "language_info": {
   "codemirror_mode": {
    "name": "ipython",
    "version": 3
   },
   "file_extension": ".py",
   "mimetype": "text/x-python",
   "name": "python",
   "nbconvert_exporter": "python",
   "pygments_lexer": "ipython3",
   "version": "3.10.12"
  },
  "papermill": {
   "default_parameters": {},
   "duration": 47.083461,
   "end_time": "2025-10-20T23:00:06.380509",
   "environment_variables": {},
   "exception": null,
   "input_path": "__notebook__.ipynb",
   "output_path": "__notebook__.ipynb",
   "parameters": {},
   "start_time": "2025-10-20T22:59:19.297048",
   "version": "2.6.0"
  }
 },
 "nbformat": 4,
 "nbformat_minor": 5
}
